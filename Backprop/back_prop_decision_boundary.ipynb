{
 "cells": [
  {
   "cell_type": "code",
   "execution_count": 245,
   "metadata": {
    "collapsed": true
   },
   "outputs": [],
   "source": [
    "# import needed library\n",
    "import numpy as np\n",
    "import matplotlib.pyplot as plt\n",
    "from math import exp\n",
    "from random import seed\n",
    "from random import random\n",
    "%matplotlib inline"
   ]
  },
  {
   "cell_type": "code",
   "execution_count": 246,
   "metadata": {},
   "outputs": [],
   "source": [
    "# input training data\n",
    "data = np.loadtxt(\"HW6_data.txt\")\n",
    "label = np.zeros([400,1])\n",
    "dataset = np.zeros([400,3])\n",
    "dataset = data\n",
    "label = data[:,2]\n",
    "dataset = dataset.tolist()\n",
    "for n in dataset:\n",
    "    n[2]=int(n[2])"
   ]
  },
  {
   "cell_type": "code",
   "execution_count": 247,
   "metadata": {
    "collapsed": true
   },
   "outputs": [],
   "source": [
    "# Initialize a network\n",
    "def init_network(num_inputs, num_hidden, num_outputs):\n",
    "    network = list()\n",
    "    hidden_layer1 = [{'weights':[random() for i in range(num_inputs + 1)]} for i in range(num_hidden)]\n",
    "    network.append(hidden_layer1)\n",
    "    output_layer = [{'weights':[random() for i in range(num_hidden + 1)]} for i in range(num_outputs)]\n",
    "    network.append(output_layer)\n",
    "    return network"
   ]
  },
  {
   "cell_type": "code",
   "execution_count": 248,
   "metadata": {
    "collapsed": true
   },
   "outputs": [],
   "source": [
    "# Calculate neuron activation for an input\n",
    "def activate(weights, inputs):\n",
    "    activation = weights[-1]\n",
    "    for i in range(len(weights)-1):\n",
    "        activation += weights[i] * inputs[i]\n",
    "    return activation\n",
    "\n",
    "# Transfer neuron activation\n",
    "def sigmoid(activation):\n",
    "    return 1.0 / (1.0 + exp(-activation))"
   ]
  },
  {
   "cell_type": "code",
   "execution_count": 249,
   "metadata": {
    "collapsed": true
   },
   "outputs": [],
   "source": [
    "# Forward propagate input to a network output\n",
    "def forward_prop(network, row):\n",
    "    inputs = row\n",
    "    for layer in network:\n",
    "        new_inputs = []\n",
    "        for neuron in layer:\n",
    "            activation = activate(neuron['weights'], inputs)\n",
    "            neuron['output'] = sigmoid(activation)\n",
    "            new_inputs.append(neuron['output'])\n",
    "        inputs = new_inputs\n",
    "    return inputs\n",
    "\n",
    "# Calculate the derivative of an neuron output\n",
    "def transfer_derivative(output):\n",
    "    return output * (1.0 - output)"
   ]
  },
  {
   "cell_type": "code",
   "execution_count": 250,
   "metadata": {
    "collapsed": true
   },
   "outputs": [],
   "source": [
    "# Backpropagate error and store in neurons\n",
    "def backward_propagate_error(network, expected):\n",
    "    for i in reversed(range(len(network))):\n",
    "        layer = network[i]\n",
    "        errors = list()\n",
    "        if i != len(network)-1:\n",
    "            for j in range(len(layer)):\n",
    "                error = 0.0\n",
    "                for neuron in network[i + 1]:\n",
    "                    error += (neuron['weights'][j] * neuron['delta'])\n",
    "                errors.append(error)\n",
    "        else:\n",
    "            for j in range(len(layer)):\n",
    "                neuron = layer[j]\n",
    "                errors.append(expected[j] - neuron['output'])\n",
    "        for j in range(len(layer)):\n",
    "            neuron = layer[j]\n",
    "            neuron['delta'] = errors[j] * transfer_derivative(neuron['output'])"
   ]
  },
  {
   "cell_type": "code",
   "execution_count": 251,
   "metadata": {
    "collapsed": true
   },
   "outputs": [],
   "source": [
    "# Update network weights with error\n",
    "def update_weights(network, row, l_rate):\n",
    "    for i in range(len(network)):\n",
    "        inputs = row[:-1]\n",
    "        if i != 0:\n",
    "            inputs = [neuron['output'] for neuron in network[i - 1]]\n",
    "        for neuron in network[i]:\n",
    "            for j in range(len(inputs)):\n",
    "                neuron['weights'][j] += l_rate * neuron['delta'] * inputs[j]\n",
    "            neuron['weights'][-1] += l_rate * neuron['delta']\n",
    "\n",
    "# Train a network for a fixed number of epochs\n",
    "def train(network, train, l_rate, n_epoch, n_outputs):\n",
    "    for epoch in range(n_epoch):\n",
    "        sum_error = 0\n",
    "        for row in train:\n",
    "            outputs = forward_prop(network, row)\n",
    "            expected = [0 for i in range(n_outputs)]\n",
    "            expected[row[-1]] = 1\n",
    "            #print(expected)\n",
    "            sum_error += sum([(expected[i]-outputs[i])**2 for i in range(len(expected))])\n",
    "            backward_propagate_error(network, expected)\n",
    "            update_weights(network, row, l_rate)\n",
    "def test(network,row):\n",
    "    outputs = forward_prop(network,row)\n",
    "    return outputs.index(max(outputs))"
   ]
  },
  {
   "cell_type": "code",
   "execution_count": 252,
   "metadata": {
    "scrolled": true
   },
   "outputs": [
    {
     "name": "stdout",
     "output_type": "stream",
     "text": [
      "2\n",
      "[{'weights': [-6.784102502321102, 8.719109655975464, 7.809204321663589], 'output': 0.9999998757452325, 'delta': -2.9298392487367468e-09}, {'weights': [-6.469435459910137, 5.903924700279203, -5.024545255281076], 'output': 0.9036904794408426, 'delta': 0.0017851083822791485}]\n",
      "[{'weights': [9.092844828927333, -7.909929866179126, -5.213305104751814], 'output': 0.03669041842057237, 'delta': -0.001296794646770188}, {'weights': [-9.093832380865736, 7.910689530670016, 5.213864506821257], 'output': 0.9633187243515253, 'delta': 0.0012961607405302163}]\n"
     ]
    }
   ],
   "source": [
    "# Test training backprop algorithm\n",
    "seed(1)\n",
    "num_inputs = len(dataset[0]) - 1\n",
    "num_outputs = len(set([row[-1] for row in dataset]))\n",
    "print(num_outputs)\n",
    "network = initialize_network(2, 2, 2)\n",
    "train(network, dataset, 0.2, 500, num_outputs)\n",
    "layer1=[]\n",
    "for layer in network:\n",
    "    layer1.append(layer)\n",
    "    print(layer)"
   ]
  },
  {
   "cell_type": "code",
   "execution_count": 253,
   "metadata": {
    "collapsed": true
   },
   "outputs": [],
   "source": [
    "# Train a network for a fixed number of epochs\n",
    "def train_network(network, train, l_rate, n_epoch, n_outputs):\n",
    "    for epoch in range(n_epoch):\n",
    "        sum_error = 0\n",
    "        for row in train:\n",
    "            outputs = forward_propagate(network, row)\n",
    "            expected = [0 for i in range(n_outputs)]\n",
    "            expected[row[-1]] = 1\n",
    "            #print(expected)\n",
    "            sum_error += sum([(expected[i]-outputs[i])**2 for i in range(len(expected))])\n",
    "            backward_propagate_error(network, expected)\n",
    "            update_weights(network, row, l_rate)\n",
    "        #print('>epoch=%d, lrate=%.3f, error=%.3f' % (epoch, l_rate, sum_error))"
   ]
  },
  {
   "cell_type": "code",
   "execution_count": 260,
   "metadata": {},
   "outputs": [
    {
     "data": {
      "image/png": "[encoded data removed]",
      "text/plain": [
       "<matplotlib.figure.Figure at 0x120f9bf98>"
      ]
     },
     "metadata": {},
     "output_type": "display_data"
    },
    {
     "name": "stdout",
     "output_type": "stream",
     "text": [
      "y= 0.8957855644067059 x+ -0.851051717350572\n",
      "y= 0.8957855644067059 x- -0.851051717350572\n"
     ]
    }
   ],
   "source": [
    "# plot the boundary lines\n",
    "# plot training data\n",
    "for k in range(0,200):\n",
    "    plt.scatter(dataset[k][0],dataset[k][1],c='red')\n",
    "for l in range(200,400):\n",
    "    plt.scatter(dataset[l][0],dataset[l][1],c='blue')\n",
    "# plot boundary\n",
    "\n",
    "w2 = list(layer1[0][1].values())\n",
    "w21 = w2[0][0]\n",
    "w22 = w2[0][1]\n",
    "b2 = w2[0][2]\n",
    "x = np.arange(-2,2,0.1)\n",
    "y1 = x*(-w21/w22-0.2)+ b2/w12\n",
    "y2 = x*(-w21/w22-0.2)- b2/w22\n",
    "plt.title('training data and decision boundaries')\n",
    "plt.grid()\n",
    "plt.plot(x,y1,c='green')\n",
    "plt.plot(x,y2,c='green')\n",
    "plt.fill_between(x, y2, y1, y2 > y1, color='#ff0000', alpha=0.3)\n",
    "plt.show()\n",
    "print('y=',-w21/w22-0.2,'x+',b2/w12)\n",
    "print('y=',-w21/w22-0.2,'x-',b2/w12)"
   ]
  },
  {
   "cell_type": "code",
   "execution_count": 232,
   "metadata": {},
   "outputs": [
    {
     "data": {
      "image/png": "[encoded data removed]",
      "text/plain": [
       "<matplotlib.figure.Figure at 0x11fc79978>"
      ]
     },
     "metadata": {},
     "output_type": "display_data"
    }
   ],
   "source": [
    "#generate data \n",
    "mu_x = [1,-1]\n",
    "delta_x = 0.25\n",
    "mu_y = [1,-1]\n",
    "delta_y = 0.25 \n",
    "z=np.zeros([200,3])\n",
    "n=0\n",
    "plt.title('Self-Generated Testing Data')\n",
    "for i in range(2):\n",
    "    for j in range(2):\n",
    "        x = mu_x[i]+delta_x*np.random.randn(50) \n",
    "        y = mu_y[j]+delta_y*np.random.randn(50)\n",
    "        if mu_x[i]*mu_y[j] == 1:\n",
    "            plt.scatter(x,y,c = 'red')\n",
    "            z[n:n+50,0] = x\n",
    "            z[n:n+50,1] = y\n",
    "        if mu_x[i]*mu_y[j] == -1:\n",
    "            plt.scatter(x,y,c='blue')\n",
    "            z[n:n+50,0] = x\n",
    "            z[n:n+50,1] = y\n",
    "            z[n:n+50,2] = z[n:n+50,2]+1\n",
    "        n=n+50"
   ]
  },
  {
   "cell_type": "code",
   "execution_count": 233,
   "metadata": {},
   "outputs": [
    {
     "name": "stdout",
     "output_type": "stream",
     "text": [
      "Accuracy of Prediction:  98.5 %\n"
     ]
    }
   ],
   "source": [
    "# test generated data\n",
    "correct = 0\n",
    "wrong = 0\n",
    "for row in z:\n",
    "    determine = test(network,row)\n",
    "    if determine == row[-1]:\n",
    "        correct = correct+1\n",
    "    else:\n",
    "        wrong = wrong+1\n",
    "print('Accuracy of Prediction: ',100*correct/(wrong+correct),'%')"
   ]
  },
  {
   "cell_type": "code",
   "execution_count": 243,
   "metadata": {},
   "outputs": [
    {
     "name": "stdout",
     "output_type": "stream",
     "text": [
      "2\n",
      "[{'weights': [-4.635916588512111, 4.596172324983862, 3.313274101487022], 'output': 0.9999048932178135, 'delta': -2.049198362520636e-05}, {'weights': [-4.419093710246737, 4.291464331059066, -4.224290337916075], 'output': 0.798616086647715, 'delta': 0.03742957114160135}]\n",
      "[{'weights': [5.546873476865729, -5.991837801380351, -2.4857301732949293], 'output': 0.15262629555470245, 'delta': -0.019739389187370285}, {'weights': [-5.624264763663412, 6.088192684797404, 2.5165241117668615], 'output': 0.8513204767668707, 'delta': 0.018818950466554126}]\n"
     ]
    },
    {
     "data": {
      "image/png": "[encoded data removed]",
      "text/plain": [
       "<matplotlib.figure.Figure at 0x11d508748>"
      ]
     },
     "metadata": {},
     "output_type": "display_data"
    }
   ],
   "source": [
    "# choose 16 points for training\n",
    "p16 = np.zeros([16,3])\n",
    "p16 = [[0.258140455863934,0.567315287097103,0],\n",
    "       [0.734317095363312,1.3195912881375,0],\n",
    "       [0.592050478464416,1.19667090632313,0],\n",
    "       [0.699169771902131,0.433616111743741,0],\n",
    "      [-0.985097960238142, -1.12082573650756, 0],\n",
    "      [-1.38177934789019, -0.778890498143647, 0],\n",
    "      [-1.02250556227963, -0.793451426629458, 0],\n",
    "      [-0.674450149157024, -0.764088469196094, 0],\n",
    "      [0.426882921196544, -1.39040516540311, 1], \n",
    "       [0.745479567524074, -0.610730018707631, 1], \n",
    "       [0.427053593889095, -1.14155143108763, 1], \n",
    "       [0.564108502431285, -0.86010860171292, 1],\n",
    "      [-1.26109374697199, 0.860117010560185, 1], \n",
    "       [-0.780648589258112, 0.728503411389706, 1], \n",
    "       [-0.805034057569262, 0.963331827863979, 1], \n",
    "       [-0.694074012697457, 0.59385595699395, 1]]\n",
    "seed(1)\n",
    "num_inputs = len(p16[0]) - 1\n",
    "num_outputs = len(set([row[-1] for row in p16]))\n",
    "print(num_outputs)\n",
    "network = initialize_network(2, 2, 2)\n",
    "train(network, p16, 0.2, 500, num_outputs)\n",
    "layer1=[]\n",
    "for layer in network:\n",
    "    layer1.append(layer)\n",
    "    print(layer)\n",
    "    \n",
    "# plot the boundary lines\n",
    "# plot training data\n",
    "for k in range(0,8):\n",
    "    plt.scatter(p16[k][0],p16[k][1],c='red')\n",
    "for l in range(8,16):\n",
    "    plt.scatter(p16[l][0],p16[l][1],c='blue')\n",
    "# plot boundary\n",
    "\n",
    "w2 = list(layer1[0][1].values())\n",
    "w21 = w2[0][0]\n",
    "w22 = w2[0][1]\n",
    "b2 = w2[0][2]\n",
    "x = np.arange(-2,2,0.1)\n",
    "y1 = x*(-w21/w22)+ b2/w12\n",
    "y2 = x*(-w21/w22)- b2/w22\n",
    "plt.title('training data and decision boundaries')\n",
    "plt.grid()\n",
    "plt.plot(x,y1,c='green')\n",
    "plt.plot(x,y2,c='green')\n",
    "plt.fill_between(x, y2, y1, y2 > y1, color='#ff0000', alpha=0.3)\n",
    "plt.show()"
   ]
  },
  {
   "cell_type": "code",
   "execution_count": 244,
   "metadata": {},
   "outputs": [
    {
     "name": "stdout",
     "output_type": "stream",
     "text": [
      "1.0297402866112544\n"
     ]
    }
   ],
   "source": []
  },
  {
   "cell_type": "code",
   "execution_count": null,
   "metadata": {
    "collapsed": true
   },
   "outputs": [],
   "source": []
  }
 ],
 "metadata": {
  "kernelspec": {
   "display_name": "Python 3",
   "language": "python",
   "name": "python3"
  },
  "language_info": {
   "codemirror_mode": {
    "name": "ipython",
    "version": 3
   },
   "file_extension": ".py",
   "mimetype": "text/x-python",
   "name": "python",
   "nbconvert_exporter": "python",
   "pygments_lexer": "ipython3",
   "version": "3.6.1"
  }
 },
 "nbformat": 4,
 "nbformat_minor": 2
}
