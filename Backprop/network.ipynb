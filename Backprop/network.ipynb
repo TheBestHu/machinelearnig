{
 "cells": [
  {
   "cell_type": "code",
   "execution_count": 237,
   "metadata": {
    "collapsed": true
   },
   "outputs": [],
   "source": [
    "import numpy as np\n",
    "import matplotlib\n",
    "import math \n",
    "from random import seed\n",
    "from matplotlib import pyplot as plt\n",
    "%matplotlib inline"
   ]
  },
  {
   "cell_type": "code",
   "execution_count": 238,
   "metadata": {
    "collapsed": true
   },
   "outputs": [],
   "source": [
    "data = np.loadtxt(\"HW6_data.txt\")\n",
    "label = np.zeros([400,1])\n",
    "dataset = np.zeros([400,2])\n",
    "dataset = data[:,0:2]\n",
    "label = data[:,2]"
   ]
  },
  {
   "cell_type": "code",
   "execution_count": 239,
   "metadata": {
    "collapsed": true
   },
   "outputs": [],
   "source": [
    "# initial network structure with one hidden layer\n",
    "# initial weights\n",
    "def init_network(num_inputs,num_hidden,num_outputs):\n",
    "    num_inputs = num_inputs\n",
    "    num_hidden = num_hidden\n",
    "    num_outputs = num_outputs\n",
    "    # weights for 1 hidden layer\n",
    "    wi = np.random.rand(num_inputs,num_hidden)\n",
    "    wh = np.random.rand(num_hidden,num_outputs)\n",
    "    bi = np.random.rand(1,2)\n",
    "    bh = np.random.random()\n",
    "    return wi,wh,bi,bh\n",
    "# transfer activation to class use sigmoid function\n",
    "def sigmoid(output):\n",
    "    return 1.0/(1.0+np.exp(-output))\n",
    "def sigmoid_dev(output):\n",
    "    return output*(1-output)"
   ]
  },
  {
   "cell_type": "code",
   "execution_count": 245,
   "metadata": {},
   "outputs": [],
   "source": [
    "# forward propagation\n",
    "def forward(inputs,num_hidden,num_outputs,wi,wh,bi,bh):\n",
    "    layer_1 = np.zeros([1,num_hidden])\n",
    "    layer_2 = np.zeros([1,num_outputs])\n",
    "    #calculate layer 1 and layer 2 out put\n",
    "    layer_1 = inputs@wi+bi\n",
    "    l1_out = layer_1\n",
    "    layer_2 = l1_out@wh+bh\n",
    "    l2_out = sigmoid(layer_2)\n",
    "    return l1_out,layer_2\n",
    "# back propagation\n",
    "def backprop(l1_out,l2_out,label,learning_rate,wi,wh,bi,bh):\n",
    "    l1_dev = sigmoid_dev(l1_out) # 1*2\n",
    "    l2_dev = sigmoid_dev(l2_out) # 1*1\n",
    "    error = l2_out-label\n",
    "    wh = wh + learning_rate*l2_dev*l2_out\n",
    "    bh = bh + learning_rate*l2_dev*l2_out\n",
    "    wi = wi + learning_rate*l1_dev*l1_out\n",
    "    bi = bi + learning_rate*l1_dev*l1_out\n",
    "    return wi,bi,wh,bh"
   ]
  },
  {
   "cell_type": "code",
   "execution_count": 246,
   "metadata": {},
   "outputs": [
    {
     "name": "stdout",
     "output_type": "stream",
     "text": [
      "weight of input [[ 0.61714491  0.3266449 ]\n",
      " [ 0.5270581   0.8859421 ]] weight of hidden: [[ 0.35726976]\n",
      " [ 0.90853515]] bias of input [[ 0.62336012  0.01582124]] bias of hidden 0.9294372337437613\n"
     ]
    },
    {
     "name": "stderr",
     "output_type": "stream",
     "text": [
      "/anaconda/lib/python3.6/site-packages/ipykernel_launcher.py:15: RuntimeWarning: overflow encountered in exp\n",
      "  from ipykernel import kernelapp as app\n",
      "/anaconda/lib/python3.6/site-packages/ipykernel_launcher.py:16: RuntimeWarning: overflow encountered in multiply\n",
      "  app.launch_new_instance()\n",
      "/anaconda/lib/python3.6/site-packages/ipykernel_launcher.py:17: RuntimeWarning: overflow encountered in multiply\n",
      "/anaconda/lib/python3.6/site-packages/ipykernel_launcher.py:16: RuntimeWarning: invalid value encountered in add\n",
      "  app.launch_new_instance()\n",
      "/anaconda/lib/python3.6/site-packages/ipykernel_launcher.py:17: RuntimeWarning: invalid value encountered in add\n",
      "/anaconda/lib/python3.6/site-packages/ipykernel_launcher.py:18: RuntimeWarning: overflow encountered in multiply\n",
      "/anaconda/lib/python3.6/site-packages/ipykernel_launcher.py:19: RuntimeWarning: overflow encountered in multiply\n",
      "/anaconda/lib/python3.6/site-packages/ipykernel_launcher.py:18: RuntimeWarning: invalid value encountered in add\n",
      "/anaconda/lib/python3.6/site-packages/ipykernel_launcher.py:19: RuntimeWarning: invalid value encountered in add\n",
      "/anaconda/lib/python3.6/site-packages/ipykernel_launcher.py:6: RuntimeWarning: invalid value encountered in add\n",
      "  \n"
     ]
    }
   ],
   "source": [
    "epoch = 200\n",
    "num_hidden=2\n",
    "num_inputs=2\n",
    "num_outputs=1\n",
    "learning_rate = 0.2\n",
    "wi,wh,bi,bh = init_network(num_inputs,num_hidden,num_outputs)\n",
    "print('weight of input',wi,'weight of hidden:',wh,'bias of input',bi,'bias of hidden',bh)\n",
    "for n in range(400):\n",
    "    for i in range(epoch):\n",
    "        l1_out,l2_out = forward(dataset[n,:].reshape(1,2),num_hidden,num_outputs,wi,wh,bi,bh)\n",
    "        wi,bi,wh,bh = backprop(l1_out,l2_out,label[n],learning_rate,wi,wh,bi,bh)"
   ]
  },
  {
   "cell_type": "code",
   "execution_count": 247,
   "metadata": {},
   "outputs": [
    {
     "name": "stdout",
     "output_type": "stream",
     "text": [
      "0\n",
      "1\n"
     ]
    },
    {
     "ename": "ValueError",
     "evalue": "shapes (2,2) and (1,2) not aligned: 2 (dim 1) != 1 (dim 0)",
     "output_type": "error",
     "traceback": [
      "\u001b[0;31m---------------------------------------------------------------------------\u001b[0m",
      "\u001b[0;31mValueError\u001b[0m                                Traceback (most recent call last)",
      "\u001b[0;32m<ipython-input-247-cfa306ba3778>\u001b[0m in \u001b[0;36m<module>\u001b[0;34m()\u001b[0m\n\u001b[1;32m      7\u001b[0m \u001b[0;32mfor\u001b[0m \u001b[0mn\u001b[0m \u001b[0;32min\u001b[0m \u001b[0mrange\u001b[0m\u001b[0;34m(\u001b[0m\u001b[0;36m400\u001b[0m\u001b[0;34m)\u001b[0m\u001b[0;34m:\u001b[0m\u001b[0;34m\u001b[0m\u001b[0m\n\u001b[1;32m      8\u001b[0m     \u001b[0mprint\u001b[0m\u001b[0;34m(\u001b[0m\u001b[0mn\u001b[0m\u001b[0;34m)\u001b[0m\u001b[0;34m\u001b[0m\u001b[0m\n\u001b[0;32m----> 9\u001b[0;31m     \u001b[0ml1_out\u001b[0m\u001b[0;34m,\u001b[0m \u001b[0ml2_layer\u001b[0m \u001b[0;34m=\u001b[0m \u001b[0mforward\u001b[0m\u001b[0;34m(\u001b[0m\u001b[0mdataset\u001b[0m\u001b[0;34m[\u001b[0m\u001b[0mn\u001b[0m\u001b[0;34m,\u001b[0m\u001b[0;34m:\u001b[0m\u001b[0;34m]\u001b[0m\u001b[0;34m.\u001b[0m\u001b[0mreshape\u001b[0m\u001b[0;34m(\u001b[0m\u001b[0;36m1\u001b[0m\u001b[0;34m,\u001b[0m\u001b[0;36m2\u001b[0m\u001b[0;34m)\u001b[0m\u001b[0;34m,\u001b[0m\u001b[0mnum_hidden\u001b[0m\u001b[0;34m,\u001b[0m\u001b[0mnum_outputs\u001b[0m\u001b[0;34m,\u001b[0m\u001b[0mwi\u001b[0m\u001b[0;34m,\u001b[0m\u001b[0mwh\u001b[0m\u001b[0;34m,\u001b[0m\u001b[0mbi\u001b[0m\u001b[0;34m,\u001b[0m\u001b[0mbh\u001b[0m\u001b[0;34m)\u001b[0m\u001b[0;34m\u001b[0m\u001b[0m\n\u001b[0m\u001b[1;32m     10\u001b[0m     \u001b[0mwi\u001b[0m\u001b[0;34m,\u001b[0m\u001b[0mwh\u001b[0m\u001b[0;34m,\u001b[0m\u001b[0mbi\u001b[0m\u001b[0;34m,\u001b[0m\u001b[0mbh\u001b[0m \u001b[0;34m=\u001b[0m \u001b[0mbackprop\u001b[0m\u001b[0;34m(\u001b[0m\u001b[0ml1_out\u001b[0m\u001b[0;34m,\u001b[0m\u001b[0msigmoid\u001b[0m\u001b[0;34m(\u001b[0m\u001b[0ml2_layer\u001b[0m\u001b[0;34m)\u001b[0m\u001b[0;34m,\u001b[0m\u001b[0mlabel\u001b[0m\u001b[0;34m,\u001b[0m\u001b[0mlearning_rate\u001b[0m\u001b[0;34m,\u001b[0m\u001b[0mwi\u001b[0m\u001b[0;34m,\u001b[0m\u001b[0mwh\u001b[0m\u001b[0;34m,\u001b[0m\u001b[0mbi\u001b[0m\u001b[0;34m,\u001b[0m\u001b[0mbh\u001b[0m\u001b[0;34m)\u001b[0m\u001b[0;34m\u001b[0m\u001b[0m\n",
      "\u001b[0;32m<ipython-input-245-971d6abe0b53>\u001b[0m in \u001b[0;36mforward\u001b[0;34m(inputs, num_hidden, num_outputs, wi, wh, bi, bh)\u001b[0m\n\u001b[1;32m      6\u001b[0m     \u001b[0mlayer_1\u001b[0m \u001b[0;34m=\u001b[0m \u001b[0minputs\u001b[0m\u001b[0;34m@\u001b[0m\u001b[0mwi\u001b[0m\u001b[0;34m+\u001b[0m\u001b[0mbi\u001b[0m\u001b[0;34m\u001b[0m\u001b[0m\n\u001b[1;32m      7\u001b[0m     \u001b[0ml1_out\u001b[0m \u001b[0;34m=\u001b[0m \u001b[0mlayer_1\u001b[0m\u001b[0;34m\u001b[0m\u001b[0m\n\u001b[0;32m----> 8\u001b[0;31m     \u001b[0mlayer_2\u001b[0m \u001b[0;34m=\u001b[0m \u001b[0ml1_out\u001b[0m\u001b[0;34m@\u001b[0m\u001b[0mwh\u001b[0m\u001b[0;34m+\u001b[0m\u001b[0mbh\u001b[0m\u001b[0;34m\u001b[0m\u001b[0m\n\u001b[0m\u001b[1;32m      9\u001b[0m     \u001b[0ml2_out\u001b[0m \u001b[0;34m=\u001b[0m \u001b[0msigmoid\u001b[0m\u001b[0;34m(\u001b[0m\u001b[0mlayer_2\u001b[0m\u001b[0;34m)\u001b[0m\u001b[0;34m\u001b[0m\u001b[0m\n\u001b[1;32m     10\u001b[0m     \u001b[0;32mreturn\u001b[0m \u001b[0ml1_out\u001b[0m\u001b[0;34m,\u001b[0m\u001b[0mlayer_2\u001b[0m\u001b[0;34m\u001b[0m\u001b[0m\n",
      "\u001b[0;31mValueError\u001b[0m: shapes (2,2) and (1,2) not aligned: 2 (dim 1) != 1 (dim 0)"
     ]
    }
   ],
   "source": [
    "epoch = 200\n",
    "num_hidden=2\n",
    "num_inputs=2\n",
    "num_outputs=1\n",
    "learning_rate = 0.2\n",
    "wi,wh,bi,bh = init_network(num_inputs,num_hidden,num_outputs)\n",
    "for n in range(400):\n",
    "    print(n)\n",
    "    l1_out, l2_layer = forward(dataset[n,:].reshape(1,2),num_hidden,num_outputs,wi,wh,bi,bh)\n",
    "    wi,wh,bi,bh = backprop(l1_out,sigmoid(l2_layer),label,learning_rate,wi,wh,bi,bh)"
   ]
  },
  {
   "cell_type": "code",
   "execution_count": null,
   "metadata": {
    "collapsed": true
   },
   "outputs": [],
   "source": []
  }
 ],
 "metadata": {
  "kernelspec": {
   "display_name": "Python 3",
   "language": "python",
   "name": "python3"
  },
  "language_info": {
   "codemirror_mode": {
    "name": "ipython",
    "version": 3
   },
   "file_extension": ".py",
   "mimetype": "text/x-python",
   "name": "python",
   "nbconvert_exporter": "python",
   "pygments_lexer": "ipython3",
   "version": "3.6.1"
  }
 },
 "nbformat": 4,
 "nbformat_minor": 2
}
