{
 "cells": [
  {
   "cell_type": "code",
   "execution_count": 80,
   "metadata": {
    "collapsed": true
   },
   "outputs": [],
   "source": [
    "#load necessary library\n",
    "import numpy as np\n",
    "import matplotlib\n",
    "from matplotlib import pyplot as plt\n",
    "from numpy import linalg\n",
    "%matplotlib inline"
   ]
  },
  {
   "cell_type": "code",
   "execution_count": 81,
   "metadata": {
    "collapsed": true
   },
   "outputs": [],
   "source": [
    "#generate data \n",
    "with open('RedWine_HW7.txt','r') as f:\n",
    "    features = []\n",
    "    lines=f.readline()\n",
    "    featues = lines.split(';')\n",
    "    for i in range(13):\n",
    "        features.append(featues[i]) \n",
    "r_data = np.genfromtxt('RedWine_HW7.txt',skip_header=1)\n",
    "w_data = np.genfromtxt('WhiteWine_HW7.txt',skip_header=1)"
   ]
  },
  {
   "cell_type": "code",
   "execution_count": 82,
   "metadata": {},
   "outputs": [],
   "source": [
    "#scalar data\n",
    "#for n in range(13):\n",
    "   # max_r = max(r_data[:,n])\n",
    "   # min_r = min(r_data[:,n])\n",
    "   # max_w = max(w_data[:,n])\n",
    "   # min_w = max(w_data[:,n])\n",
    "   # r_data[:,n] = (r_data[:,n]-min_r)/max_r\n",
    "   # w_data[:,n] = (w_data[:,n]-min_w)/max_w"
   ]
  },
  {
   "cell_type": "code",
   "execution_count": 83,
   "metadata": {
    "collapsed": true
   },
   "outputs": [],
   "source": [
    "# the first and second row storage the within group variance of each feature \n",
    "# the third row storage the between group variance of each feature\n",
    "operator = np.zeros([3,13])\n",
    "rdata = r_data\n",
    "wdata = w_data\n",
    "for i in range(13):\n",
    "    # caculate the within group variance  c1=red wine   c2 = white wine\n",
    "    c1 = np.cov(rdata[:,i])\n",
    "    c2 = np.cov(wdata[:,i])\n",
    "    #place the within variance into matrix\n",
    "    operator[0,i] = c1\n",
    "    operator[1,i] = c2\n",
    "    #compute between variance of each feature of wine\n",
    "    mu0 = (sum(rdata[:,i])+sum(wdata[:,i]))/(4898+1599)\n",
    "    #print('mu0',mu0)\n",
    "    s1 = 1599/(1599+4898)*(np.mean(rdata[:,i])-mu0)*(np.mean(rdata[:,i])-mu0)\n",
    "    #print(np.mean(rdata[:,i]))\n",
    "    s2 = 4898/(1599+4898)*(np.mean(wdata[:,i])-mu0)*(np.mean(wdata[:,i])-mu0)\n",
    "    #print((np.mean(wdata[:,i])-mu0)*(np.mean(wdata[:,i])-mu0))\n",
    "    Sb = s1 + s2\n",
    "    #print(Sb)\n",
    "    #storage s1 and s2 into operator\n",
    "    operator[2,i] = Sb"
   ]
  },
  {
   "cell_type": "code",
   "execution_count": 84,
   "metadata": {
    "collapsed": true
   },
   "outputs": [],
   "source": [
    "#use Backward Feature Selection to select the best features\n",
    "def BFS(covariance_matrix):\n",
    "    dl = covariance_matrix\n",
    "    best_list=[]\n",
    "    dlist = [0,1,2,3,4,5,6,7,8,9,10,11,12]\n",
    "    cv = dl\n",
    "    trace_ratio=[]\n",
    "    ratio=[]\n",
    "    for n in range(13):\n",
    "        NumFeatures = n+1\n",
    "        ratio.clear()\n",
    "        for m in range(13-n):\n",
    "            mum = sum(sum(cv[0,[best_list+[dlist[m]]]])+sum(cv[1,[best_list+[dlist[m]]]]))\n",
    "            child = sum(sum(cv[2,[best_list+[dlist[m]]]]))\n",
    "            ratio.append(child/mum)\n",
    "        #print(ratio,n)\n",
    "        BestValue = max(ratio)\n",
    "        Position = ratio.index(BestValue)\n",
    "        best_list.append(dlist[Position])\n",
    "        np.delete(cv,dlist[Position],1)\n",
    "        del dlist[Position]\n",
    "        trace_ratio.append(BestValue)\n",
    "    return trace_ratio,best_list\n",
    "\n",
    "#Forward feature selection\n",
    "def FFS(covariance_matrix):\n",
    "    dl = covariance_matrix\n",
    "    cv = dl\n",
    "    data_list = [0,1,2,3,4,5,6,7,8,9,10,11,12]\n",
    "    remove_list = []\n",
    "    trace_ratio = []\n",
    "    x=[]\n",
    "    previous_ratio = sum(dl[2,:])/(sum(dl[0,:])+sum(dl[1,:]))\n",
    "    for n in range(13):\n",
    "        trace_ratio.clear()\n",
    "        for i in range(13-n):\n",
    "            test_list = list(data_list)\n",
    "            if len(test_list)==1:\n",
    "                return x\n",
    "            else:\n",
    "                del test_list[i]\n",
    "                mum = sum(sum(cv[0,[test_list]])+sum(cv[1,[test_list]]))\n",
    "                child = sum(cv[2,[test_list]].T)\n",
    "                trace_ratio.append(child/mum)\n",
    "        RemoveValue = max(trace_ratio)\n",
    "        x.append(RemoveValue)\n",
    "        position = trace_ratio.index(RemoveValue)\n",
    "        remove_list.append(data_list[position])\n",
    "        del data_list[position]\n",
    "        previous_ratio = trace_ratio[position]\n",
    "        print(remove_list)\n",
    "    return x"
   ]
  },
  {
   "cell_type": "code",
   "execution_count": 85,
   "metadata": {
    "scrolled": true
   },
   "outputs": [
    {
     "name": "stdout",
     "output_type": "stream",
     "text": [
      "[6, 7, 4, 1, 9, 8, 2, 12, 11, 10, 0, 3, 5]\n"
     ]
    },
    {
     "data": {
      "image/png": "[encoded data removed]",
      "text/plain": [
       "<matplotlib.figure.Figure at 0x10edc9400>"
      ]
     },
     "metadata": {},
     "output_type": "display_data"
    }
   ],
   "source": [
    "trace,best_list = BFS(operator)\n",
    "plt.title('Backward Feature Selection')\n",
    "plt.plot(trace)\n",
    "plt.scatter(trace.index(max(trace)),max(trace))\n",
    "print(best_list)"
   ]
  },
  {
   "cell_type": "code",
   "execution_count": 86,
   "metadata": {},
   "outputs": [
    {
     "name": "stdout",
     "output_type": "stream",
     "text": [
      "[5]\n",
      "[5, 3]\n",
      "[5, 3, 0]\n",
      "[5, 3, 0, 10]\n",
      "[5, 3, 0, 10, 11]\n",
      "[5, 3, 0, 10, 11, 12]\n",
      "[5, 3, 0, 10, 11, 12, 2]\n",
      "[5, 3, 0, 10, 11, 12, 2, 8]\n",
      "[5, 3, 0, 10, 11, 12, 2, 8, 9]\n",
      "[5, 3, 0, 10, 11, 12, 2, 8, 9, 1]\n",
      "[5, 3, 0, 10, 11, 12, 2, 8, 9, 1, 4]\n",
      "[5, 3, 0, 10, 11, 12, 2, 8, 9, 1, 4, 7]\n"
     ]
    },
    {
     "data": {
      "text/plain": [
       "[<matplotlib.lines.Line2D at 0x111f37b38>]"
      ]
     },
     "execution_count": 86,
     "metadata": {},
     "output_type": "execute_result"
    },
    {
     "data": {
      "image/png": "[encoded data removed]",
      "text/plain": [
       "<matplotlib.figure.Figure at 0x11131b320>"
      ]
     },
     "metadata": {},
     "output_type": "display_data"
    }
   ],
   "source": [
    "x= FFS(operator)\n",
    "plt.title('Forward Feature Selection')\n",
    "plt.plot(x)"
   ]
  },
  {
   "cell_type": "code",
   "execution_count": null,
   "metadata": {
    "collapsed": true
   },
   "outputs": [],
   "source": []
  },
  {
   "cell_type": "code",
   "execution_count": null,
   "metadata": {
    "collapsed": true
   },
   "outputs": [],
   "source": []
  }
 ],
 "metadata": {
  "kernelspec": {
   "display_name": "Python 3",
   "language": "python",
   "name": "python3"
  },
  "language_info": {
   "codemirror_mode": {
    "name": "ipython",
    "version": 3
   },
   "file_extension": ".py",
   "mimetype": "text/x-python",
   "name": "python",
   "nbconvert_exporter": "python",
   "pygments_lexer": "ipython3",
   "version": "3.6.1"
  }
 },
 "nbformat": 4,
 "nbformat_minor": 2
}
