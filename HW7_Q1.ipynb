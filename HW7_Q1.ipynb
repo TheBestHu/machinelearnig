{
 "cells": [
  {
   "cell_type": "markdown",
   "metadata": {},
   "source": [
    "# Homework7_Q1\n",
    "YangBai \n",
    "\n",
    "UFID: 43881346"
   ]
  },
  {
   "cell_type": "code",
   "execution_count": 204,
   "metadata": {
    "collapsed": true
   },
   "outputs": [],
   "source": [
    "#Import needed python libraries\n",
    "import numpy as np\n",
    "import matplotlib\n",
    "import matplotlib.pyplot as plt\n",
    "%matplotlib inline \n",
    "import math \n",
    "import textwrap\n",
    "from sklearn import preprocessing"
   ]
  },
  {
   "cell_type": "code",
   "execution_count": 205,
   "metadata": {
    "collapsed": true
   },
   "outputs": [],
   "source": [
    "#Read dataset\n",
    "f_white = open('WhiteWine_HW7.txt','r')\n",
    "data_white = f_white.read()\n",
    "f_red = open('RedWine_HW7.txt','r')\n",
    "data_red = f_red.read()\n",
    "f_white.close()\n",
    "f_red.close()"
   ]
  },
  {
   "cell_type": "code",
   "execution_count": 206,
   "metadata": {
    "collapsed": true
   },
   "outputs": [],
   "source": [
    "#Data preprocessing\n",
    "#Split data\n",
    "WhiteWine_data = []\n",
    "RedWine_data = []\n",
    "\n",
    "#Split between lines\n",
    "Lines_white = data_white.split('\\n')\n",
    "Lines_red   = data_red.split('\\n')\n",
    "\n",
    "#Split between datas in each line\n",
    "for Line in Lines_white:\n",
    "    data_in_line = Line.split()\n",
    "    WhiteWine_data.append(data_in_line)\n",
    "    \n",
    "for Line in Lines_red:\n",
    "    data_in_line = Line.split()\n",
    "    RedWine_data.append(data_in_line)\n",
    "\n",
    "# Remove title\n",
    "WhiteWine_data = WhiteWine_data[1:]\n",
    "RedWine_data   = RedWine_data[1:]\n",
    "\n",
    "#Remove spacelines\n",
    "WhiteWine_data = list(filter(None, WhiteWine_data))\n",
    "RedWine_data   = list(filter(None, RedWine_data))\n",
    "\n",
    "#Transfer datatype as float point\n",
    "WhiteWine_data = [list(map(float, x)) for x in WhiteWine_data]\n",
    "RedWine_data   = [list(map(float, x)) for x in RedWine_data]\n",
    "\n",
    "# Convert to numpy array\n",
    "entire_WhiteWine_data = np.array(WhiteWine_data)\n",
    "entire_RedWine_data   = np.array(RedWine_data)\n",
    "entire_global = np.concatenate((entire_WhiteWine_data, entire_RedWine_data), axis=0)"
   ]
  },
  {
   "cell_type": "code",
   "execution_count": 207,
   "metadata": {
    "collapsed": true
   },
   "outputs": [],
   "source": [
    "#New notation for original dataset\n",
    "X_0 = entire_WhiteWine_data\n",
    "X_1 = entire_RedWine_data\n",
    "S = X_0[:,0].size #Number of rows in the dataset"
   ]
  },
  {
   "cell_type": "code",
   "execution_count": 208,
   "metadata": {
    "collapsed": true
   },
   "outputs": [],
   "source": [
    "def FisherDiscriminantRatio(X_0, X_1):\n",
    "    #setting regularization parameter\n",
    "    lamb = 0.3\n",
    "    \n",
    "    Mu_0 = X_0.mean(axis = 0)\n",
    "    Mu_1 = X_1.mean(axis = 0)\n",
    "    N_0 = X_0 - Mu_0\n",
    "    N_1 = X_1 - Mu_1\n",
    "\n",
    "    #Compute the covaiance of training_data\n",
    "    Cov_0 = (N_0.transpose()@X_0)/(N_0.shape[0])\n",
    "    Cov_1 = (N_1.transpose()@X_1)/(N_1.shape[0])\n",
    "    \n",
    "    #Compute the global covariance of the two classes' dataset\n",
    "    X_global   = np.concatenate((X_0, X_1), axis=0)\n",
    "    Mu_global = X_global.mean(axis = 0)\n",
    "    N_global = X_global - Mu_global\n",
    "    Cov_global = (N_global.transpose()@N_global)/(N_global.shape[0])\n",
    "    \n",
    "    #Compute the Fisher Discriminant Ratio\n",
    "    Sm      = Cov_global\n",
    "    if X_0.size == S: #When there is only one colnmn in the updated dataset, the Cov_0 and Cov_1 are two real numbers\n",
    "        Sw      = Cov_0 + Cov_1\n",
    "        temp    = 1/Sw\n",
    "        F_ratio = Sm * temp\n",
    "    else: #When there are more than one colnmn in the updated dataset, the Cov_0 and Cov_1 are two square matrices\n",
    "        Sw      = Cov_0 + Cov_1 + lamb * np.identity(X_0.shape[1])\n",
    "        temp    = np.linalg.inv(Sw)\n",
    "        F_ratio = np.trace(Sm @ temp)\n",
    "    \n",
    "    return F_ratio"
   ]
  },
  {
   "cell_type": "markdown",
   "metadata": {},
   "source": [
    "# Forward Feature Selection(FFS)"
   ]
  },
  {
   "cell_type": "code",
   "execution_count": 209,
   "metadata": {
    "collapsed": true
   },
   "outputs": [],
   "source": [
    "def FFS(X_0, X_1, New_0, New_1):\n",
    "    F_max = 0\n",
    "    i_max = 0\n",
    "    \n",
    "    #Traverse the updated dataset to find the best feature\n",
    "    for i in range(0, X_0.shape[1]):\n",
    "        #Assign the new datasets to temporary matrices A_0 and A_1\n",
    "        A_0 = New_0\n",
    "        A_1 = New_1\n",
    "\n",
    "        #Concatenate ith column of updated dataset to A_0 and A_1\n",
    "        A_0 = np.concatenate((A_0, X_0[:,i:i+1]), axis=1)\n",
    "        A_1 = np.concatenate((A_1, X_1[:,i:i+1]), axis=1)\n",
    "        \n",
    "        #Delete the first column of A_0 and A_1 because it was initialized as zeros\n",
    "        A_0 = np.delete(A_0, 0, 1)\n",
    "        A_1 = np.delete(A_1, 0, 1)\n",
    "\n",
    "        F = FisherDiscriminantRatio(A_0, A_1)\n",
    "\n",
    "        #Find the feature of the updated dataset that affect performence the most\n",
    "        if F > F_max:\n",
    "            F_max = F\n",
    "            i_max = i\n",
    "                \n",
    "    return F_max, i_max"
   ]
  },
  {
   "cell_type": "code",
   "execution_count": 210,
   "metadata": {
    "collapsed": true
   },
   "outputs": [],
   "source": [
    "#Initialize parameters\n",
    "New_0 = np.zeros((X_0.shape[0],1))\n",
    "New_1 = np.zeros((X_1.shape[0],1))\n",
    "Fisher_Ratio = [3] #This number is used to adjust the final plot\n",
    "\n",
    "while X_0.size >= S:\n",
    "    F,i = FFS(X_0, X_1, New_0, New_1)\n",
    "    Fisher_Ratio.append(F)\n",
    "    #Add the selected feature to the new datasets.\n",
    "    New_0 = np.concatenate((New_0, X_0[:,i:i+1]), axis=1)\n",
    "    New_1 = np.concatenate((New_1, X_1[:,i:i+1]), axis=1)\n",
    "    #Update the datasets by removing the selected feature\n",
    "    X_0 = np.delete(X_0, i, 1)\n",
    "    X_1 = np.delete(X_1, i, 1)\n",
    "    #N_global = np.delete(N_global, i, 1)"
   ]
  },
  {
   "cell_type": "code",
   "execution_count": 211,
   "metadata": {
    "collapsed": true
   },
   "outputs": [],
   "source": [
    "#Records the Fisher Ratios \n",
    "NewFeatureSet_0 = np.delete(New_0, 0, 1)\n",
    "NewFeatureSet_1 = np.delete(New_1, 0, 1)"
   ]
  },
  {
   "cell_type": "code",
   "execution_count": 212,
   "metadata": {},
   "outputs": [
    {
     "data": {
      "text/plain": [
       "<matplotlib.text.Text at 0x112a735f8>"
      ]
     },
     "execution_count": 212,
     "metadata": {},
     "output_type": "execute_result"
    },
    {
     "data": {
      "image/png": "[encoded data removed]",
      "text/plain": [
       "<matplotlib.figure.Figure at 0x1123a9b00>"
      ]
     },
     "metadata": {},
     "output_type": "display_data"
    }
   ],
   "source": [
    "plt.xlim(1,13)\n",
    "p1 = plt.plot(Fisher_Ratio, 'r')\n",
    "#add legend and title\n",
    "plt.rcParams[\"axes.titlesize\"] = 10\n",
    "plt.title('FFS');\n",
    "plt.ylabel('Fisher Ratio') #label x and y axes\n",
    "plt.xlabel('Number of Features')"
   ]
  },
  {
   "cell_type": "markdown",
   "metadata": {},
   "source": [
    "# Backward Feature Selection(BFS)"
   ]
  },
  {
   "cell_type": "code",
   "execution_count": 213,
   "metadata": {
    "collapsed": true
   },
   "outputs": [],
   "source": [
    "def BFS(X_0, X_1): \n",
    "    F1 = FisherDiscriminantRatio(X_0, X_1)\n",
    "    D_min = 100\n",
    "    i_max = 0\n",
    "    \n",
    "    #Traverse the updated dataset to find the best feature\n",
    "    for i in range(0, X_0.shape[1]):  \n",
    "        #Assign the updated datasets to temporary matrices A_0 and A_1\n",
    "        A_0 = X_0\n",
    "        A_1 = X_1\n",
    "        #Delet the ith column from A_0 and A_1\n",
    "        A_0 = np.delete(A_0, i, 1)\n",
    "        A_1 = np.delete(A_1, i, 1)\n",
    "        F2 = FisherDiscriminantRatio(A_0, A_1,)\n",
    "        D = F1 - F2\n",
    "        #Find the feature of the updated dataset that affects the performence the most\n",
    "        if D < D_min:\n",
    "            D_min = D\n",
    "            i_min = i\n",
    "    return F1, i_min"
   ]
  },
  {
   "cell_type": "code",
   "execution_count": 214,
   "metadata": {
    "collapsed": true
   },
   "outputs": [],
   "source": [
    "X_0 = entire_WhiteWine_data\n",
    "X_1 = entire_RedWine_data\n",
    "S = X_0[:,0].size #Number of rows in the dataset\n",
    "\n",
    "new_0 = np.zeros((X_0.shape[0],1))\n",
    "new_1 = np.zeros((X_1.shape[0],1))\n",
    "Fisher_Ratio = []\n",
    "\n",
    "while X_0.size >= S:\n",
    "    F,i = BFS(X_0, X_1)\n",
    "    #Records the Fisher Ratios after each optimize step\n",
    "    Fisher_Ratio.append(F)\n",
    "    #Constuct the newdataset by adding the seleted features sequentially\n",
    "    new_0 = np.concatenate((new_0, X_0[:,i:i+1]), axis=1)\n",
    "    new_1 = np.concatenate((new_1, X_1[:,i:i+1]), axis=1)\n",
    "    #Up date the dataset by delet the selected features\n",
    "    X_0 = np.delete(X_0, i, 1)\n",
    "    X_1 = np.delete(X_1, i, 1)"
   ]
  },
  {
   "cell_type": "code",
   "execution_count": 215,
   "metadata": {},
   "outputs": [],
   "source": [
    "#Delete the first column from the new datasets because they were initialized as zeros\n",
    "newFeatureSet_0 = np.delete(new_0, 0, 1)\n",
    "newFeatureSet_1 = np.delete(new_1, 0, 1)\n",
    "#Flip the nue datasets\n",
    "newFeatureSet_0 = np.flip(newFeatureSet_0, 1)\n",
    "newFeatureSet_1 = np.flip(newFeatureSet_1, 1)"
   ]
  },
  {
   "cell_type": "code",
   "execution_count": 216,
   "metadata": {},
   "outputs": [
    {
     "data": {
      "text/plain": [
       "<matplotlib.text.Text at 0x113c55198>"
      ]
     },
     "execution_count": 216,
     "metadata": {},
     "output_type": "execute_result"
    },
    {
     "data": {
      "image/png": "[encoded data removed]",
      "text/plain": [
       "<matplotlib.figure.Figure at 0x113c55e48>"
      ]
     },
     "metadata": {},
     "output_type": "display_data"
    }
   ],
   "source": [
    "p2 = plt.plot(Fisher_Ratio, 'b')\n",
    "#add legend and title\n",
    "plt.rcParams[\"axes.titlesize\"] = 10\n",
    "plt.title('BFS');\n",
    "plt.ylabel('Fisher Ratio') #label x and y axes\n",
    "plt.xlabel('Number of Removed Features')"
   ]
  },
  {
   "cell_type": "code",
   "execution_count": 217,
   "metadata": {},
   "outputs": [
    {
     "name": "stdout",
     "output_type": "stream",
     "text": [
      "0.0\n"
     ]
    }
   ],
   "source": [
    "Difference = newFeatureSet_0 - NewFeatureSet_0\n",
    "print(sum(sum(Difference)))"
   ]
  },
  {
   "cell_type": "markdown",
   "metadata": {},
   "source": [
    "# Bayes Classifier"
   ]
  },
  {
   "cell_type": "code",
   "execution_count": 218,
   "metadata": {
    "collapsed": true
   },
   "outputs": [],
   "source": [
    "def Discriminant_Function(Data, Prior, Mean, Covariance):\n",
    "    n = Data.shape[0]\n",
    "    discriminant = []\n",
    "    temp2 = - math.log(2 * math.pi) * Mean.size / 2\n",
    "    temp3 = - math.log(np.linalg.det(Covariance)) / 2\n",
    "    temp4 = math.log(Prior)\n",
    "    for i in range(0, n):\n",
    "        x = Data[i] - Mean\n",
    "        temp1 = - (np.transpose(x) @ np.linalg.inv(Covariance) @ x) / 2\n",
    "        g = temp1 + temp2 + temp3 + temp4\n",
    "        discriminant.append(g)\n",
    "    return discriminant"
   ]
  },
  {
   "cell_type": "code",
   "execution_count": 219,
   "metadata": {
    "collapsed": true
   },
   "outputs": [],
   "source": [
    "def Evaluation(True_Class, False_Class, n):\n",
    "    \n",
    "    true = 0\n",
    "    false = 0\n",
    "    \n",
    "    for i in range(0, len(True_Class)):\n",
    "        if True_Class[i] > False_Class[i]:\n",
    "            true = true + 1\n",
    "        else:\n",
    "            false = false + 1\n",
    "    \n",
    "    # Compute the rate of true and false\n",
    "    rate_true = true/n\n",
    "    rate_false = false/n\n",
    "\n",
    "    return rate_true, rate_false"
   ]
  },
  {
   "cell_type": "code",
   "execution_count": 220,
   "metadata": {},
   "outputs": [
    {
     "name": "stdout",
     "output_type": "stream",
     "text": [
      "13\n",
      "0.9855317839002616\n"
     ]
    }
   ],
   "source": [
    "#Find the best number of features that can make the bayes classifier get best performence\n",
    "CorrectRate_max = 0\n",
    "correct_rate = [0.995]#This number is used to adjust the final plot\n",
    "for i in range(1, 14):\n",
    "    X_0 = newFeatureSet_0[:, 0:i]\n",
    "    X_1 = newFeatureSet_1[:, 0:i]\n",
    "    N = X_0.shape[0] + X_1.shape[0]\n",
    "\n",
    "    #Compute the Prior\n",
    "    P_0 = X_0.shape[0] / N\n",
    "    P_1 = X_1.shape[0] / N\n",
    "    \n",
    "    #Compute the mean of data\n",
    "    Mu_0 = X_0.mean(axis = 0)\n",
    "    Mu_1 = X_1.mean(axis = 0)\n",
    "    \n",
    "    #Normalize training data\n",
    "    N_0 = X_0 - Mu_0\n",
    "    N_1 = X_1 - Mu_1\n",
    "    \n",
    "    \n",
    "    #Compute the covaiance of data\n",
    "    Cov_0 = (N_0.transpose()@N_0)/(N_0.shape[0])\n",
    "    Cov_1 = (N_1.transpose()@N_1)/(N_1.shape[0])\n",
    "    \n",
    "    #Compute Discriminant_Function\n",
    "    g0_J0 = Discriminant_Function(X_0, P_0, Mu_0, Cov_0)\n",
    "    g1_J0 = Discriminant_Function(X_0, P_1, Mu_1, Cov_1)\n",
    "\n",
    "    g0_J1 = Discriminant_Function(X_1, P_0, Mu_0, Cov_0)\n",
    "    g1_J1 = Discriminant_Function(X_1, P_1, Mu_1, Cov_1)\n",
    "    \n",
    "    n = X_0.shape[0] + X_1.shape[0]\n",
    "\n",
    "    rate_true_0, rate_false_0 = Evaluation(g0_J0, g1_J0, n)\n",
    "    rate_true_1, rate_false_1 = Evaluation(g1_J1, g0_J1, n)\n",
    "    \n",
    "    CorrectRate = rate_true_0 + rate_true_1\n",
    "    correct_rate.append(CorrectRate)   \n",
    "    \n",
    "    if CorrectRate > CorrectRate_max:\n",
    "        CorrectRate_max = CorrectRate\n",
    "        i_max = i\n",
    "\n",
    "print(i_max)\n",
    "print(CorrectRate_max)"
   ]
  },
  {
   "cell_type": "code",
   "execution_count": 221,
   "metadata": {},
   "outputs": [
    {
     "data": {
      "text/plain": [
       "<matplotlib.text.Text at 0x111f56160>"
      ]
     },
     "execution_count": 221,
     "metadata": {},
     "output_type": "execute_result"
    },
    {
     "data": {
      "image/png": "[encoded data removed]",
      "text/plain": [
       "<matplotlib.figure.Figure at 0x1123bbac8>"
      ]
     },
     "metadata": {},
     "output_type": "display_data"
    }
   ],
   "source": [
    "correct_rate = np.array(correct_rate)\n",
    "plt.xlim(1,13)\n",
    "p3 = plt.plot(correct_rate ,'y')\n",
    "#add legend and title\n",
    "plt.rcParams[\"axes.titlesize\"] = 10\n",
    "plt.title('Bayes Classifier');\n",
    "plt.ylabel('Correct Rate') #label x and y axes\n",
    "plt.xlabel('Number of Features')"
   ]
  },
  {
   "cell_type": "code",
   "execution_count": null,
   "metadata": {
    "collapsed": true
   },
   "outputs": [],
   "source": []
  }
 ],
 "metadata": {
  "kernelspec": {
   "display_name": "Python 3",
   "language": "python",
   "name": "python3"
  },
  "language_info": {
   "codemirror_mode": {
    "name": "ipython",
    "version": 3
   },
   "file_extension": ".py",
   "mimetype": "text/x-python",
   "name": "python",
   "nbconvert_exporter": "python",
   "pygments_lexer": "ipython3",
   "version": "3.6.1"
  }
 },
 "nbformat": 4,
 "nbformat_minor": 2
}
