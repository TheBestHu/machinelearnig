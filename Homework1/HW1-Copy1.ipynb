{
 "cells": [
  {
   "cell_type": "code",
   "execution_count": 39,
   "metadata": {},
   "outputs": [
    {
     "name": "stdout",
     "output_type": "stream",
     "text": [
      "input m =15\n"
     ]
    },
    {
     "data": {
      "text/plain": [
       "<matplotlib.legend.Legend at 0x112fb32e8>"
      ]
     },
     "execution_count": 39,
     "metadata": {},
     "output_type": "execute_result"
    },
    {
     "data": {
      "image/png": "[encoded data removed]",
      "text/plain": [
       "<matplotlib.figure.Figure at 0x112a9bcf8>"
      ]
     },
     "metadata": {},
     "output_type": "display_data"
    }
   ],
   "source": [
    "#import needed libraries\n",
    "import numpy as np\n",
    "import matplotlib\n",
    "import matplotlib.pyplot as plt\n",
    "%matplotlib inline\n",
    "import math\n",
    "import cmath\n",
    "\n",
    "test_g = np.random.normal(0,0.1,1000)\n",
    "train_g = np.random.normal(0,0.1,1000)\n",
    "def ERMS(m):\n",
    "#Generate data of training\n",
    "#In this script. I creat 100 number of data in sine curve function.\n",
    "#Gaussian noise genrate\n",
    "    g1 = train_g #(location, scale, Number of data)\n",
    "    x = np.arange(0,1,0.001) #Range of x from 0 to 1\n",
    "    t = np.sin(2*math.pi*x)\n",
    "    train_t = np.sin(2*math.pi*x)+g1    # training t\n",
    "    g2 = test_g\n",
    "    #plt.scatter(x,train_t)\n",
    "#polynomial curve fitting\n",
    "    M = m\n",
    "    X = np.array([x**m for m in range(M+1)]).T # X of training data\n",
    "    w = np.linalg.inv(X.T@X)@X.T@t # weight???\n",
    "    #print(w)\n",
    "# test set\n",
    "    test_data = np.arange(0.005,1.005,0.001)\n",
    "    test_t = np.sin(2*math.pi*test_data)+test_g # test t\n",
    "    #plt.scatter(test_data,test_t)\n",
    "    X_test_data = np.array([test_data**m for m in range(w.size)]).T # X of test data\n",
    "    test_predict_curve = X_test_data@w  #test curve\n",
    "    test_ERMS = abs(cmath.sqrt((np.linalg.norm((w.T@X_test_data.T-test_t.T))**2)/1000))\n",
    "    #print('test_ERMS=',test_ERMS)\n",
    "    train_predict_curve = X@w  #training curve\n",
    "    train_ERMS = abs(cmath.sqrt((np.linalg.norm((w.T@X.T-t.T))**2)/1000))\n",
    "    #print('train_ERMS=',train_ERMS)\n",
    "    return test_ERMS,train_ERMS\n",
    "\n",
    "m = int(input('input m ='))\n",
    "Erms = np.array([ERMS(m) for m in range(m)])\n",
    "x = np.arange(0,m,1)\n",
    "#print(Erms.shape)\n",
    "p1 = plt.plot(x,Erms[:,1],'b')\n",
    "p2 = plt.plot(x,Erms[:,0],'r')\n",
    "plt.scatter(x,Erms[:,1])\n",
    "plt.scatter(x,Erms[:,0])\n",
    "plt.xlabel('M')\n",
    "plt.ylabel('Erms')\n",
    "plt.rcParams[\"axes.titlesize\"] = 16\n",
    "plt.legend((p1[0],p2[0]),('Training', 'Test'), fontsize=10)"
   ]
  }
 ],
 "metadata": {
  "kernelspec": {
   "display_name": "Python 3",
   "language": "python",
   "name": "python3"
  },
  "language_info": {
   "codemirror_mode": {
    "name": "ipython",
    "version": 3
   },
   "file_extension": ".py",
   "mimetype": "text/x-python",
   "name": "python",
   "nbconvert_exporter": "python",
   "pygments_lexer": "ipython3",
   "version": "3.6.1"
  }
 },
 "nbformat": 4,
 "nbformat_minor": 2
}
