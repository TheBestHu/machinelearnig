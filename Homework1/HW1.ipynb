{
 "cells": [
  {
   "cell_type": "code",
   "execution_count": 102,
   "metadata": {
    "scrolled": true
   },
   "outputs": [
    {
     "name": "stdout",
     "output_type": "stream",
     "text": [
      "m=15\n"
     ]
    },
    {
     "data": {
      "text/plain": [
       "<matplotlib.legend.Legend at 0x11819bd68>"
      ]
     },
     "execution_count": 102,
     "metadata": {},
     "output_type": "execute_result"
    },
    {
     "data": {
      "image/png": "[encoded data removed]",
      "text/plain": [
       "<matplotlib.figure.Figure at 0x117642b70>"
      ]
     },
     "metadata": {},
     "output_type": "display_data"
    }
   ],
   "source": [
    "#import needed libraries\n",
    "import numpy as np\n",
    "import matplotlib\n",
    "import matplotlib.pyplot as plt\n",
    "%matplotlib inline\n",
    "import math\n",
    "import cmath\n",
    "\n",
    "test_g = np.random.normal(0,.15,100)\n",
    "train_g = np.random.normal(0,.15,100)\n",
    "def ERMS(m):\n",
    "    M = m # model order\n",
    "    #Generate data of training\n",
    "    #In this script. I creat 100 number of data in sine curve function.\n",
    "    #Gaussian noise genrate\n",
    "    g1 = train_g #(location, scale, Number of data)\n",
    "    x = np.arange(0,1,0.01) #Range of x from 0 to 1\n",
    "    t = np.sin(2*math.pi*x)       # training t\n",
    "    train_t = np.sin(2*math.pi*x)+g1    # training t with gaussian\n",
    "    g2 = test_g\n",
    "    X = np.array([x**m for m in range(M+1)]).T # X of training data\n",
    "    Z = X.T@X\n",
    "    w = np.linalg.inv(Z)@X.T@t # weight\n",
    "    # test set\n",
    "    test_data = np.arange(0.05,1.05,0.01)\n",
    "    test_t = np.sin(2*math.pi*test_data)+g2 # test t\n",
    "    X_test_data = np.array([test_data**m for m in range(w.size)]).T # X of test data\n",
    "    test_ERMS = abs(cmath.sqrt((np.linalg.norm((w.T@X_test_data.T-test_t.T))**2)/100))\n",
    "    train_predict_curve = X@w  #training curve\n",
    "    train_ERMS = abs(cmath.sqrt((np.linalg.norm((train_predict_curve-train_t))**2)/100))\n",
    "    return test_ERMS,train_ERMS\n",
    "\n",
    "m = int(input('m='))\n",
    "Erms = np.array([ERMS(m) for m in range(m)])\n",
    "x = np.arange(0,m,1)\n",
    "p1 = plt.plot(x,Erms[:,1],'b')\n",
    "p2 = plt.plot(x,Erms[:,0],'r')\n",
    "plt.scatter(x,Erms[:,1])\n",
    "plt.scatter(x,Erms[:,0])\n",
    "plt.xlabel('M')\n",
    "plt.ylabel('Erms')\n",
    "plt.rcParams[\"axes.titlesize\"] = 16\n",
    "plt.legend((p1[0],p2[0]),('Training', 'Test'), fontsize=10)"
   ]
  }
 ],
 "metadata": {
  "kernelspec": {
   "display_name": "Python 3",
   "language": "python",
   "name": "python3"
  },
  "language_info": {
   "codemirror_mode": {
    "name": "ipython",
    "version": 3
   },
   "file_extension": ".py",
   "mimetype": "text/x-python",
   "name": "python",
   "nbconvert_exporter": "python",
   "pygments_lexer": "ipython3",
   "version": "3.6.1"
  }
 },
 "nbformat": 4,
 "nbformat_minor": 2
}
