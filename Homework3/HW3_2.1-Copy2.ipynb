{
 "cells": [
  {
   "cell_type": "code",
   "execution_count": 28,
   "metadata": {
    "collapsed": true
   },
   "outputs": [],
   "source": [
    "import numpy as np\n",
    "import scipy.io as sio\n",
    "from mpl_toolkits.mplot3d import Axes3D\n",
    "import matplotlib\n",
    "import matplotlib.pyplot as plt\n",
    "import math\n",
    "import array\n",
    "from matplotlib import cm\n",
    "from matplotlib.ticker import LinearLocator, FormatStrFormatter\n",
    "%matplotlib inline"
   ]
  },
  {
   "cell_type": "code",
   "execution_count": 29,
   "metadata": {
    "collapsed": true
   },
   "outputs": [],
   "source": [
    "train = np.loadtxt('training.txt')\n",
    "validate = np.loadtxt('validate.txt')\n",
    "train = train-np.mean(train)\n",
    "validate = validate - np.mean(validate)\n",
    "N = train.shape[0]\n",
    "Nv = validate.shape[0]\n",
    "x = []\n",
    "y = []\n",
    "z = []\n",
    "y_v = []"
   ]
  },
  {
   "cell_type": "code",
   "execution_count": 30,
   "metadata": {},
   "outputs": [
    {
     "name": "stdout",
     "output_type": "stream",
     "text": [
      "0.000142243838257\n",
      "0.0581003856764\n"
     ]
    },
    {
     "data": {
      "image/png": "[encoded data removed]",
      "text/plain": [
       "<matplotlib.figure.Figure at 0x115d0dc88>"
      ]
     },
     "metadata": {},
     "output_type": "display_data"
    }
   ],
   "source": [
    "for m in range(3,31):\n",
    "    X = np.zeros(shape=(m,N-m))\n",
    "    Y = train[m:N]  # Y is N-m*1 matrix\n",
    "    #print(Y.shape)\n",
    "    for i in range(0,N-m):\n",
    "        temp = train[i:i+m]\n",
    "        X[:,i] = temp[::-1] # X is m*N-m matrix\n",
    "    R = X@X.T\n",
    "    value, vector = np.linalg.eig(R)\n",
    "    step_up = 1/max(value)\n",
    "    step = np.arange(step_up/10,step_up+step_up/11,step_up/10)\n",
    "    j=1\n",
    "    sum_rms = 0\n",
    "    w = np.zeros(shape=(m,1)) # w is m*1 matrix\n",
    "    for iteration in range(0,N-m):\n",
    "        #w = w + step[j]*(X[:,iteration].T@w-Y[iteration])*X[:,iteration]\n",
    "        error = X[:,iteration].T@w-Y[iteration]\n",
    "        J = step[j]*error*X[:,iteration]\n",
    "        w[:,0] = w[:,0] + J.T\n",
    "        #print(w)\n",
    "    Xv = np.zeros(shape=(m,Nv-m))\n",
    "    Yv = validate[m:Nv]\n",
    "    for p in range(0,Nv-m):\n",
    "        temp = train[p:p+m]\n",
    "        Xv[:,p] = temp[::-1]\n",
    "    yv = w.T@Xv\n",
    "    MSE = np.zeros(shape=(Nv-m,1))\n",
    "    for n in range(0,Nv-m):\n",
    "        MSE[n] = (Yv[n] - yv.T[n])**2\n",
    "    x.append(m)\n",
    "    y.append(step[j])\n",
    "    z.append(MSE.sum()/(Nv-m))\n",
    "print(step_up)\n",
    "print(z[0])\n",
    "plt.plot(x,z)\n",
    "plt.title('when 1/max(value) = 0.000142243838257')\n",
    "plt.xlabel('Filter Order ')\n",
    "plt.ylabel('MSE')\n",
    "plt.show()"
   ]
  },
  {
   "cell_type": "code",
   "execution_count": null,
   "metadata": {
    "collapsed": true
   },
   "outputs": [],
   "source": []
  }
 ],
 "metadata": {
  "kernelspec": {
   "display_name": "Python 3",
   "language": "python",
   "name": "python3"
  },
  "language_info": {
   "codemirror_mode": {
    "name": "ipython",
    "version": 3
   },
   "file_extension": ".py",
   "mimetype": "text/x-python",
   "name": "python",
   "nbconvert_exporter": "python",
   "pygments_lexer": "ipython3",
   "version": "3.6.1"
  }
 },
 "nbformat": 4,
 "nbformat_minor": 2
}
