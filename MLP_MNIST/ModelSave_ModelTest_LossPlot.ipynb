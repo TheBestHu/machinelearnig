{
 "cells": [
  {
   "cell_type": "code",
   "execution_count": 69,
   "metadata": {
    "collapsed": true
   },
   "outputs": [],
   "source": [
    "import os\n",
    "import numpy as np\n",
    "import struct\n",
    "from numpy import zeros\n",
    "import array\n",
    "import matplotlib\n",
    "from matplotlib import pyplot as plt\n",
    "import scipy\n",
    "from scipy import misc\n",
    "import time\n",
    "import sys\n",
    "%matplotlib inline"
   ]
  },
  {
   "cell_type": "code",
   "execution_count": 2,
   "metadata": {
    "collapsed": true
   },
   "outputs": [],
   "source": [
    "def load_mnist(dataset=\"training\", digits=np.arange(10), path=\".\", size = 60000):\n",
    "    if dataset == \"training\":\n",
    "        fname_img = os.path.join(path, 'train-images.idx3-ubyte')\n",
    "        fname_lbl = os.path.join(path, 'train-labels.idx1-ubyte')\n",
    "    elif dataset == \"testing\":\n",
    "        fname_img = os.path.join(path, 't10k-images.idx3-ubyte')\n",
    "        fname_lbl = os.path.join(path, 't10k-labels.idx1-ubyte')\n",
    "    else:\n",
    "        raise ValueError(\"dataset must be 'testing' or 'training'\")\n",
    "\n",
    "    flbl = open(fname_lbl, 'rb')\n",
    "    magic_nr, size = struct.unpack(\">II\", flbl.read(8))\n",
    "    lbl = array.array(\"b\", flbl.read())\n",
    "    flbl.close()\n",
    "\n",
    "    fimg = open(fname_img, 'rb')\n",
    "    magic_nr, size, rows, cols = struct.unpack(\">IIII\", fimg.read(16))\n",
    "    img = array.array(\"B\", fimg.read())\n",
    "    fimg.close()\n",
    "\n",
    "    ind = [ k for k in range(size) if lbl[k] in digits ]\n",
    "    N = size #int(len(ind) * size/100.)\n",
    "    images = zeros((N, rows, cols), dtype='uint8')\n",
    "    labels = zeros((N, 1), dtype='int8')\n",
    "    for i in range(N): #int(len(ind) * size/100.)):\n",
    "        images[i] = np.array(img[ ind[i]*rows*cols : (ind[i]+1)*rows*cols ])\\\n",
    "            .reshape((rows, cols))\n",
    "        labels[i] = lbl[ind[i]]\n",
    "    labels = [label[0] for label in labels]\n",
    "    return images, labels"
   ]
  },
  {
   "cell_type": "code",
   "execution_count": 3,
   "metadata": {
    "collapsed": true
   },
   "outputs": [],
   "source": [
    "tr,label = load_mnist(\"training\")\n",
    "tr_label = np.array(label,dtype = np.long)\n",
    "te,te_label = load_mnist(\"testing\")\n",
    "te_label = np.array(te_label,dtype = np.long)"
   ]
  },
  {
   "cell_type": "code",
   "execution_count": 4,
   "metadata": {
    "collapsed": true
   },
   "outputs": [],
   "source": [
    "#scipy.misc.imread(d_tr)\n",
    "def resize_data(dataset,size):\n",
    "    rd = np.zeros((len(dataset),size,size))\n",
    "    for img in range(len(dataset)):\n",
    "        rd[img] = scipy.misc.imresize(dataset[img],(14,14))\n",
    "    return rd"
   ]
  },
  {
   "cell_type": "code",
   "execution_count": 5,
   "metadata": {
    "collapsed": true
   },
   "outputs": [],
   "source": [
    "#resize the data set to 14*14\n",
    "tr_14 = resize_data(tr,14)\n",
    "te_14 = resize_data(te,14)"
   ]
  },
  {
   "cell_type": "code",
   "execution_count": 6,
   "metadata": {
    "collapsed": true
   },
   "outputs": [],
   "source": [
    "# import needed library for MLP \n",
    "import torch\n",
    "import torch.nn as nn\n",
    "import torch.nn.functional\n",
    "import torch.utils.data\n",
    "from torch.autograd import Variable"
   ]
  },
  {
   "cell_type": "code",
   "execution_count": 7,
   "metadata": {
    "collapsed": true
   },
   "outputs": [],
   "source": [
    "# generalize\n",
    "tr = tr/256\n",
    "te = te/256\n",
    "tr_14 = tr_14/256\n",
    "te_14 = te_14/256"
   ]
  },
  {
   "cell_type": "code",
   "execution_count": 8,
   "metadata": {
    "collapsed": true
   },
   "outputs": [],
   "source": [
    "# import dataset yo torch dataloader\n",
    "train_data =torch.utils.data.DataLoader(torch.from_numpy(tr),batch_size = 100)\n",
    "test_data =torch.utils.data.DataLoader(torch.from_numpy(te),batch_size = 100)\n",
    "train_data_14 = torch.utils.data.DataLoader(torch.from_numpy(tr_14),batch_size = 100)\n",
    "test_data_14 = torch.utils.data.DataLoader(torch.from_numpy(te_14),batch_size = 100)\n",
    "train_label =torch.from_numpy(tr_label)\n",
    "test_label = torch.from_numpy(te_label)"
   ]
  },
  {
   "cell_type": "code",
   "execution_count": 9,
   "metadata": {
    "collapsed": true
   },
   "outputs": [],
   "source": [
    "\n",
    "#calculate accuracy\n",
    "def accuracy(preb,label):\n",
    "    preb = preb.cpu().data.numpy()\n",
    "    label = label.cpu().data.numpy()\n",
    "    test_np = (np.argmax(preb,1)==label)\n",
    "    test_np = np.float32(test_np)\n",
    "    return (100*np.mean(test_np))"
   ]
  },
  {
   "cell_type": "code",
   "execution_count": 45,
   "metadata": {
    "collapsed": true
   },
   "outputs": [],
   "source": [
    "#build MLP add dropout\n",
    "num_drop = 0.6\n",
    "class MLP_28_dropout(nn.Module):\n",
    "    def __init__(self):\n",
    "        super(MLP_28_dropout, self).__init__()\n",
    "        self.L1 = nn.Linear(784,512)\n",
    "        self.drop1 = nn.Dropout(num_drop)\n",
    "        self.L2 = nn.Linear(512,128)\n",
    "        self.drop2 = nn.Dropout(num_drop)\n",
    "        self.L3 = nn.Linear(128,10)\n",
    "    def forward(self,din):\n",
    "        din = din.view(-1,28*28)\n",
    "        dout = torch.nn.functional.relu(self.drop1(self.L1(din)))\n",
    "        dout = torch.nn.functional.relu(self.drop2(self.L2(dout)))\n",
    "        return torch.nn.functional.softmax(self.L3(dout))\n",
    "# without dropout\n",
    "class MLP_28(nn.Module):\n",
    "    def __init__(self):\n",
    "        super(MLP_28, self).__init__()\n",
    "        self.L1 = nn.Linear(784,512)\n",
    "        self.L2 = nn.Linear(512,128)\n",
    "        self.L3 = nn.Linear(128,10)\n",
    "    def forward(self,din):\n",
    "        din = din.view(-1,28*28)\n",
    "        dout = torch.nn.functional.relu(self.L1(din))\n",
    "        dout = torch.nn.functional.relu(self.L2(dout))\n",
    "        return torch.nn.functional.softmax(self.L3(dout))"
   ]
  },
  {
   "cell_type": "code",
   "execution_count": 46,
   "metadata": {
    "collapsed": true
   },
   "outputs": [],
   "source": [
    "#dropout 14*14\n",
    "class MLP_14_dropout(nn.Module):\n",
    "    def __init__(self):\n",
    "        super(MLP_14_dropout, self).__init__()\n",
    "        self.L1 = nn.Linear(196,128)\n",
    "        self.drop1 = nn.Dropout(num_drop)\n",
    "        self.L2 = nn.Linear(128,49)\n",
    "        self.drop2 = nn.Dropout(num_drop)\n",
    "        self.L3 = nn.Linear(49,10)\n",
    "\n",
    "    def forward(self,din):\n",
    "        din = din.view(-1,14*14)\n",
    "        dout = torch.nn.functional.relu(self.drop1(self.L1(din)))\n",
    "        dout = torch.nn.functional.relu(self.drop2(self.L2(dout)))\n",
    "        return torch.nn.functional.softmax(self.L3(dout))\n",
    "#without dropout 14*14\n",
    "class MLP_14(nn.Module):\n",
    "    def __init__(self):\n",
    "        super(MLP_14, self).__init__()\n",
    "        self.L1 = nn.Linear(196,128)\n",
    "        self.L2 = nn.Linear(128,49)\n",
    "        self.L3 = nn.Linear(49,10)\n",
    "\n",
    "    def forward(self,din):\n",
    "        din = din.view(-1,14*14)\n",
    "        dout = torch.nn.functional.relu(self.L1(din))\n",
    "        dout = torch.nn.functional.relu(self.L2(dout))\n",
    "        return torch.nn.functional.softmax(self.L3(dout))"
   ]
  },
  {
   "cell_type": "code",
   "execution_count": 77,
   "metadata": {},
   "outputs": [
    {
     "name": "stdout",
     "output_type": "stream",
     "text": [
      "100/100\r"
     ]
    }
   ],
   "source": [
    "input_data = train_data\n",
    "input_label = train_label\n",
    "momentum = 0.9\n",
    "model = MLP_28().cuda()\n",
    "sgd = torch.optim.SGD(model.parameters(),lr = 0.1, momentum = momentum)\n",
    "lossfunc = torch.nn.CrossEntropyLoss()\n",
    "trace = []\n",
    "loss_list = []\n",
    "trace_loss=[]\n",
    "for n in range(100):\n",
    "    sums = []\n",
    "    for i,data in enumerate(input_data):\n",
    "        sgd.zero_grad()\n",
    "        data = data.type(torch.FloatTensor)\n",
    "        labels = input_label[i*100:i*100+100].type(torch.LongTensor)\n",
    "        inputs = torch.autograd.Variable(data).cuda()\n",
    "        labels = torch.autograd.Variable(labels).cuda()\n",
    "        outputs = model(inputs)\n",
    "        loss = lossfunc(outputs,labels)\n",
    "        loss_list.append(loss)\n",
    "        loss.backward()\n",
    "        sgd.step()\n",
    "        sums.append(accuracy(outputs,labels))\n",
    "    trace_loss.append(loss.data[0])\n",
    "    sys.stdout.write('{0}/100\\r'.format(n + 1))\n",
    "    sys.stdout.flush()\n",
    "    loss_list=[]\n",
    "    trace.append(sum(sums)/len(sums))\n"
   ]
  },
  {
   "cell_type": "code",
   "execution_count": 59,
   "metadata": {},
   "outputs": [
    {
     "name": "stderr",
     "output_type": "stream",
     "text": [
      "C:\\Users\\hu_ye\\Anaconda3\\lib\\site-packages\\torch\\serialization.py:147: UserWarning: Couldn't retrieve source code for container of type MLP_28. It won't be checked for correctness upon loading.\n",
      "  \"type \" + obj.__name__ + \". It won't be checked \"\n"
     ]
    }
   ],
   "source": [
    "# save model\n",
    "torch.save(model,\"MLP_28_withoutD_iteration_100.pt\")"
   ]
  },
  {
   "cell_type": "code",
   "execution_count": 62,
   "metadata": {},
   "outputs": [],
   "source": [
    "model_l = torch.load('MLP_28_withoutD.pt')"
   ]
  },
  {
   "cell_type": "code",
   "execution_count": 63,
   "metadata": {},
   "outputs": [
    {
     "name": "stdout",
     "output_type": "stream",
     "text": [
      "98.2600007057\n"
     ]
    }
   ],
   "source": [
    "input_data = test_data\n",
    "input_label = test_label\n",
    "momentum = 0.9\n",
    "sgd = torch.optim.SGD(model.parameters(),lr = 0.1, momentum = momentum)\n",
    "lossfunc = torch.nn.CrossEntropyLoss()\n",
    "accuracy_list = []\n",
    "for i,data in enumerate(test_data):\n",
    "    data = data.type(torch.FloatTensor)\n",
    "    labels = test_label[i*100:i*100+100].type(torch.LongTensor)\n",
    "    inputs = torch.autograd.Variable(data).cuda()\n",
    "    labels = torch.autograd.Variable(labels).cuda()\n",
    "    outputs = model_l(inputs)\n",
    "    accuracy_list.append(accuracy(outputs,labels))\n",
    "print(sum(accuracy_list) / len(accuracy_list))"
   ]
  },
  {
   "cell_type": "code",
   "execution_count": 78,
   "metadata": {},
   "outputs": [
    {
     "data": {
      "text/plain": [
       "<matplotlib.legend.Legend at 0x2bd3dab5550>"
      ]
     },
     "execution_count": 78,
     "metadata": {},
     "output_type": "execute_result"
    },
    {
     "data": {
      "image/png": "[encoded data removed]",
      "text/plain": [
       "<matplotlib.figure.Figure at 0x2bd3dab54e0>"
      ]
     },
     "metadata": {},
     "output_type": "display_data"
    }
   ],
   "source": [
    "plt.plot(trace,label='Without Dropout(28*28)')\n",
    "plt.legend(loc='lower right')"
   ]
  },
  {
   "cell_type": "code",
   "execution_count": 82,
   "metadata": {
    "scrolled": true
   },
   "outputs": [
    {
     "data": {
      "image/png": "[encoded data removed]",
      "text/plain": [
       "<matplotlib.figure.Figure at 0x2bd3e4ef828>"
      ]
     },
     "metadata": {},
     "output_type": "display_data"
    }
   ],
   "source": [
    "plt.plot(trace_loss,label='CrossEntropyLoss')\n",
    "plt.ylabel('Loss')\n",
    "plt.xlabel('iteration')\n",
    "plt.legend(loc='upper right')\n",
    "plt.savefig('CELoss_28_NoD_iter_100.png')"
   ]
  },
  {
   "cell_type": "code",
   "execution_count": null,
   "metadata": {
    "collapsed": true
   },
   "outputs": [],
   "source": []
  }
 ],
 "metadata": {
  "kernelspec": {
   "display_name": "Python 3",
   "language": "python",
   "name": "python3"
  },
  "language_info": {
   "codemirror_mode": {
    "name": "ipython",
    "version": 3
   },
   "file_extension": ".py",
   "mimetype": "text/x-python",
   "name": "python",
   "nbconvert_exporter": "python",
   "pygments_lexer": "ipython3",
   "version": "3.6.3"
  }
 },
 "nbformat": 4,
 "nbformat_minor": 2
}
