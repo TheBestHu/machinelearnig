{
 "cells": [
  {
   "cell_type": "code",
   "execution_count": 1,
   "metadata": {
    "collapsed": true
   },
   "outputs": [],
   "source": [
    "import os\n",
    "import numpy as np\n",
    "import struct\n",
    "from numpy import zeros\n",
    "import array\n",
    "import matplotlib\n",
    "from matplotlib import pyplot as plt\n",
    "import scipy\n",
    "from scipy import misc\n",
    "import time\n",
    "%matplotlib inline"
   ]
  },
  {
   "cell_type": "code",
   "execution_count": 2,
   "metadata": {
    "collapsed": true
   },
   "outputs": [],
   "source": [
    "def load_mnist(dataset=\"training\", digits=np.arange(10), path=\".\", size = 60000):\n",
    "    if dataset == \"training\":\n",
    "        fname_img = os.path.join(path, 'train-images.idx3-ubyte')\n",
    "        fname_lbl = os.path.join(path, 'train-labels.idx1-ubyte')\n",
    "    elif dataset == \"testing\":\n",
    "        fname_img = os.path.join(path, 't10k-images.idx3-ubyte')\n",
    "        fname_lbl = os.path.join(path, 't10k-labels.idx1-ubyte')\n",
    "    else:\n",
    "        raise ValueError(\"dataset must be 'testing' or 'training'\")\n",
    "\n",
    "    flbl = open(fname_lbl, 'rb')\n",
    "    magic_nr, size = struct.unpack(\">II\", flbl.read(8))\n",
    "    lbl = array.array(\"b\", flbl.read())\n",
    "    flbl.close()\n",
    "\n",
    "    fimg = open(fname_img, 'rb')\n",
    "    magic_nr, size, rows, cols = struct.unpack(\">IIII\", fimg.read(16))\n",
    "    img = array.array(\"B\", fimg.read())\n",
    "    fimg.close()\n",
    "\n",
    "    ind = [ k for k in range(size) if lbl[k] in digits ]\n",
    "    N = size #int(len(ind) * size/100.)\n",
    "    images = zeros((N, rows, cols), dtype='uint8')\n",
    "    labels = zeros((N, 1), dtype='int8')\n",
    "    for i in range(N): #int(len(ind) * size/100.)):\n",
    "        images[i] = np.array(img[ ind[i]*rows*cols : (ind[i]+1)*rows*cols ])\\\n",
    "            .reshape((rows, cols))\n",
    "        labels[i] = lbl[ind[i]]\n",
    "    labels = [label[0] for label in labels]\n",
    "    return images, labels"
   ]
  },
  {
   "cell_type": "code",
   "execution_count": 3,
   "metadata": {
    "collapsed": true
   },
   "outputs": [],
   "source": [
    "tr,label = load_mnist(\"training\")\n",
    "tr_label = np.array(label,dtype = np.long)\n",
    "tr_data = tr[0:50000]\n",
    "va_data = tr[50000:60000]\n",
    "train_label = tr_label[0:50000]\n",
    "validate_label = tr_label[50000:60000]\n",
    "te,te_label = load_mnist(\"testing\")\n",
    "te_label = np.array(te_label,dtype = np.long)"
   ]
  },
  {
   "cell_type": "code",
   "execution_count": 4,
   "metadata": {
    "collapsed": true
   },
   "outputs": [],
   "source": [
    "#scipy.misc.imread(d_tr)\n",
    "def resize_data(dataset,size):\n",
    "    rd = np.zeros((len(dataset),size,size))\n",
    "    for img in range(len(dataset)):\n",
    "        rd[img] = scipy.misc.imresize(dataset[img],(size,size))\n",
    "    return rd"
   ]
  },
  {
   "cell_type": "code",
   "execution_count": 5,
   "metadata": {
    "collapsed": true
   },
   "outputs": [],
   "source": [
    "#resize the data set to 14*14\n",
    "train = resize_data(tr_data,14)\n",
    "test = resize_data(te,14)\n",
    "validate = resize_data(tr_data,14)"
   ]
  },
  {
   "cell_type": "code",
   "execution_count": 6,
   "metadata": {
    "collapsed": true
   },
   "outputs": [],
   "source": [
    "# import needed library for MLP \n",
    "import torch\n",
    "import torch.nn as nn\n",
    "import torch.nn.functional\n",
    "import torch.utils.data\n",
    "from torch.autograd import Variable"
   ]
  },
  {
   "cell_type": "code",
   "execution_count": 7,
   "metadata": {
    "collapsed": true
   },
   "outputs": [],
   "source": [
    "# generalize\n",
    "train = train/256\n",
    "test = test/256\n",
    "validate = validate/256"
   ]
  },
  {
   "cell_type": "code",
   "execution_count": 8,
   "metadata": {
    "collapsed": true
   },
   "outputs": [],
   "source": [
    "# import dataset yo torch dataloader\n",
    "train_data =torch.utils.data.DataLoader(torch.from_numpy(train),batch_size = 100)\n",
    "test_data =torch.utils.data.DataLoader(torch.from_numpy(test),batch_size = 100)\n",
    "validate_data = torch.utils.data.DataLoader(torch.from_numpy(validate),batch_size = 100)\n",
    "t_label =torch.from_numpy(train_label)\n",
    "e_label = torch.from_numpy(te_label)\n",
    "v_label = torch.from_numpy(validate_label)"
   ]
  },
  {
   "cell_type": "code",
   "execution_count": 9,
   "metadata": {
    "collapsed": true
   },
   "outputs": [],
   "source": [
    "#build MLP\n",
    "class MLP(nn.Module):\n",
    "    def __init__(self):\n",
    "        super(MLP, self).__init__()\n",
    "        self.L1 = nn.Linear(196,700)\n",
    "        self.drop1 = nn.Dropout(0.7)\n",
    "        self.L2 = nn.Linear(700,300)\n",
    "        self.drop2 = nn.Dropout(0.7)\n",
    "        self.L3 = nn.Linear(300,10)\n",
    "\n",
    "    def forward(self,din):\n",
    "        din = din.view(-1,196)\n",
    "        dout = torch.nn.functional.relu(self.drop1(self.L1(din)))\n",
    "        dout = torch.nn.functional.relu(self.drop2(self.L2(dout)))\n",
    "        return torch.nn.functional.softmax(self.L3(dout))\n",
    "#calculate accuracy\n",
    "def accuracy(preb,label):\n",
    "    preb = preb.cpu().data.numpy()\n",
    "    label = label.cpu().data.numpy()\n",
    "    test_np = (np.argmax(preb,1)==label)\n",
    "    test_np = np.float32(test_np)\n",
    "    return (100*np.mean(test_np))    "
   ]
  },
  {
   "cell_type": "code",
   "execution_count": 10,
   "metadata": {
    "collapsed": true
   },
   "outputs": [],
   "source": [
    "def varification(ver_data,ver_label,var_model):\n",
    "    var_sums=[]\n",
    "    for n,var in enumerate(ver_data):\n",
    "        var = var.type(torch.FloatTensor)\n",
    "        var_label = ver_label[n*100:n*100+100].type(torch.LongTensor)\n",
    "        var_input = torch.autograd.Variable(var).cuda()\n",
    "        var_label = torch.autograd.Variable(var_label).cuda()\n",
    "        var_output = var_model(var_input)\n",
    "        var_sums.append(accuracy(var_output,var_label))\n",
    "    return(sum(var_sums)/len(var_sums))"
   ]
  },
  {
   "cell_type": "code",
   "execution_count": 12,
   "metadata": {},
   "outputs": [],
   "source": [
    "model = MLP().cuda()\n",
    "sgd = torch.optim.SGD(model.parameters(),lr = 0.1,momentum = 0.9)\n",
    "lossfunc = torch.nn.CrossEntropyLoss()\n",
    "trace = []\n",
    "trace_loss=[]\n",
    "trace_acc = np.zeros((200,1))\n",
    "for n in range(200):\n",
    "    sums = []\n",
    "    sum_loss=[]\n",
    "    for i,data in enumerate(train_data):\n",
    "        sgd.zero_grad()\n",
    "        data = data.type(torch.FloatTensor)\n",
    "        labels = t_label[i*100:i*100+100].type(torch.LongTensor)\n",
    "        inputs = torch.autograd.Variable(data).cuda()\n",
    "        labels = torch.autograd.Variable(labels).cuda()\n",
    "        outputs = model(inputs)\n",
    "        loss = lossfunc(outputs,labels)\n",
    "        sum_loss.append(loss.cpu().data.numpy())\n",
    "        sums.append(accuracy(outputs,labels))\n",
    "        loss.backward()\n",
    "        sgd.step()\n",
    "    model1 = model\n",
    "    trace_acc[n] = varification(test_data,e_label,model1)\n",
    "    trace_loss.append(sum(sum_loss)/len(sum_loss))\n",
    "    trace.append(sum(sums)/len(sums))"
   ]
  },
  {
   "cell_type": "code",
   "execution_count": 13,
   "metadata": {},
   "outputs": [
    {
     "data": {
      "text/plain": [
       "[<matplotlib.lines.Line2D at 0x24e037dbda0>]"
      ]
     },
     "execution_count": 13,
     "metadata": {},
     "output_type": "execute_result"
    },
    {
     "data": {
      "image/png": "[encoded data removed]",
      "text/plain": [
       "<matplotlib.figure.Figure at 0x24e0308fc18>"
      ]
     },
     "metadata": {},
     "output_type": "display_data"
    }
   ],
   "source": [
    "plt.title('learning curve')\n",
    "plt.xlabel('Iteration')\n",
    "plt.ylabel('Accuracy')\n",
    "plt.plot(trace)\n",
    "plt.plot(trace_acc)"
   ]
  },
  {
   "cell_type": "code",
   "execution_count": 104,
   "metadata": {},
   "outputs": [
    {
     "data": {
      "text/plain": [
       "[<matplotlib.lines.Line2D at 0x1b7ac61add8>]"
      ]
     },
     "execution_count": 104,
     "metadata": {},
     "output_type": "execute_result"
    },
    {
     "data": {
      "image/png": "[encoded data removed]",
      "text/plain": [
       "<matplotlib.figure.Figure at 0x1b78380aef0>"
      ]
     },
     "metadata": {},
     "output_type": "display_data"
    }
   ],
   "source": [
    "plt.plot(trace_acc)"
   ]
  },
  {
   "cell_type": "code",
   "execution_count": 27,
   "metadata": {
    "collapsed": true
   },
   "outputs": [],
   "source": [
    "l = [1,2,3,4]\n",
    "d=[]\n",
    "d.append(l)"
   ]
  },
  {
   "cell_type": "code",
   "execution_count": 167,
   "metadata": {},
   "outputs": [
    {
     "data": {
      "text/plain": [
       "[<matplotlib.lines.Line2D at 0x1f286c7bcc0>]"
      ]
     },
     "execution_count": 167,
     "metadata": {},
     "output_type": "execute_result"
    },
    {
     "data": {
      "image/png": "[encoded data removed]",
      "text/plain": [
       "<matplotlib.figure.Figure at 0x1f2801862e8>"
      ]
     },
     "metadata": {},
     "output_type": "display_data"
    }
   ],
   "source": [
    "plt.plot(trace)"
   ]
  },
  {
   "cell_type": "code",
   "execution_count": 169,
   "metadata": {},
   "outputs": [
    {
     "data": {
      "text/plain": [
       "[<matplotlib.lines.Line2D at 0x1f2fa388320>]"
      ]
     },
     "execution_count": 169,
     "metadata": {},
     "output_type": "execute_result"
    },
    {
     "data": {
      "image/png": "[encoded data removed]",
      "text/plain": [
       "<matplotlib.figure.Figure at 0x1f2f8a08a20>"
      ]
     },
     "metadata": {},
     "output_type": "display_data"
    }
   ],
   "source": [
    "plt.plot(trace_loss)"
   ]
  },
  {
   "cell_type": "code",
   "execution_count": null,
   "metadata": {
    "collapsed": true
   },
   "outputs": [],
   "source": []
  }
 ],
 "metadata": {
  "kernelspec": {
   "display_name": "Python 3",
   "language": "python",
   "name": "python3"
  },
  "language_info": {
   "codemirror_mode": {
    "name": "ipython",
    "version": 3
   },
   "file_extension": ".py",
   "mimetype": "text/x-python",
   "name": "python",
   "nbconvert_exporter": "python",
   "pygments_lexer": "ipython3",
   "version": "3.6.3"
  }
 },
 "nbformat": 4,
 "nbformat_minor": 2
}
