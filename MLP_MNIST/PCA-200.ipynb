{
 "cells": [
  {
   "cell_type": "code",
   "execution_count": 52,
   "metadata": {
    "collapsed": true
   },
   "outputs": [],
   "source": [
    "import os\n",
    "import numpy as np\n",
    "import struct\n",
    "from numpy import zeros\n",
    "import array\n",
    "import matplotlib\n",
    "from matplotlib import pyplot as plt\n",
    "import scipy\n",
    "from scipy import misc\n",
    "import time\n",
    "import sys\n",
    "# import needed library for MLP \n",
    "import torch\n",
    "import torch.nn as nn\n",
    "import torch.nn.functional\n",
    "import torch.utils.data\n",
    "from torch.autograd import Variable\n",
    "from itertools import product\n",
    "from sklearn.decomposition import PCA\n",
    "from sklearn.neighbors import KNeighborsClassifier\n",
    "%matplotlib inline"
   ]
  },
  {
   "cell_type": "code",
   "execution_count": 53,
   "metadata": {
    "collapsed": true
   },
   "outputs": [],
   "source": [
    "def load_mnist(dataset=\"training\", digits=np.arange(10), path=\".\", size = 60000):\n",
    "    if dataset == \"training\":\n",
    "        fname_img = os.path.join(path, 'train-images.idx3-ubyte')\n",
    "        fname_lbl = os.path.join(path, 'train-labels.idx1-ubyte')\n",
    "    elif dataset == \"testing\":\n",
    "        fname_img = os.path.join(path, 't10k-images.idx3-ubyte')\n",
    "        fname_lbl = os.path.join(path, 't10k-labels.idx1-ubyte')\n",
    "    else:\n",
    "        raise ValueError(\"dataset must be 'testing' or 'training'\")\n",
    "\n",
    "    flbl = open(fname_lbl, 'rb')\n",
    "    magic_nr, size = struct.unpack(\">II\", flbl.read(8))\n",
    "    lbl = array.array(\"b\", flbl.read())\n",
    "    flbl.close()\n",
    "\n",
    "    fimg = open(fname_img, 'rb')\n",
    "    magic_nr, size, rows, cols = struct.unpack(\">IIII\", fimg.read(16))\n",
    "    img = array.array(\"B\", fimg.read())\n",
    "    fimg.close()\n",
    "\n",
    "    ind = [ k for k in range(size) if lbl[k] in digits ]\n",
    "    N = size #int(len(ind) * size/100.)\n",
    "    images = zeros((N, rows, cols), dtype='uint8')\n",
    "    labels = zeros((N, 1), dtype='int8')\n",
    "    for i in range(N): #int(len(ind) * size/100.)):\n",
    "        images[i] = np.array(img[ ind[i]*rows*cols : (ind[i]+1)*rows*cols ])\\\n",
    "            .reshape((rows, cols))\n",
    "        labels[i] = lbl[ind[i]]\n",
    "    labels = [label[0] for label in labels]\n",
    "    return images, labels"
   ]
  },
  {
   "cell_type": "code",
   "execution_count": 54,
   "metadata": {
    "collapsed": true
   },
   "outputs": [],
   "source": [
    "#train and validation data\n",
    "tr,label = load_mnist(\"training\")\n",
    "tr_label = np.array(label[0:50000],dtype = np.long)\n",
    "va_label = np.array(label[50000:60000],dtype = np.long)\n",
    "train = tr[0:50000]\n",
    "validate = tr[50000:60000]\n",
    "#test data\n",
    "test,te_label = load_mnist(\"testing\")\n",
    "te_label = np.array(te_label,dtype = np.long)"
   ]
  },
  {
   "cell_type": "code",
   "execution_count": 55,
   "metadata": {
    "collapsed": true
   },
   "outputs": [],
   "source": [
    "#normalize data\n",
    "train = train/256\n",
    "validate = validate/256\n",
    "test = test/256"
   ]
  },
  {
   "cell_type": "code",
   "execution_count": 56,
   "metadata": {
    "collapsed": true
   },
   "outputs": [],
   "source": [
    "#reshape the array\n",
    "t_data = np.zeros((50000,784))\n",
    "v_data = np.zeros((10000,784))\n",
    "te_data = np.zeros((10000,784))\n",
    "for i in range(50000):\n",
    "    t_data[i,:] = train[i].reshape(1,784)\n",
    "for i in range(10000):\n",
    "    v_data[i,:] = validate[i].reshape(1,784)\n",
    "    te_data[i,:] = test[i].reshape(1,784)"
   ]
  },
  {
   "cell_type": "code",
   "execution_count": 59,
   "metadata": {
    "collapsed": true
   },
   "outputs": [],
   "source": [
    "# choose component\n",
    "def PCA_caculate(data,num_components):\n",
    "    pca = PCA(num_components)\n",
    "    pca.fit(data)\n",
    "    x = pca.transform(data)\n",
    "    return x\n",
    "train_data = PCA_caculate(t_data,200)\n",
    "test_data = PCA_caculate(te_data,200)\n",
    "validate_data = PCA_caculate(v_data,200)\n",
    "#num_components = 14\n",
    "#pca = PCA(n_components = num_components)\n",
    "#pca.fit(train[0])\n",
    "#x = pca.transform(train[0])\n",
    "    #pca.fit(test[i])\n",
    "    #test[i] = pca.transform(test[i])"
   ]
  },
  {
   "cell_type": "code",
   "execution_count": 60,
   "metadata": {
    "collapsed": true
   },
   "outputs": [],
   "source": [
    "convert_train = np.zeros((50000,1,200))\n",
    "convert_test = np.zeros((10000,1,200))\n",
    "convert_validate = np.zeros((10000,1,200))\n",
    "for i in range(50000):\n",
    "    convert_train[i] = train_data[i,:]\n",
    "for i in range(10000):\n",
    "    convert_test[i] = test_data[i,:]\n",
    "    convert_validate = validate_data[i,:]"
   ]
  },
  {
   "cell_type": "code",
   "execution_count": 61,
   "metadata": {
    "collapsed": true
   },
   "outputs": [],
   "source": [
    "training=torch.utils.data.DataLoader(torch.from_numpy(convert_train),batch_size = 100)\n",
    "validation =torch.utils.data.DataLoader(torch.from_numpy(convert_validate),batch_size = 100)\n",
    "testing =torch.utils.data.DataLoader(torch.from_numpy(convert_test),batch_size = 100)\n",
    "train_label = torch.from_numpy(tr_label)\n",
    "validate_label = torch.from_numpy(va_label)\n",
    "test_label = torch.from_numpy(te_label)"
   ]
  },
  {
   "cell_type": "code",
   "execution_count": 62,
   "metadata": {
    "collapsed": true
   },
   "outputs": [],
   "source": [
    "num_drop = 0.5\n",
    "class MLP(nn.Module):\n",
    "    def __init__(self):\n",
    "        super(MLP, self).__init__()\n",
    "        self.L1 = nn.Linear(200,700)\n",
    "        self.drop1 = nn.Dropout(num_drop)\n",
    "        self.L2 = nn.Linear(700,300)\n",
    "        self.drop2 = nn.Dropout(num_drop)\n",
    "        self.L3 = nn.Linear(300,10)\n",
    "    def forward(self,din):\n",
    "        din = din.view(-1,200)\n",
    "        dout = torch.nn.functional.relu(self.drop1(self.L1(din)))\n",
    "        dout = torch.nn.functional.relu(self.drop2(self.L2(dout)))\n",
    "        return torch.nn.functional.softmax(self.L3(dout))\n",
    " #calculate accuracy\n",
    "def accuracy(preb,label):\n",
    "    preb = preb.cpu().data.numpy()\n",
    "    label = label.cpu().data.numpy()\n",
    "    test_np = (np.argmax(preb,1)==label)\n",
    "    test_np = np.float32(test_np)\n",
    "    return (np.mean(test_np))\n",
    "def MSE(preb,label):\n",
    "    sumss = 0\n",
    "    preb = preb.cpu().data.numpy()\n",
    "    label = label.cpu().data.numpy()\n",
    "    re = np.argmax(preb,1)\n",
    "    label = np.float32(label)\n",
    "    for o in range(100):\n",
    "        sumss = sumss+(re[o]-label[o])**2\n",
    "    return (sumss/100)"
   ]
  },
  {
   "cell_type": "code",
   "execution_count": 49,
   "metadata": {
    "collapsed": true
   },
   "outputs": [],
   "source": [
    "model = MLP().cuda()\n",
    "sgd = torch.optim.SGD(model.parameters(),lr = 0.1, momentum = 0.9)\n",
    "lossfunc = torch.nn.CrossEntropyLoss()\n",
    "trace = []\n",
    "MSE=[]\n",
    "for n in range(20):\n",
    "    sums=[]\n",
    "    mse_t=[]\n",
    "    for i,data in enumerate(training_data):\n",
    "        sgd.zero_grad()\n",
    "        data = data.type(torch.FloatTensor)\n",
    "        labels = train_label[i*100:i*100+100].type(torch.LongTensor)\n",
    "        inputs = torch.autograd.Variable(data).cuda()\n",
    "        labels = torch.autograd.Variable(labels).cuda()\n",
    "        outputs = model(inputs)\n",
    "        loss = lossfunc(outputs,labels)\n",
    "        loss.backward()\n",
    "        sgd.step()\n",
    "        sums.append(accuracy(outputs,labels))\n",
    "    trace.append(sum(sums)/len(sums))\n"
   ]
  },
  {
   "cell_type": "code",
   "execution_count": 50,
   "metadata": {},
   "outputs": [
    {
     "data": {
      "text/plain": [
       "[<matplotlib.lines.Line2D at 0x2b70019cf28>]"
      ]
     },
     "execution_count": 50,
     "metadata": {},
     "output_type": "execute_result"
    },
    {
     "data": {
      "image/png": "[encoded data removed]",
      "text/plain": [
       "<matplotlib.figure.Figure at 0x2b70015ee48>"
      ]
     },
     "metadata": {},
     "output_type": "display_data"
    }
   ],
   "source": [
    "plt.plot(trace)"
   ]
  },
  {
   "cell_type": "code",
   "execution_count": 51,
   "metadata": {},
   "outputs": [
    {
     "name": "stdout",
     "output_type": "stream",
     "text": [
      "0.962460005283\n"
     ]
    }
   ],
   "source": [
    "print(trace[19])"
   ]
  },
  {
   "cell_type": "code",
   "execution_count": null,
   "metadata": {
    "collapsed": true
   },
   "outputs": [],
   "source": []
  }
 ],
 "metadata": {
  "kernelspec": {
   "display_name": "Python 3",
   "language": "python",
   "name": "python3"
  },
  "language_info": {
   "codemirror_mode": {
    "name": "ipython",
    "version": 3
   },
   "file_extension": ".py",
   "mimetype": "text/x-python",
   "name": "python",
   "nbconvert_exporter": "python",
   "pygments_lexer": "ipython3",
   "version": "3.6.3"
  }
 },
 "nbformat": 4,
 "nbformat_minor": 2
}
