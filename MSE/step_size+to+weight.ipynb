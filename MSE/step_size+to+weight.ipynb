{
 "cells": [
  {
   "cell_type": "code",
   "execution_count": 67,
   "metadata": {
    "collapsed": true
   },
   "outputs": [],
   "source": [
    "import numpy as np\n",
    "import scipy.io as sio\n",
    "from mpl_toolkits.mplot3d import Axes3D\n",
    "import matplotlib\n",
    "import matplotlib.pyplot as plt\n",
    "import math\n",
    "import array\n",
    "from matplotlib import cm\n",
    "from matplotlib.ticker import LinearLocator, FormatStrFormatter\n",
    "%matplotlib inline"
   ]
  },
  {
   "cell_type": "code",
   "execution_count": 68,
   "metadata": {
    "collapsed": true
   },
   "outputs": [],
   "source": [
    "train = np.loadtxt('training.txt')\n",
    "validate = np.loadtxt('validate.txt')\n",
    "train = train-np.mean(train)\n",
    "validate = validate-np.mean(validate)\n",
    "N = train.shape[0]\n",
    "Nv = validate.shape[0]\n",
    "x = []\n",
    "y = []\n",
    "z = []\n",
    "y_v = []\n",
    "xx=np.arange(0,2996,1)\n",
    "x_t = np.arange(0,3,0.001)\n",
    "x_v = np.arange(0,3,0.003)\n",
    "j1=[]"
   ]
  },
  {
   "cell_type": "code",
   "execution_count": 69,
   "metadata": {},
   "outputs": [
    {
     "name": "stdout",
     "output_type": "stream",
     "text": [
      "[ 0.00030199  0.00060398  0.00090597]\n"
     ]
    },
    {
     "data": {
      "image/png": "[encoded data removed]",
      "text/plain": [
       "<matplotlib.figure.Figure at 0x11ad222e8>"
      ]
     },
     "metadata": {},
     "output_type": "display_data"
    }
   ],
   "source": [
    "m = 4\n",
    "X = np.zeros(shape=(m,N-m))\n",
    "Y = train[m:N]  # Y is N-m*1 matrix\n",
    "    #print(Y.shape)\n",
    "for i in range(0,N-m):\n",
    "    temp = train[i:i+m]\n",
    "    X[:,i] = temp[::-1] # X is m*N-m matrix\n",
    "R = X@X.T\n",
    "value, vector = np.linalg.eig(R)\n",
    "step_up = 1/max(value)\n",
    "step = np.arange(step_up/3,step_up+step_up/4,step_up/3)\n",
    "j=0\n",
    "sum_rms = 0\n",
    "w = np.zeros(shape=(m,1)) # w is m*1 matrix\n",
    "for q in range(3):\n",
    "    for iteration in range(0,N-m):\n",
    "        #w = w + step[j]*(X[:,iteration].T@w-Y[iteration])*X[:,iteration]\n",
    "        error = Y[iteration]-X[:,iteration].T@w\n",
    "        J = step[j]*error*X[:,iteration]\n",
    "        w[:,0] = w[:,0] + J.T\n",
    "        jj = w.sum()/4\n",
    "        j1.append(jj) \n",
    "print(step[0:3])\n",
    "p1=plt.plot(xx,j1[0:2996],'b')\n",
    "p2=plt.plot(xx,j1[2996:5992],'r')\n",
    "p3=plt.plot(xx,j1[5992:8988],'g')\n",
    "plt.xlabel('iteration')\n",
    "plt.ylabel('weight')\n",
    "plt.legend((p1[0],p2[0],p3[0]),('step size = 0.00030199', 'step size = 0.00060398','step size = 0.00090597'), fontsize=10)\n",
    "        #print(w)\n",
    "Xv = np.zeros(shape=(m,Nv-m))\n",
    "Yv = validate[m:Nv]\n",
    "for p in range(0,Nv-m):\n",
    "    temp = train[p:p+m]\n",
    "    Xv[:,p] = temp[::-1]\n",
    "yv = w.T@Xv\n",
    "#plt.plot(x_v[3:Nv],yv.T,'g')\n",
    "#plt.xlabel('time')\n",
    "#plt.title('predict validate data when m = 3 ')\n",
    "#plt.show()\n",
    "MSE = np.zeros(shape=(Nv-m,1))\n",
    "for n in range(0,Nv-m):\n",
    "    MSE[n] = (Yv[n] - yv.T[n])**2\n",
    "x.append(m)\n",
    "y.append(step[j])\n",
    "z.append(MSE.sum()/(Nv-m))\n",
    "#plt.plot(y,z,'r')\n",
    "#plt.title('Filter Order m = 30')\n",
    "#plt.xlabel('Step')\n",
    "#plt.ylabel('MSE')\n",
    "#plt.show()"
   ]
  },
  {
   "cell_type": "code",
   "execution_count": null,
   "metadata": {
    "collapsed": true
   },
   "outputs": [],
   "source": []
  }
 ],
 "metadata": {
  "kernelspec": {
   "display_name": "Python 3",
   "language": "python",
   "name": "python3"
  },
  "language_info": {
   "codemirror_mode": {
    "name": "ipython",
    "version": 3
   },
   "file_extension": ".py",
   "mimetype": "text/x-python",
   "name": "python",
   "nbconvert_exporter": "python",
   "pygments_lexer": "ipython3",
   "version": "3.6.1"
  }
 },
 "nbformat": 4,
 "nbformat_minor": 2
}
