{
 "cells": [
  {
   "cell_type": "markdown",
   "metadata": {},
   "source": [
    "# Neural Machine Translation\n",
    "\n",
    "Welcome to your first programming assignment for this week! \n",
    "\n",
    "You will build a Neural Machine Translation (NMT) model to translate human readable dates (\"25th of June, 2009\") into machine readable dates (\"2009-06-25\"). You will do this using an attention model, one of the most sophisticated sequence to sequence models. \n",
    "\n",
    "This notebook was produced together with NVIDIA's Deep Learning Institute. \n",
    "\n",
    "Let's load all the packages you will need for this assignment."
   ]
  },
  {
   "cell_type": "code",
   "execution_count": 1,
   "metadata": {},
   "outputs": [
    {
     "name": "stderr",
     "output_type": "stream",
     "text": [
      "Using TensorFlow backend.\n"
     ]
    }
   ],
   "source": [
    "from keras.layers import Bidirectional, Concatenate, Permute, Dot, Input, LSTM, Multiply\n",
    "from keras.layers import RepeatVector, Dense, Activation, Lambda\n",
    "from keras.optimizers import Adam\n",
    "from keras.utils import to_categorical\n",
    "from keras.models import load_model, Model\n",
    "import keras.backend as K\n",
    "import numpy as np\n",
    "\n",
    "from faker import Faker\n",
    "import random\n",
    "from tqdm import tqdm\n",
    "from babel.dates import format_date\n",
    "from nmt_utils import *\n",
    "import matplotlib.pyplot as plt\n",
    "%matplotlib inline"
   ]
  },
  {
   "cell_type": "markdown",
   "metadata": {},
   "source": [
    "## 1 - Translating human readable dates into machine readable dates\n",
    "\n",
    "The model you will build here could be used to translate from one language to another, such as translating from English to Hindi. However, language translation requires massive datasets and usually takes days of training on GPUs. To give you a place to experiment with these models even without using massive datasets, we will instead use a simpler \"date translation\" task. \n",
    "\n",
    "The network will input a date written in a variety of possible formats (*e.g. \"the 29th of August 1958\", \"03/30/1968\", \"24 JUNE 1987\"*) and translate them into standardized, machine readable dates (*e.g. \"1958-08-29\", \"1968-03-30\", \"1987-06-24\"*). We will have the network learn to output dates in the common machine-readable format YYYY-MM-DD. \n",
    "\n",
    "\n",
    "\n",
    "<!-- \n",
    "Take a look at [nmt_utils.py](./nmt_utils.py) to see all the formatting. Count and figure out how the formats work, you will need this knowledge later. !--> "
   ]
  },
  {
   "cell_type": "markdown",
   "metadata": {},
   "source": [
    "### 1.1 - Dataset\n",
    "\n",
    "We will train the model on a dataset of 10000 human readable dates and their equivalent, standardized, machine readable dates. Let's run the following cells to load the dataset and print some examples. "
   ]
  },
  {
   "cell_type": "code",
   "execution_count": 2,
   "metadata": {},
   "outputs": [
    {
     "name": "stderr",
     "output_type": "stream",
     "text": [
      "100%|██████████████████████████████████| 10000/10000 [00:01<00:00, 7178.34it/s]\n"
     ]
    }
   ],
   "source": [
    "m = 10000\n",
    "dataset, human_vocab, machine_vocab, inv_machine_vocab = load_dataset(m)"
   ]
  },
  {
   "cell_type": "code",
   "execution_count": 3,
   "metadata": {},
   "outputs": [
    {
     "data": {
      "text/plain": [
       "[('9 may 1998', '1998-05-09'),\n",
       " ('10.09.70', '1970-09-10'),\n",
       " ('4/28/90', '1990-04-28'),\n",
       " ('thursday january 26 1995', '1995-01-26'),\n",
       " ('monday march 7 1983', '1983-03-07'),\n",
       " ('sunday may 22 1988', '1988-05-22'),\n",
       " ('tuesday july 8 2008', '2008-07-08'),\n",
       " ('08 sep 1999', '1999-09-08'),\n",
       " ('1 jan 1981', '1981-01-01'),\n",
       " ('monday may 22 1995', '1995-05-22')]"
      ]
     },
     "execution_count": 3,
     "metadata": {},
     "output_type": "execute_result"
    }
   ],
   "source": [
    "dataset[:10]"
   ]
  },
  {
   "cell_type": "markdown",
   "metadata": {},
   "source": [
    "You've loaded:\n",
    "- `dataset`: a list of tuples of (human readable date, machine readable date)\n",
    "- `human_vocab`: a python dictionary mapping all characters used in the human readable dates to an integer-valued index \n",
    "- `machine_vocab`: a python dictionary mapping all characters used in machine readable dates to an integer-valued index. These indices are not necessarily consistent with `human_vocab`. \n",
    "- `inv_machine_vocab`: the inverse dictionary of `machine_vocab`, mapping from indices back to characters. \n",
    "\n",
    "Let's preprocess the data and map the raw text data into the index values. We will also use Tx=30 (which we assume is the maximum length of the human readable date; if we get a longer input, we would have to truncate it) and Ty=10 (since \"YYYY-MM-DD\" is 10 characters long). "
   ]
  },
  {
   "cell_type": "code",
   "execution_count": 4,
   "metadata": {},
   "outputs": [
    {
     "name": "stdout",
     "output_type": "stream",
     "text": [
      "X.shape: (10000, 30)\n",
      "Y.shape: (10000, 10)\n",
      "Xoh.shape: (10000, 30, 37)\n",
      "Yoh.shape: (10000, 10, 11)\n"
     ]
    }
   ],
   "source": [
    "Tx = 30\n",
    "Ty = 10\n",
    "X, Y, Xoh, Yoh = preprocess_data(dataset, human_vocab, machine_vocab, Tx, Ty)\n",
    "\n",
    "print(\"X.shape:\", X.shape)\n",
    "print(\"Y.shape:\", Y.shape)\n",
    "print(\"Xoh.shape:\", Xoh.shape)\n",
    "print(\"Yoh.shape:\", Yoh.shape)"
   ]
  },
  {
   "cell_type": "markdown",
   "metadata": {},
   "source": [
    "You now have:\n",
    "- `X`: a processed version of the human readable dates in the training set, where each character is replaced by an index mapped to the character via `human_vocab`. Each date is further padded to $T_x$ values with a special character (< pad >). `X.shape = (m, Tx)`\n",
    "- `Y`: a processed version of the machine readable dates in the training set, where each character is replaced by the index it is mapped to in `machine_vocab`. You should have `Y.shape = (m, Ty)`. \n",
    "- `Xoh`: one-hot version of `X`, the \"1\" entry's index is mapped to the character thanks to `human_vocab`. `Xoh.shape = (m, Tx, len(human_vocab))`\n",
    "- `Yoh`: one-hot version of `Y`, the \"1\" entry's index is mapped to the character thanks to `machine_vocab`. `Yoh.shape = (m, Tx, len(machine_vocab))`. Here, `len(machine_vocab) = 11` since there are 11 characters ('-' as well as 0-9). \n"
   ]
  },
  {
   "cell_type": "markdown",
   "metadata": {},
   "source": [
    "Lets also look at some examples of preprocessed training examples. Feel free to play with `index` in the cell below to navigate the dataset and see how source/target dates are preprocessed. "
   ]
  },
  {
   "cell_type": "code",
   "execution_count": 6,
   "metadata": {},
   "outputs": [
    {
     "name": "stdout",
     "output_type": "stream",
     "text": [
      "Source date: 08 sep 1999\n",
      "Target date: 1999-09-08\n",
      "\n",
      "Source after preprocessing (indices): [ 3 11  0 29 17 27  0  4 12 12 12 36 36 36 36 36 36 36 36 36 36 36 36 36 36\n",
      " 36 36 36 36 36]\n",
      "Target after preprocessing (indices): [ 2 10 10 10  0  1 10  0  1  9]\n",
      "\n",
      "Source after preprocessing (one-hot): [[ 0.  0.  0. ...,  0.  0.  0.]\n",
      " [ 0.  0.  0. ...,  0.  0.  0.]\n",
      " [ 1.  0.  0. ...,  0.  0.  0.]\n",
      " ..., \n",
      " [ 0.  0.  0. ...,  0.  0.  1.]\n",
      " [ 0.  0.  0. ...,  0.  0.  1.]\n",
      " [ 0.  0.  0. ...,  0.  0.  1.]]\n",
      "Target after preprocessing (one-hot): [[ 0.  0.  1.  0.  0.  0.  0.  0.  0.  0.  0.]\n",
      " [ 0.  0.  0.  0.  0.  0.  0.  0.  0.  0.  1.]\n",
      " [ 0.  0.  0.  0.  0.  0.  0.  0.  0.  0.  1.]\n",
      " [ 0.  0.  0.  0.  0.  0.  0.  0.  0.  0.  1.]\n",
      " [ 1.  0.  0.  0.  0.  0.  0.  0.  0.  0.  0.]\n",
      " [ 0.  1.  0.  0.  0.  0.  0.  0.  0.  0.  0.]\n",
      " [ 0.  0.  0.  0.  0.  0.  0.  0.  0.  0.  1.]\n",
      " [ 1.  0.  0.  0.  0.  0.  0.  0.  0.  0.  0.]\n",
      " [ 0.  1.  0.  0.  0.  0.  0.  0.  0.  0.  0.]\n",
      " [ 0.  0.  0.  0.  0.  0.  0.  0.  0.  1.  0.]]\n"
     ]
    }
   ],
   "source": [
    "index = 7\n",
    "print(\"Source date:\", dataset[index][0])\n",
    "print(\"Target date:\", dataset[index][1])\n",
    "print()\n",
    "print(\"Source after preprocessing (indices):\", X[index])\n",
    "print(\"Target after preprocessing (indices):\", Y[index])\n",
    "print()\n",
    "print(\"Source after preprocessing (one-hot):\", Xoh[index])\n",
    "print(\"Target after preprocessing (one-hot):\", Yoh[index])"
   ]
  },
  {
   "cell_type": "markdown",
   "metadata": {},
   "source": [
    "## 2 - Neural machine translation with attention\n",
    "\n",
    "If you had to translate a book's paragraph from French to English, you would not read the whole paragraph, then close the book and translate. Even during the translation process, you would read/re-read and focus on the parts of the French paragraph corresponding to the parts of the English you are writing down. \n",
    "\n",
    "The attention mechanism tells a Neural Machine Translation model where it should pay attention to at any step. \n",
    "\n",
    "\n",
    "### 2.1 - Attention mechanism\n",
    "\n",
    "In this part, you will implement the attention mechanism presented in the lecture videos. Here is a figure to remind you how the model works. The diagram on the left shows the attention model. The diagram on the right shows what one \"Attention\" step does to calculate the attention variables $\\alpha^{\\langle t, t' \\rangle}$, which are used to compute the context variable $context^{\\langle t \\rangle}$ for each timestep in the output ($t=1, \\ldots, T_y$). \n",
    "\n",
    "<table>\n",
    "<td> \n",
    "<img src=\"images/attn_model.png\" style=\"width:500;height:500px;\"> <br>\n",
    "</td> \n",
    "<td> \n",
    "<img src=\"images/attn_mechanism.png\" style=\"width:500;height:500px;\"> <br>\n",
    "</td> \n",
    "</table>\n",
    "<caption><center> **Figure 1**: Neural machine translation with attention</center></caption>\n"
   ]
  },
  {
   "cell_type": "markdown",
   "metadata": {},
   "source": [
    "\n",
    "Here are some properties of the model that you may notice: \n",
    "\n",
    "- There are two separate LSTMs in this model (see diagram on the left). Because the one at the bottom of the picture is a Bi-directional LSTM and comes *before* the attention mechanism, we will call it *pre-attention* Bi-LSTM. The LSTM at the top of the diagram comes *after* the attention mechanism, so we will call it the *post-attention* LSTM. The pre-attention Bi-LSTM goes through $T_x$ time steps; the post-attention LSTM goes through $T_y$ time steps. \n",
    "\n",
    "- The post-attention LSTM passes $s^{\\langle t \\rangle}, c^{\\langle t \\rangle}$ from one time step to the next. In the lecture videos, we were using only a basic RNN for the post-activation sequence model, so the state captured by the RNN output activations $s^{\\langle t\\rangle}$. But since we are using an LSTM here, the LSTM has both the output activation $s^{\\langle t\\rangle}$ and the hidden cell state $c^{\\langle t\\rangle}$. However, unlike previous text generation examples (such as Dinosaurus in week 1), in this model the post-activation LSTM at time $t$ does will not take the specific generated $y^{\\langle t-1 \\rangle}$ as input; it only takes $s^{\\langle t\\rangle}$ and $c^{\\langle t\\rangle}$ as input. We have designed the model this way, because (unlike language generation where adjacent characters are highly correlated) there isn't as strong a dependency between the previous character and the next character in a YYYY-MM-DD date. \n",
    "\n",
    "- We use $a^{\\langle t \\rangle} = [\\overrightarrow{a}^{\\langle t \\rangle}; \\overleftarrow{a}^{\\langle t \\rangle}]$ to represent the concatenation of the activations of both the forward-direction and backward-directions of the pre-attention Bi-LSTM. \n",
    "\n",
    "- The diagram on the right uses a `RepeatVector` node to copy $s^{\\langle t-1 \\rangle}$'s value $T_x$ times, and then `Concatenation` to concatenate $s^{\\langle t-1 \\rangle}$ and $a^{\\langle t \\rangle}$ to compute $e^{\\langle t, t'}$, which is then passed through a softmax to compute $\\alpha^{\\langle t, t' \\rangle}$. We'll explain how to use `RepeatVector` and `Concatenation` in Keras below. \n",
    "\n",
    "Lets implement this model. You will start by implementing two functions: `one_step_attention()` and `model()`.\n",
    "\n",
    "**1) `one_step_attention()`**: At step $t$, given all the hidden states of the Bi-LSTM ($[a^{<1>},a^{<2>}, ..., a^{<T_x>}]$) and the previous hidden state of the second LSTM ($s^{<t-1>}$), `one_step_attention()` will compute the attention weights ($[\\alpha^{<t,1>},\\alpha^{<t,2>}, ..., \\alpha^{<t,T_x>}]$) and output the context vector (see Figure  1 (right) for details):\n",
    "$$context^{<t>} = \\sum_{t' = 0}^{T_x} \\alpha^{<t,t'>}a^{<t'>}\\tag{1}$$ \n",
    "\n",
    "Note that we are denoting the attention in this notebook $context^{\\langle t \\rangle}$. In the lecture videos, the context was denoted $c^{\\langle t \\rangle}$, but here we are calling it $context^{\\langle t \\rangle}$ to avoid confusion with the (post-attention) LSTM's internal memory cell variable, which is sometimes also denoted $c^{\\langle t \\rangle}$. \n",
    "  \n",
    "**2) `model()`**: Implements the entire model. It first runs the input through a Bi-LSTM to get back $[a^{<1>},a^{<2>}, ..., a^{<T_x>}]$. Then, it calls `one_step_attention()` $T_y$ times (`for` loop). At each iteration of this loop, it gives the computed context vector $c^{<t>}$ to the second LSTM, and runs the output of the LSTM through a dense layer with softmax activation to generate a prediction $\\hat{y}^{<t>}$. \n",
    "\n",
    "\n",
    "\n",
    "**Exercise**: Implement `one_step_attention()`. The function `model()` will call the layers in `one_step_attention()` $T_y$ using a for-loop, and it is important that all $T_y$ copies have the same weights. I.e., it should not re-initiaiize the weights every time. In other words, all $T_y$ steps should have shared weights. Here's how you can implement layers with shareable weights in Keras:\n",
    "1. Define the layer objects (as global variables for examples).\n",
    "2. Call these objects when propagating the input.\n",
    "\n",
    "We have defined the layers you need as global variables. Please run the following cells to create them. Please check the Keras documentation to make sure you understand what these layers are: [RepeatVector()](https://keras.io/layers/core/#repeatvector), [Concatenate()](https://keras.io/layers/merge/#concatenate), [Dense()](https://keras.io/layers/core/#dense), [Activation()](https://keras.io/layers/core/#activation), [Dot()](https://keras.io/layers/merge/#dot)."
   ]
  },
  {
   "cell_type": "code",
   "execution_count": 7,
   "metadata": {
    "collapsed": true
   },
   "outputs": [],
   "source": [
    "# Defined shared layers as global variables\n",
    "repeator = RepeatVector(Tx)\n",
    "concatenator = Concatenate(axis=-1)\n",
    "densor1 = Dense(10, activation = \"tanh\")\n",
    "densor2 = Dense(1, activation = \"relu\")\n",
    "activator = Activation(softmax, name='attention_weights') # We are using a custom softmax(axis = 1) loaded in this notebook\n",
    "dotor = Dot(axes = 1)"
   ]
  },
  {
   "cell_type": "markdown",
   "metadata": {},
   "source": [
    "Now you can use these layers to implement `one_step_attention()`. In order to propagate a Keras tensor object X through one of these layers, use `layer(X)` (or `layer([X,Y])` if it requires multiple inputs.), e.g. `densor(X)` will propagate X through the `Dense(1)` layer defined above."
   ]
  },
  {
   "cell_type": "code",
   "execution_count": 8,
   "metadata": {
    "collapsed": true
   },
   "outputs": [],
   "source": [
    "# GRADED FUNCTION: one_step_attention\n",
    "\n",
    "def one_step_attention(a, s_prev):\n",
    "    \"\"\"\n",
    "    Performs one step of attention: Outputs a context vector computed as a dot product of the attention weights\n",
    "    \"alphas\" and the hidden states \"a\" of the Bi-LSTM.\n",
    "    \n",
    "    Arguments:\n",
    "    a -- hidden state output of the Bi-LSTM, numpy-array of shape (m, Tx, 2*n_a)\n",
    "    s_prev -- previous hidden state of the (post-attention) LSTM, numpy-array of shape (m, n_s)\n",
    "    \n",
    "    Returns:\n",
    "    context -- context vector, input of the next (post-attetion) LSTM cell\n",
    "    \"\"\"\n",
    "    \n",
    "    ### START CODE HERE ###\n",
    "    # Use repeator to repeat s_prev to be of shape (m, Tx, n_s) so that you can concatenate it with all hidden states \"a\" (≈ 1 line)\n",
    "    s_prev = repeator(s_prev)\n",
    "    # Use concatenator to concatenate a and s_prev on the last axis (≈ 1 line)\n",
    "    concat = concatenator([a, s_prev])\n",
    "    # Use densor1 to propagate concat through a small fully-connected neural network to compute the \"intermediate energies\" variable e. (≈1 lines)\n",
    "    e = densor1(concat)\n",
    "    # Use densor2 to propagate e through a small fully-connected neural network to compute the \"energies\" variable energies. (≈1 lines)\n",
    "    energies = densor2(e)\n",
    "    # Use \"activator\" on \"energies\" to compute the attention weights \"alphas\" (≈ 1 line)\n",
    "    alphas = activator(energies)\n",
    "    # Use dotor together with \"alphas\" and \"a\" to compute the context vector to be given to the next (post-attention) LSTM-cell (≈ 1 line)\n",
    "    context = dotor([alphas, a])\n",
    "    ### END CODE HERE ###\n",
    "    \n",
    "    return context"
   ]
  },
  {
   "cell_type": "markdown",
   "metadata": {},
   "source": [
    "You will be able to check the expected output of `one_step_attention()` after you've coded the `model()` function."
   ]
  },
  {
   "cell_type": "markdown",
   "metadata": {},
   "source": [
    "**Exercise**: Implement `model()` as explained in figure 2 and the text above. Again, we have defined global layers that will share weights to be used in `model()`."
   ]
  },
  {
   "cell_type": "code",
   "execution_count": 9,
   "metadata": {
    "collapsed": true
   },
   "outputs": [],
   "source": [
    "n_a = 32\n",
    "n_s = 64\n",
    "post_activation_LSTM_cell = LSTM(n_s, return_state = True)\n",
    "output_layer = Dense(len(machine_vocab), activation=softmax)"
   ]
  },
  {
   "cell_type": "markdown",
   "metadata": {},
   "source": [
    "Now you can use these layers $T_y$ times in a `for` loop to generate the outputs, and their parameters will not be reinitialized. You will have to carry out the following steps: \n",
    "\n",
    "1. Propagate the input into a [Bidirectional](https://keras.io/layers/wrappers/#bidirectional) [LSTM](https://keras.io/layers/recurrent/#lstm)\n",
    "2. Iterate for $t = 0, \\dots, T_y-1$: \n",
    "    1. Call `one_step_attention()` on $[\\alpha^{<t,1>},\\alpha^{<t,2>}, ..., \\alpha^{<t,T_x>}]$ and $s^{<t-1>}$ to get the context vector $context^{<t>}$.\n",
    "    2. Give $context^{<t>}$ to the post-attention LSTM cell. Remember pass in the previous hidden-state $s^{\\langle t-1\\rangle}$ and cell-states $c^{\\langle t-1\\rangle}$ of this LSTM using `initial_state= [previous hidden state, previous cell state]`. Get back the new hidden state $s^{<t>}$ and the new cell state $c^{<t>}$.\n",
    "    3. Apply a softmax layer to $s^{<t>}$, get the output. \n",
    "    4. Save the output by adding it to the list of outputs.\n",
    "\n",
    "3. Create your Keras model instance, it should have three inputs (\"inputs\", $s^{<0>}$ and $c^{<0>}$) and output the list of \"outputs\"."
   ]
  },
  {
   "cell_type": "code",
   "execution_count": 11,
   "metadata": {
    "collapsed": true
   },
   "outputs": [],
   "source": [
    "# GRADED FUNCTION: model\n",
    "\n",
    "def model(Tx, Ty, n_a, n_s, human_vocab_size, machine_vocab_size):\n",
    "    \"\"\"\n",
    "    Arguments:\n",
    "    Tx -- length of the input sequence\n",
    "    Ty -- length of the output sequence\n",
    "    n_a -- hidden state size of the Bi-LSTM\n",
    "    n_s -- hidden state size of the post-attention LSTM\n",
    "    human_vocab_size -- size of the python dictionary \"human_vocab\"\n",
    "    machine_vocab_size -- size of the python dictionary \"machine_vocab\"\n",
    "\n",
    "    Returns:\n",
    "    model -- Keras model instance\n",
    "    \"\"\"\n",
    "    \n",
    "    # Define the inputs of your model with a shape (Tx,)\n",
    "    # Define s0 and c0, initial hidden state for the decoder LSTM of shape (n_s,)\n",
    "    X = Input(shape=(Tx, human_vocab_size))\n",
    "    s0 = Input(shape=(n_s,), name='s0')\n",
    "    c0 = Input(shape=(n_s,), name='c0')\n",
    "    s = s0\n",
    "    c = c0\n",
    "    \n",
    "    # Initialize empty list of outputs\n",
    "    outputs = []\n",
    "    \n",
    "    ### START CODE HERE ###\n",
    "    \n",
    "    # Step 1: Define your pre-attention Bi-LSTM. Remember to use return_sequences=True. (≈ 1 line)\n",
    "    a = Bidirectional(LSTM(n_a, return_sequences = True), input_shape = (m, Tx, n_a*2))(X)\n",
    "    \n",
    "    # Step 2: Iterate for Ty steps\n",
    "    for t in range(Ty):\n",
    "    \n",
    "        # Step 2.A: Perform one step of the attention mechanism to get back the context vector at step t (≈ 1 line)\n",
    "        context = one_step_attention(a, s)\n",
    "        \n",
    "        # Step 2.B: Apply the post-attention LSTM cell to the \"context\" vector.\n",
    "        # Don't forget to pass: initial_state = [hidden state, cell state] (≈ 1 line)\n",
    "        s, _, c = post_activation_LSTM_cell(context, initial_state = [s, c])\n",
    "        \n",
    "        # Step 2.C: Apply Dense layer to the hidden state output of the post-attention LSTM (≈ 1 line)\n",
    "        out = output_layer(s)\n",
    "        \n",
    "        # Step 2.D: Append \"out\" to the \"outputs\" list (≈ 1 line)\n",
    "        outputs.append(out)\n",
    "    \n",
    "    # Step 3: Create model instance taking three inputs and returning the list of outputs. (≈ 1 line)\n",
    "    model = Model(inputs = [X, s0, c0], outputs = outputs)\n",
    "    \n",
    "    ### END CODE HERE ###\n",
    "    \n",
    "    return model"
   ]
  },
  {
   "cell_type": "markdown",
   "metadata": {},
   "source": [
    "Run the following cell to create your model."
   ]
  },
  {
   "cell_type": "code",
   "execution_count": 12,
   "metadata": {
    "collapsed": true
   },
   "outputs": [],
   "source": [
    "model = model(Tx, Ty, n_a, n_s, len(human_vocab), len(machine_vocab))"
   ]
  },
  {
   "cell_type": "markdown",
   "metadata": {},
   "source": [
    "Let's get a summary of the model to check if it matches the expected output."
   ]
  },
  {
   "cell_type": "code",
   "execution_count": 13,
   "metadata": {},
   "outputs": [
    {
     "name": "stdout",
     "output_type": "stream",
     "text": [
      "____________________________________________________________________________________________________\n",
      "Layer (type)                     Output Shape          Param #     Connected to                     \n",
      "====================================================================================================\n",
      "input_1 (InputLayer)             (None, 30, 37)        0                                            \n",
      "____________________________________________________________________________________________________\n",
      "s0 (InputLayer)                  (None, 64)            0                                            \n",
      "____________________________________________________________________________________________________\n",
      "bidirectional_1 (Bidirectional)  (None, 30, 64)        17920       input_1[0][0]                    \n",
      "____________________________________________________________________________________________________\n",
      "repeat_vector_1 (RepeatVector)   (None, 30, 64)        0           s0[0][0]                         \n",
      "                                                                   lstm_1[0][0]                     \n",
      "                                                                   lstm_1[1][0]                     \n",
      "                                                                   lstm_1[2][0]                     \n",
      "                                                                   lstm_1[3][0]                     \n",
      "                                                                   lstm_1[4][0]                     \n",
      "                                                                   lstm_1[5][0]                     \n",
      "                                                                   lstm_1[6][0]                     \n",
      "                                                                   lstm_1[7][0]                     \n",
      "                                                                   lstm_1[8][0]                     \n",
      "____________________________________________________________________________________________________\n",
      "concatenate_1 (Concatenate)      (None, 30, 128)       0           bidirectional_1[0][0]            \n",
      "                                                                   repeat_vector_1[0][0]            \n",
      "                                                                   bidirectional_1[0][0]            \n",
      "                                                                   repeat_vector_1[1][0]            \n",
      "                                                                   bidirectional_1[0][0]            \n",
      "                                                                   repeat_vector_1[2][0]            \n",
      "                                                                   bidirectional_1[0][0]            \n",
      "                                                                   repeat_vector_1[3][0]            \n",
      "                                                                   bidirectional_1[0][0]            \n",
      "                                                                   repeat_vector_1[4][0]            \n",
      "                                                                   bidirectional_1[0][0]            \n",
      "                                                                   repeat_vector_1[5][0]            \n",
      "                                                                   bidirectional_1[0][0]            \n",
      "                                                                   repeat_vector_1[6][0]            \n",
      "                                                                   bidirectional_1[0][0]            \n",
      "                                                                   repeat_vector_1[7][0]            \n",
      "                                                                   bidirectional_1[0][0]            \n",
      "                                                                   repeat_vector_1[8][0]            \n",
      "                                                                   bidirectional_1[0][0]            \n",
      "                                                                   repeat_vector_1[9][0]            \n",
      "____________________________________________________________________________________________________\n",
      "dense_1 (Dense)                  (None, 30, 10)        1290        concatenate_1[0][0]              \n",
      "                                                                   concatenate_1[1][0]              \n",
      "                                                                   concatenate_1[2][0]              \n",
      "                                                                   concatenate_1[3][0]              \n",
      "                                                                   concatenate_1[4][0]              \n",
      "                                                                   concatenate_1[5][0]              \n",
      "                                                                   concatenate_1[6][0]              \n",
      "                                                                   concatenate_1[7][0]              \n",
      "                                                                   concatenate_1[8][0]              \n",
      "                                                                   concatenate_1[9][0]              \n",
      "____________________________________________________________________________________________________\n",
      "dense_2 (Dense)                  (None, 30, 1)         11          dense_1[0][0]                    \n",
      "                                                                   dense_1[1][0]                    \n",
      "                                                                   dense_1[2][0]                    \n",
      "                                                                   dense_1[3][0]                    \n",
      "                                                                   dense_1[4][0]                    \n",
      "                                                                   dense_1[5][0]                    \n",
      "                                                                   dense_1[6][0]                    \n",
      "                                                                   dense_1[7][0]                    \n",
      "                                                                   dense_1[8][0]                    \n",
      "                                                                   dense_1[9][0]                    \n",
      "____________________________________________________________________________________________________\n",
      "attention_weights (Activation)   (None, 30, 1)         0           dense_2[0][0]                    \n",
      "                                                                   dense_2[1][0]                    \n",
      "                                                                   dense_2[2][0]                    \n",
      "                                                                   dense_2[3][0]                    \n",
      "                                                                   dense_2[4][0]                    \n",
      "                                                                   dense_2[5][0]                    \n",
      "                                                                   dense_2[6][0]                    \n",
      "                                                                   dense_2[7][0]                    \n",
      "                                                                   dense_2[8][0]                    \n",
      "                                                                   dense_2[9][0]                    \n",
      "____________________________________________________________________________________________________\n",
      "dot_1 (Dot)                      (None, 1, 64)         0           attention_weights[0][0]          \n",
      "                                                                   bidirectional_1[0][0]            \n",
      "                                                                   attention_weights[1][0]          \n",
      "                                                                   bidirectional_1[0][0]            \n",
      "                                                                   attention_weights[2][0]          \n",
      "                                                                   bidirectional_1[0][0]            \n",
      "                                                                   attention_weights[3][0]          \n",
      "                                                                   bidirectional_1[0][0]            \n",
      "                                                                   attention_weights[4][0]          \n",
      "                                                                   bidirectional_1[0][0]            \n",
      "                                                                   attention_weights[5][0]          \n",
      "                                                                   bidirectional_1[0][0]            \n",
      "                                                                   attention_weights[6][0]          \n",
      "                                                                   bidirectional_1[0][0]            \n",
      "                                                                   attention_weights[7][0]          \n",
      "                                                                   bidirectional_1[0][0]            \n",
      "                                                                   attention_weights[8][0]          \n",
      "                                                                   bidirectional_1[0][0]            \n",
      "                                                                   attention_weights[9][0]          \n",
      "                                                                   bidirectional_1[0][0]            \n",
      "____________________________________________________________________________________________________\n",
      "c0 (InputLayer)                  (None, 64)            0                                            \n",
      "____________________________________________________________________________________________________\n",
      "lstm_1 (LSTM)                    [(None, 64), (None, 6 33024       dot_1[0][0]                      \n",
      "                                                                   s0[0][0]                         \n",
      "                                                                   c0[0][0]                         \n",
      "                                                                   dot_1[1][0]                      \n",
      "                                                                   lstm_1[0][0]                     \n",
      "                                                                   lstm_1[0][2]                     \n",
      "                                                                   dot_1[2][0]                      \n",
      "                                                                   lstm_1[1][0]                     \n",
      "                                                                   lstm_1[1][2]                     \n",
      "                                                                   dot_1[3][0]                      \n",
      "                                                                   lstm_1[2][0]                     \n",
      "                                                                   lstm_1[2][2]                     \n",
      "                                                                   dot_1[4][0]                      \n",
      "                                                                   lstm_1[3][0]                     \n",
      "                                                                   lstm_1[3][2]                     \n",
      "                                                                   dot_1[5][0]                      \n",
      "                                                                   lstm_1[4][0]                     \n",
      "                                                                   lstm_1[4][2]                     \n",
      "                                                                   dot_1[6][0]                      \n",
      "                                                                   lstm_1[5][0]                     \n",
      "                                                                   lstm_1[5][2]                     \n",
      "                                                                   dot_1[7][0]                      \n",
      "                                                                   lstm_1[6][0]                     \n",
      "                                                                   lstm_1[6][2]                     \n",
      "                                                                   dot_1[8][0]                      \n",
      "                                                                   lstm_1[7][0]                     \n",
      "                                                                   lstm_1[7][2]                     \n",
      "                                                                   dot_1[9][0]                      \n",
      "                                                                   lstm_1[8][0]                     \n",
      "                                                                   lstm_1[8][2]                     \n",
      "____________________________________________________________________________________________________\n",
      "dense_3 (Dense)                  (None, 11)            715         lstm_1[0][0]                     \n",
      "                                                                   lstm_1[1][0]                     \n",
      "                                                                   lstm_1[2][0]                     \n",
      "                                                                   lstm_1[3][0]                     \n",
      "                                                                   lstm_1[4][0]                     \n",
      "                                                                   lstm_1[5][0]                     \n",
      "                                                                   lstm_1[6][0]                     \n",
      "                                                                   lstm_1[7][0]                     \n",
      "                                                                   lstm_1[8][0]                     \n",
      "                                                                   lstm_1[9][0]                     \n",
      "====================================================================================================\n",
      "Total params: 52,960\n",
      "Trainable params: 52,960\n",
      "Non-trainable params: 0\n",
      "____________________________________________________________________________________________________\n"
     ]
    }
   ],
   "source": [
    "model.summary()   #这里应该是excepted有误"
   ]
  },
  {
   "cell_type": "markdown",
   "metadata": {},
   "source": [
    "**Expected Output**:\n",
    "\n",
    "Here is the summary you should see\n",
    "<table>\n",
    "    <tr>\n",
    "        <td>\n",
    "            **Total params:**\n",
    "        </td>\n",
    "        <td>\n",
    "         185,484\n",
    "        </td>\n",
    "    </tr>\n",
    "        <tr>\n",
    "        <td>\n",
    "            **Trainable params:**\n",
    "        </td>\n",
    "        <td>\n",
    "         185,484\n",
    "        </td>\n",
    "    </tr>\n",
    "            <tr>\n",
    "        <td>\n",
    "            **Non-trainable params:**\n",
    "        </td>\n",
    "        <td>\n",
    "         0\n",
    "        </td>\n",
    "    </tr>\n",
    "                    <tr>\n",
    "        <td>\n",
    "            **bidirectional_1's output shape **\n",
    "        </td>\n",
    "        <td>\n",
    "         (None, 30, 128)  \n",
    "        </td>\n",
    "    </tr>\n",
    "    <tr>\n",
    "        <td>\n",
    "            **repeat_vector_1's output shape **\n",
    "        </td>\n",
    "        <td>\n",
    "         (None, 30, 128)  \n",
    "        </td>\n",
    "    </tr>\n",
    "                <tr>\n",
    "        <td>\n",
    "            **concatenate_1's output shape **\n",
    "        </td>\n",
    "        <td>\n",
    "         (None, 30, 256) \n",
    "        </td>\n",
    "    </tr>\n",
    "            <tr>\n",
    "        <td>\n",
    "            **attention_weights's output shape **\n",
    "        </td>\n",
    "        <td>\n",
    "         (None, 30, 1)  \n",
    "        </td>\n",
    "    </tr>\n",
    "        <tr>\n",
    "        <td>\n",
    "            **dot_1's output shape **\n",
    "        </td>\n",
    "        <td>\n",
    "         (None, 1, 128) \n",
    "        </td>\n",
    "    </tr>\n",
    "           <tr>\n",
    "        <td>\n",
    "            **dense_2's output shape **\n",
    "        </td>\n",
    "        <td>\n",
    "         (None, 11) \n",
    "        </td>\n",
    "    </tr>\n",
    "</table>\n"
   ]
  },
  {
   "cell_type": "markdown",
   "metadata": {},
   "source": [
    "As usual, after creating your model in Keras, you need to compile it and define what loss, optimizer and metrics your are want to use. Compile your model using `categorical_crossentropy` loss, a custom [Adam](https://keras.io/optimizers/#adam) [optimizer](https://keras.io/optimizers/#usage-of-optimizers) (`learning rate = 0.005`, $\\beta_1 = 0.9$, $\\beta_2 = 0.999$, `decay = 0.01`)  and `['accuracy']` metrics:"
   ]
  },
  {
   "cell_type": "code",
   "execution_count": 14,
   "metadata": {
    "collapsed": true
   },
   "outputs": [],
   "source": [
    "### START CODE HERE ### (≈2 lines)\n",
    "opt = Adam(lr = 0.005, beta_1 = 0.9, beta_2 = 0.999,decay = 0.01)  \n",
    "model.compile(loss = 'categorical_crossentropy', optimizer = opt,metrics = ['accuracy'])  \n",
    "### END CODE HERE ###"
   ]
  },
  {
   "cell_type": "markdown",
   "metadata": {},
   "source": [
    "The last step is to define all your inputs and outputs to fit the model:\n",
    "- You already have X of shape $(m = 10000, T_x = 30)$ containing the training examples.\n",
    "- You need to create `s0` and `c0` to initialize your `post_activation_LSTM_cell` with 0s.\n",
    "- Given the `model()` you coded, you need the \"outputs\" to be a list of 11 elements of shape (m, T_y). So that: `outputs[i][0], ..., outputs[i][Ty]` represent the true labels (characters) corresponding to the $i^{th}$ training example (`X[i]`). More generally, `outputs[i][j]` is the true label of the $j^{th}$ character in the $i^{th}$ training example."
   ]
  },
  {
   "cell_type": "code",
   "execution_count": 15,
   "metadata": {
    "collapsed": true
   },
   "outputs": [],
   "source": [
    "s0 = np.zeros((m, n_s))\n",
    "c0 = np.zeros((m, n_s))\n",
    "outputs = list(Yoh.swapaxes(0,1))"
   ]
  },
  {
   "cell_type": "markdown",
   "metadata": {},
   "source": [
    "Let's now fit the model and run it for one epoch."
   ]
  },
  {
   "cell_type": "code",
   "execution_count": 16,
   "metadata": {},
   "outputs": [
    {
     "name": "stdout",
     "output_type": "stream",
     "text": [
      "Epoch 1/1\n"
     ]
    },
    {
     "name": "stdout",
     "output_type": "stream",
     "text": [
      " 1600/10000 [===>..........................] - ETA: 1835s - loss: 23.9224 - dense_3_loss_1: 2.4029 - dense_3_loss_2: 2.3972 - dense_3_loss_3: 2.4049 - dense_3_loss_4: 2.4058 - dense_3_loss_5: 2.3470 - dense_3_loss_6: 2.4069 - dense_3_loss_7: 2.4054 - dense_3_loss_8: 2.3410 - dense_3_loss_9: 2.4086 - dense_3_loss_10: 2.4026 - dense_3_acc_1: 0.0000e+00 - dense_3_acc_2: 0.0000e+00 - dense_3_acc_3: 0.0000e+00 - dense_3_acc_4: 0.0000e+00 - dense_3_acc_5: 0.9500 - dense_3_acc_6: 0.0000e+00 - dense_3_acc_7: 0.0000e+00 - dense_3_acc_8: 0.9500 - dense_3_acc_9: 0.0000e+00 - dense_3_acc_10: 0.020 - ETA: 925s - loss: 23.7140 - dense_3_loss_1: 2.4018 - dense_3_loss_2: 2.3766 - dense_3_loss_3: 2.4097 - dense_3_loss_4: 2.4161 - dense_3_loss_5: 2.2743 - dense_3_loss_6: 2.3608 - dense_3_loss_7: 2.4158 - dense_3_loss_8: 2.2515 - dense_3_loss_9: 2.3922 - dense_3_loss_10: 2.4151 - dense_3_acc_1: 0.0000e+00 - dense_3_acc_2: 0.0000e+00 - dense_3_acc_3: 0.0000e+00 - dense_3_acc_4: 0.0000e+00 - dense_3_acc_5: 0.9750 - dense_3_acc_6: 0.0000e+00 - dense_3_acc_7: 0.0000e+00 - dense_3_acc_8: 0.9750 - dense_3_acc_9: 0.0000e+00 - dense_3_acc_10: 0.010 - ETA: 619s - loss: 23.4510 - dense_3_loss_1: 2.3987 - dense_3_loss_2: 2.3556 - dense_3_loss_3: 2.4027 - dense_3_loss_4: 2.4256 - dense_3_loss_5: 2.1879 - dense_3_loss_6: 2.3047 - dense_3_loss_7: 2.4285 - dense_3_loss_8: 2.1414 - dense_3_loss_9: 2.3629 - dense_3_loss_10: 2.4429 - dense_3_acc_1: 0.0000e+00 - dense_3_acc_2: 0.0000e+00 - dense_3_acc_3: 0.0000e+00 - dense_3_acc_4: 0.0000e+00 - dense_3_acc_5: 0.9833 - dense_3_acc_6: 0.0000e+00 - dense_3_acc_7: 0.0000e+00 - dense_3_acc_8: 0.9833 - dense_3_acc_9: 0.0000e+00 - dense_3_acc_10: 0.00 - ETA: 466s - loss: 23.1993 - dense_3_loss_1: 2.3951 - dense_3_loss_2: 2.3307 - dense_3_loss_3: 2.4126 - dense_3_loss_4: 2.4469 - dense_3_loss_5: 2.0679 - dense_3_loss_6: 2.2359 - dense_3_loss_7: 2.4611 - dense_3_loss_8: 1.9842 - dense_3_loss_9: 2.3458 - dense_3_loss_10: 2.5191 - dense_3_acc_1: 0.0000e+00 - dense_3_acc_2: 0.0000e+00 - dense_3_acc_3: 0.0000e+00 - dense_3_acc_4: 0.0000e+00 - dense_3_acc_5: 0.9875 - dense_3_acc_6: 0.0000e+00 - dense_3_acc_7: 0.0000e+00 - dense_3_acc_8: 0.9875 - dense_3_acc_9: 0.0000e+00 - dense_3_acc_10: 0.00 - ETA: 375s - loss: 23.0336 - dense_3_loss_1: 2.3895 - dense_3_loss_2: 2.3076 - dense_3_loss_3: 2.4190 - dense_3_loss_4: 2.4960 - dense_3_loss_5: 1.9225 - dense_3_loss_6: 2.1421 - dense_3_loss_7: 2.5520 - dense_3_loss_8: 1.8054 - dense_3_loss_9: 2.3311 - dense_3_loss_10: 2.6685 - dense_3_acc_1: 0.0000e+00 - dense_3_acc_2: 0.0000e+00 - dense_3_acc_3: 0.0000e+00 - dense_3_acc_4: 0.0000e+00 - dense_3_acc_5: 0.9900 - dense_3_acc_6: 0.0000e+00 - dense_3_acc_7: 0.0000e+00 - dense_3_acc_8: 0.9900 - dense_3_acc_9: 0.0000e+00 - dense_3_acc_10: 0.00 - ETA: 313s - loss: 22.8682 - dense_3_loss_1: 2.3788 - dense_3_loss_2: 2.2886 - dense_3_loss_3: 2.4132 - dense_3_loss_4: 2.5355 - dense_3_loss_5: 1.8319 - dense_3_loss_6: 2.0563 - dense_3_loss_7: 2.6045 - dense_3_loss_8: 1.7022 - dense_3_loss_9: 2.3142 - dense_3_loss_10: 2.7428 - dense_3_acc_1: 0.0000e+00 - dense_3_acc_2: 0.0000e+00 - dense_3_acc_3: 0.0000e+00 - dense_3_acc_4: 0.0000e+00 - dense_3_acc_5: 0.9917 - dense_3_acc_6: 0.0000e+00 - dense_3_acc_7: 0.0000e+00 - dense_3_acc_8: 0.9917 - dense_3_acc_9: 0.0000e+00 - dense_3_acc_10: 0.00 - ETA: 270s - loss: 22.7435 - dense_3_loss_1: 2.3655 - dense_3_loss_2: 2.2735 - dense_3_loss_3: 2.4209 - dense_3_loss_4: 2.5594 - dense_3_loss_5: 1.7856 - dense_3_loss_6: 1.9813 - dense_3_loss_7: 2.6631 - dense_3_loss_8: 1.6574 - dense_3_loss_9: 2.2622 - dense_3_loss_10: 2.7747 - dense_3_acc_1: 0.0000e+00 - dense_3_acc_2: 0.0000e+00 - dense_3_acc_3: 0.0000e+00 - dense_3_acc_4: 0.0000e+00 - dense_3_acc_5: 0.9929 - dense_3_acc_6: 0.0057 - dense_3_acc_7: 0.0000e+00 - dense_3_acc_8: 0.9543 - dense_3_acc_9: 0.0186 - dense_3_acc_10: 0.0086       - ETA: 237s - loss: 22.6389 - dense_3_loss_1: 2.3524 - dense_3_loss_2: 2.2614 - dense_3_loss_3: 2.4149 - dense_3_loss_4: 2.5663 - dense_3_loss_5: 1.7655 - dense_3_loss_6: 1.9346 - dense_3_loss_7: 2.6812 - dense_3_loss_8: 1.6447 - dense_3_loss_9: 2.2088 - dense_3_loss_10: 2.8091 - dense_3_acc_1: 0.0000e+00 - dense_3_acc_2: 0.0000e+00 - dense_3_acc_3: 0.0000e+00 - dense_3_acc_4: 0.0000e+00 - dense_3_acc_5: 0.9625 - dense_3_acc_6: 0.0562 - dense_3_acc_7: 0.0037 - dense_3_acc_8: 0.8350 - dense_3_acc_9: 0.0600 - dense_3_acc_10: 0.0137   - ETA: 212s - loss: 22.5279 - dense_3_loss_1: 2.3406 - dense_3_loss_2: 2.2519 - dense_3_loss_3: 2.4143 - dense_3_loss_4: 2.5735 - dense_3_loss_5: 1.7531 - dense_3_loss_6: 1.9066 - dense_3_loss_7: 2.6658 - dense_3_loss_8: 1.6395 - dense_3_loss_9: 2.1823 - dense_3_loss_10: 2.8003 - dense_3_acc_1: 0.0000e+00 - dense_3_acc_2: 0.0000e+00 - dense_3_acc_3: 0.0000e+00 - dense_3_acc_4: 0.0000e+00 - dense_3_acc_5: 0.9667 - dense_3_acc_6: 0.0500 - dense_3_acc_7: 0.0033 - dense_3_acc_8: 0.7922 - dense_3_acc_9: 0.0789 - dense_3_acc_10: 0.02 - ETA: 191s - loss: 22.4393 - dense_3_loss_1: 2.3316 - dense_3_loss_2: 2.2401 - dense_3_loss_3: 2.4087 - dense_3_loss_4: 2.5816 - dense_3_loss_5: 1.7412 - dense_3_loss_6: 1.8912 - dense_3_loss_7: 2.6519 - dense_3_loss_8: 1.6325 - dense_3_loss_9: 2.1578 - dense_3_loss_10: 2.8028 - dense_3_acc_1: 0.0000e+00 - dense_3_acc_2: 0.0000e+00 - dense_3_acc_3: 0.0000e+00 - dense_3_acc_4: 0.0000e+00 - dense_3_acc_5: 0.9700 - dense_3_acc_6: 0.0450 - dense_3_acc_7: 0.0030 - dense_3_acc_8: 0.8130 - dense_3_acc_9: 0.0710 - dense_3_acc_10: 0.02 - ETA: 174s - loss: 22.3523 - dense_3_loss_1: 2.3239 - dense_3_loss_2: 2.2248 - dense_3_loss_3: 2.4000 - dense_3_loss_4: 2.5940 - dense_3_loss_5: 1.7224 - dense_3_loss_6: 1.8813 - dense_3_loss_7: 2.6569 - dense_3_loss_8: 1.6165 - dense_3_loss_9: 2.1426 - dense_3_loss_10: 2.7899 - dense_3_acc_1: 0.0000e+00 - dense_3_acc_2: 0.0000e+00 - dense_3_acc_3: 0.0000e+00 - dense_3_acc_4: 0.0000e+00 - dense_3_acc_5: 0.9727 - dense_3_acc_6: 0.0409 - dense_3_acc_7: 0.0027 - dense_3_acc_8: 0.8300 - dense_3_acc_9: 0.0645 - dense_3_acc_10: 0.01 - ETA: 160s - loss: 22.2841 - dense_3_loss_1: 2.3171 - dense_3_loss_2: 2.2086 - dense_3_loss_3: 2.3970 - dense_3_loss_4: 2.6095 - dense_3_loss_5: 1.6965 - dense_3_loss_6: 1.8751 - dense_3_loss_7: 2.6560 - dense_3_loss_8: 1.5925 - dense_3_loss_9: 2.1249 - dense_3_loss_10: 2.8069 - dense_3_acc_1: 0.0000e+00 - dense_3_acc_2: 0.0000e+00 - dense_3_acc_3: 0.0000e+00 - dense_3_acc_4: 0.0000e+00 - dense_3_acc_5: 0.9750 - dense_3_acc_6: 0.0375 - dense_3_acc_7: 0.0025 - dense_3_acc_8: 0.8442 - dense_3_acc_9: 0.0592 - dense_3_acc_10: 0.01 - ETA: 148s - loss: 22.2198 - dense_3_loss_1: 2.3115 - dense_3_loss_2: 2.1915 - dense_3_loss_3: 2.3933 - dense_3_loss_4: 2.6234 - dense_3_loss_5: 1.6690 - dense_3_loss_6: 1.8677 - dense_3_loss_7: 2.6708 - dense_3_loss_8: 1.5664 - dense_3_loss_9: 2.1139 - dense_3_loss_10: 2.8123 - dense_3_acc_1: 0.0000e+00 - dense_3_acc_2: 0.0000e+00 - dense_3_acc_3: 0.0000e+00 - dense_3_acc_4: 0.0000e+00 - dense_3_acc_5: 0.9769 - dense_3_acc_6: 0.0346 - dense_3_acc_7: 0.0023 - dense_3_acc_8: 0.8562 - dense_3_acc_9: 0.0546 - dense_3_acc_10: 0.01 - ETA: 137s - loss: 22.1498 - dense_3_loss_1: 2.3066 - dense_3_loss_2: 2.1744 - dense_3_loss_3: 2.3920 - dense_3_loss_4: 2.6277 - dense_3_loss_5: 1.6416 - dense_3_loss_6: 1.8618 - dense_3_loss_7: 2.6766 - dense_3_loss_8: 1.5410 - dense_3_loss_9: 2.1072 - dense_3_loss_10: 2.8209 - dense_3_acc_1: 0.0000e+00 - dense_3_acc_2: 0.0000e+00 - dense_3_acc_3: 0.0000e+00 - dense_3_acc_4: 0.0000e+00 - dense_3_acc_5: 0.9786 - dense_3_acc_6: 0.0321 - dense_3_acc_7: 0.0021 - dense_3_acc_8: 0.8664 - dense_3_acc_9: 0.0507 - dense_3_acc_10: 0.01 - ETA: 129s - loss: 22.0929 - dense_3_loss_1: 2.3022 - dense_3_loss_2: 2.1566 - dense_3_loss_3: 2.3876 - dense_3_loss_4: 2.6490 - dense_3_loss_5: 1.6178 - dense_3_loss_6: 1.8499 - dense_3_loss_7: 2.6863 - dense_3_loss_8: 1.5201 - dense_3_loss_9: 2.0993 - dense_3_loss_10: 2.8240 - dense_3_acc_1: 0.0000e+00 - dense_3_acc_2: 0.0000e+00 - dense_3_acc_3: 0.0000e+00 - dense_3_acc_4: 0.0000e+00 - dense_3_acc_5: 0.9800 - dense_3_acc_6: 0.0300 - dense_3_acc_7: 0.0020 - dense_3_acc_8: 0.8753 - dense_3_acc_9: 0.0473 - dense_3_acc_10: 0.01 - ETA: 121s - loss: 22.0298 - dense_3_loss_1: 2.2982 - dense_3_loss_2: 2.1393 - dense_3_loss_3: 2.3830 - dense_3_loss_4: 2.6620 - dense_3_loss_5: 1.5996 - dense_3_loss_6: 1.8385 - dense_3_loss_7: 2.6875 - dense_3_loss_8: 1.5056 - dense_3_loss_9: 2.0914 - dense_3_loss_10: 2.8248 - dense_3_acc_1: 0.0000e+00 - dense_3_acc_2: 0.0144 - dense_3_acc_3: 0.0000e+00 - dense_3_acc_4: 0.0000e+00 - dense_3_acc_5: 0.9812 - dense_3_acc_6: 0.0281 - dense_3_acc_7: 0.0019 - dense_3_acc_8: 0.8831 - dense_3_acc_9: 0.0444 - dense_3_acc_10: 0.0131   3200/10000 [========>.....................] - ETA: 114s - loss: 21.9729 - dense_3_loss_1: 2.2932 - dense_3_loss_2: 2.1231 - dense_3_loss_3: 2.3847 - dense_3_loss_4: 2.6673 - dense_3_loss_5: 1.5859 - dense_3_loss_6: 1.8234 - dense_3_loss_7: 2.6906 - dense_3_loss_8: 1.4969 - dense_3_loss_9: 2.0829 - dense_3_loss_10: 2.8250 - dense_3_acc_1: 0.0000e+00 - dense_3_acc_2: 0.0329 - dense_3_acc_3: 0.0094 - dense_3_acc_4: 0.0000e+00 - dense_3_acc_5: 0.9824 - dense_3_acc_6: 0.0265 - dense_3_acc_7: 0.0018 - dense_3_acc_8: 0.8900 - dense_3_acc_9: 0.0418 - dense_3_acc_10: 0.0124   - ETA: 107s - loss: 21.9212 - dense_3_loss_1: 2.2884 - dense_3_loss_2: 2.1059 - dense_3_loss_3: 2.3801 - dense_3_loss_4: 2.6771 - dense_3_loss_5: 1.5766 - dense_3_loss_6: 1.8095 - dense_3_loss_7: 2.6948 - dense_3_loss_8: 1.4933 - dense_3_loss_9: 2.0706 - dense_3_loss_10: 2.8249 - dense_3_acc_1: 0.0000e+00 - dense_3_acc_2: 0.0522 - dense_3_acc_3: 0.0217 - dense_3_acc_4: 0.0033 - dense_3_acc_5: 0.9728 - dense_3_acc_6: 0.0250 - dense_3_acc_7: 0.0017 - dense_3_acc_8: 0.8961 - dense_3_acc_9: 0.0394 - dense_3_acc_10: 0.0117   - ETA: 102s - loss: 21.8682 - dense_3_loss_1: 2.2837 - dense_3_loss_2: 2.0882 - dense_3_loss_3: 2.3730 - dense_3_loss_4: 2.6922 - dense_3_loss_5: 1.5701 - dense_3_loss_6: 1.7960 - dense_3_loss_7: 2.6941 - dense_3_loss_8: 1.4928 - dense_3_loss_9: 2.0643 - dense_3_loss_10: 2.8138 - dense_3_acc_1: 0.0000e+00 - dense_3_acc_2: 0.0711 - dense_3_acc_3: 0.0305 - dense_3_acc_4: 0.0058 - dense_3_acc_5: 0.9537 - dense_3_acc_6: 0.0295 - dense_3_acc_7: 0.0016 - dense_3_acc_8: 0.8963 - dense_3_acc_9: 0.0384 - dense_3_acc_10: 0.01 - ETA: 96s - loss: 21.8318 - dense_3_loss_1: 2.2778 - dense_3_loss_2: 2.0710 - dense_3_loss_3: 2.3719 - dense_3_loss_4: 2.7057 - dense_3_loss_5: 1.5644 - dense_3_loss_6: 1.7836 - dense_3_loss_7: 2.6994 - dense_3_loss_8: 1.4933 - dense_3_loss_9: 2.0621 - dense_3_loss_10: 2.8026 - dense_3_acc_1: 0.0000e+00 - dense_3_acc_2: 0.0845 - dense_3_acc_3: 0.0390 - dense_3_acc_4: 0.0075 - dense_3_acc_5: 0.9450 - dense_3_acc_6: 0.0290 - dense_3_acc_7: 0.0015 - dense_3_acc_8: 0.9015 - dense_3_acc_9: 0.0365 - dense_3_acc_10: 0.0165 - ETA: 92s - loss: 21.7901 - dense_3_loss_1: 2.2717 - dense_3_loss_2: 2.0528 - dense_3_loss_3: 2.3642 - dense_3_loss_4: 2.7170 - dense_3_loss_5: 1.5574 - dense_3_loss_6: 1.7733 - dense_3_loss_7: 2.7008 - dense_3_loss_8: 1.4921 - dense_3_loss_9: 2.0604 - dense_3_loss_10: 2.8004 - dense_3_acc_1: 0.0000e+00 - dense_3_acc_2: 0.0962 - dense_3_acc_3: 0.0457 - dense_3_acc_4: 0.0086 - dense_3_acc_5: 0.9476 - dense_3_acc_6: 0.0276 - dense_3_acc_7: 0.0014 - dense_3_acc_8: 0.9062 - dense_3_acc_9: 0.0352 - dense_3_acc_10: 0.019 - ETA: 88s - loss: 21.7439 - dense_3_loss_1: 2.2657 - dense_3_loss_2: 2.0325 - dense_3_loss_3: 2.3639 - dense_3_loss_4: 2.7285 - dense_3_loss_5: 1.5480 - dense_3_loss_6: 1.7659 - dense_3_loss_7: 2.6967 - dense_3_loss_8: 1.4870 - dense_3_loss_9: 2.0556 - dense_3_loss_10: 2.8001 - dense_3_acc_1: 0.0000e+00 - dense_3_acc_2: 0.1305 - dense_3_acc_3: 0.0509 - dense_3_acc_4: 0.0086 - dense_3_acc_5: 0.9500 - dense_3_acc_6: 0.0264 - dense_3_acc_7: 0.0014 - dense_3_acc_8: 0.9105 - dense_3_acc_9: 0.0336 - dense_3_acc_10: 0.018 - ETA: 84s - loss: 21.6975 - dense_3_loss_1: 2.2607 - dense_3_loss_2: 2.0099 - dense_3_loss_3: 2.3567 - dense_3_loss_4: 2.7403 - dense_3_loss_5: 1.5364 - dense_3_loss_6: 1.7605 - dense_3_loss_7: 2.7002 - dense_3_loss_8: 1.4766 - dense_3_loss_9: 2.0528 - dense_3_loss_10: 2.8034 - dense_3_acc_1: 0.0000e+00 - dense_3_acc_2: 0.1539 - dense_3_acc_3: 0.0578 - dense_3_acc_4: 0.0087 - dense_3_acc_5: 0.9522 - dense_3_acc_6: 0.0252 - dense_3_acc_7: 0.0013 - dense_3_acc_8: 0.9143 - dense_3_acc_9: 0.0322 - dense_3_acc_10: 0.017 - ETA: 80s - loss: 21.6449 - dense_3_loss_1: 2.2548 - dense_3_loss_2: 1.9869 - dense_3_loss_3: 2.3523 - dense_3_loss_4: 2.7503 - dense_3_loss_5: 1.5236 - dense_3_loss_6: 1.7562 - dense_3_loss_7: 2.7052 - dense_3_loss_8: 1.4665 - dense_3_loss_9: 2.0491 - dense_3_loss_10: 2.7999 - dense_3_acc_1: 0.0000e+00 - dense_3_acc_2: 0.1767 - dense_3_acc_3: 0.0700 - dense_3_acc_4: 0.0083 - dense_3_acc_5: 0.9542 - dense_3_acc_6: 0.0242 - dense_3_acc_7: 0.0012 - dense_3_acc_8: 0.9179 - dense_3_acc_9: 0.0308 - dense_3_acc_10: 0.017 - ETA: 77s - loss: 21.5856 - dense_3_loss_1: 2.2497 - dense_3_loss_2: 1.9652 - dense_3_loss_3: 2.3497 - dense_3_loss_4: 2.7528 - dense_3_loss_5: 1.5101 - dense_3_loss_6: 1.7538 - dense_3_loss_7: 2.7039 - dense_3_loss_8: 1.4596 - dense_3_loss_9: 2.0443 - dense_3_loss_10: 2.7964 - dense_3_acc_1: 0.0000e+00 - dense_3_acc_2: 0.1948 - dense_3_acc_3: 0.0788 - dense_3_acc_4: 0.0080 - dense_3_acc_5: 0.9560 - dense_3_acc_6: 0.0232 - dense_3_acc_7: 0.0012 - dense_3_acc_8: 0.9212 - dense_3_acc_9: 0.0296 - dense_3_acc_10: 0.016 - ETA: 73s - loss: 21.5380 - dense_3_loss_1: 2.2439 - dense_3_loss_2: 1.9430 - dense_3_loss_3: 2.3465 - dense_3_loss_4: 2.7621 - dense_3_loss_5: 1.4969 - dense_3_loss_6: 1.7506 - dense_3_loss_7: 2.7067 - dense_3_loss_8: 1.4552 - dense_3_loss_9: 2.0372 - dense_3_loss_10: 2.7957 - dense_3_acc_1: 0.0000e+00 - dense_3_acc_2: 0.2119 - dense_3_acc_3: 0.0869 - dense_3_acc_4: 0.0081 - dense_3_acc_5: 0.9577 - dense_3_acc_6: 0.0223 - dense_3_acc_7: 0.0012 - dense_3_acc_8: 0.9242 - dense_3_acc_9: 0.0285 - dense_3_acc_10: 0.015 - ETA: 71s - loss: 21.4874 - dense_3_loss_1: 2.2382 - dense_3_loss_2: 1.9201 - dense_3_loss_3: 2.3420 - dense_3_loss_4: 2.7703 - dense_3_loss_5: 1.4846 - dense_3_loss_6: 1.7462 - dense_3_loss_7: 2.7062 - dense_3_loss_8: 1.4510 - dense_3_loss_9: 2.0293 - dense_3_loss_10: 2.7995 - dense_3_acc_1: 0.0000e+00 - dense_3_acc_2: 0.2270 - dense_3_acc_3: 0.0930 - dense_3_acc_4: 0.0126 - dense_3_acc_5: 0.9593 - dense_3_acc_6: 0.0215 - dense_3_acc_7: 0.0011 - dense_3_acc_8: 0.9270 - dense_3_acc_9: 0.0274 - dense_3_acc_10: 0.015 - ETA: 68s - loss: 21.4387 - dense_3_loss_1: 2.2315 - dense_3_loss_2: 1.8963 - dense_3_loss_3: 2.3375 - dense_3_loss_4: 2.7850 - dense_3_loss_5: 1.4743 - dense_3_loss_6: 1.7408 - dense_3_loss_7: 2.7091 - dense_3_loss_8: 1.4458 - dense_3_loss_9: 2.0231 - dense_3_loss_10: 2.7953 - dense_3_acc_1: 0.0000e+00 - dense_3_acc_2: 0.2421 - dense_3_acc_3: 0.0975 - dense_3_acc_4: 0.0150 - dense_3_acc_5: 0.9564 - dense_3_acc_6: 0.0207 - dense_3_acc_7: 0.0011 - dense_3_acc_8: 0.9296 - dense_3_acc_9: 0.0264 - dense_3_acc_10: 0.016 - ETA: 65s - loss: 21.3902 - dense_3_loss_1: 2.2238 - dense_3_loss_2: 1.8753 - dense_3_loss_3: 2.3314 - dense_3_loss_4: 2.7956 - dense_3_loss_5: 1.4640 - dense_3_loss_6: 1.7361 - dense_3_loss_7: 2.7112 - dense_3_loss_8: 1.4443 - dense_3_loss_9: 2.0143 - dense_3_loss_10: 2.7943 - dense_3_acc_1: 0.0000e+00 - dense_3_acc_2: 0.2555 - dense_3_acc_3: 0.0997 - dense_3_acc_4: 0.0179 - dense_3_acc_5: 0.9579 - dense_3_acc_6: 0.0200 - dense_3_acc_7: 0.0010 - dense_3_acc_8: 0.9321 - dense_3_acc_9: 0.0307 - dense_3_acc_10: 0.020 - ETA: 63s - loss: 21.3421 - dense_3_loss_1: 2.2137 - dense_3_loss_2: 1.8559 - dense_3_loss_3: 2.3211 - dense_3_loss_4: 2.8031 - dense_3_loss_5: 1.4537 - dense_3_loss_6: 1.7342 - dense_3_loss_7: 2.7136 - dense_3_loss_8: 1.4447 - dense_3_loss_9: 2.0078 - dense_3_loss_10: 2.7942 - dense_3_acc_1: 0.0000e+00 - dense_3_acc_2: 0.2693 - dense_3_acc_3: 0.1047 - dense_3_acc_4: 0.0190 - dense_3_acc_5: 0.9593 - dense_3_acc_6: 0.0193 - dense_3_acc_7: 1.0000e-03 - dense_3_acc_8: 0.9313 - dense_3_acc_9: 0.0423 - dense_3_acc_10: 0.023 - ETA: 61s - loss: 21.2902 - dense_3_loss_1: 2.2057 - dense_3_loss_2: 1.8397 - dense_3_loss_3: 2.3076 - dense_3_loss_4: 2.8100 - dense_3_loss_5: 1.4424 - dense_3_loss_6: 1.7328 - dense_3_loss_7: 2.7160 - dense_3_loss_8: 1.4403 - dense_3_loss_9: 2.0034 - dense_3_loss_10: 2.7921 - dense_3_acc_1: 0.0000e+00 - dense_3_acc_2: 0.2790 - dense_3_acc_3: 0.1084 - dense_3_acc_4: 0.0197 - dense_3_acc_5: 0.9606 - dense_3_acc_6: 0.0187 - dense_3_acc_7: 9.6774e-04 - dense_3_acc_8: 0.9332 - dense_3_acc_9: 0.0471 - dense_3_acc_10: 0.027 - ETA: 58s - loss: 21.2427 - dense_3_loss_1: 2.1951 - dense_3_loss_2: 1.8214 - dense_3_loss_3: 2.2967 - dense_3_loss_4: 2.8202 - dense_3_loss_5: 1.4294 - dense_3_loss_6: 1.7309 - dense_3_loss_7: 2.7221 - dense_3_loss_8: 1.4319 - dense_3_loss_9: 2.0012 - dense_3_loss_10: 2.7937 - dense_3_acc_1: 0.0000e+00 - dense_3_acc_2: 0.2909 - dense_3_acc_3: 0.1169 - dense_3_acc_4: 0.0216 - dense_3_acc_5: 0.9619 - dense_3_acc_6: 0.0181 - dense_3_acc_7: 9.3750e-04 - dense_3_acc_8: 0.9353 - dense_3_acc_9: 0.0466 - dense_3_acc_10: 0.0287"
     ]
    },
    {
     "name": "stdout",
     "output_type": "stream",
     "text": [
      " 4800/10000 [=============>................] - ETA: 56s - loss: 21.1970 - dense_3_loss_1: 2.1838 - dense_3_loss_2: 1.8028 - dense_3_loss_3: 2.2858 - dense_3_loss_4: 2.8327 - dense_3_loss_5: 1.4169 - dense_3_loss_6: 1.7261 - dense_3_loss_7: 2.7296 - dense_3_loss_8: 1.4222 - dense_3_loss_9: 1.9981 - dense_3_loss_10: 2.7990 - dense_3_acc_1: 0.0000e+00 - dense_3_acc_2: 0.3024 - dense_3_acc_3: 0.1221 - dense_3_acc_4: 0.0242 - dense_3_acc_5: 0.9630 - dense_3_acc_6: 0.0176 - dense_3_acc_7: 9.0909e-04 - dense_3_acc_8: 0.9373 - dense_3_acc_9: 0.0455 - dense_3_acc_10: 0.029 - ETA: 55s - loss: 21.1500 - dense_3_loss_1: 2.1716 - dense_3_loss_2: 1.7860 - dense_3_loss_3: 2.2754 - dense_3_loss_4: 2.8375 - dense_3_loss_5: 1.4064 - dense_3_loss_6: 1.7236 - dense_3_loss_7: 2.7348 - dense_3_loss_8: 1.4187 - dense_3_loss_9: 1.9928 - dense_3_loss_10: 2.8032 - dense_3_acc_1: 0.0000e+00 - dense_3_acc_2: 0.3132 - dense_3_acc_3: 0.1268 - dense_3_acc_4: 0.0268 - dense_3_acc_5: 0.9638 - dense_3_acc_6: 0.0171 - dense_3_acc_7: 8.8235e-04 - dense_3_acc_8: 0.9385 - dense_3_acc_9: 0.0500 - dense_3_acc_10: 0.030 - ETA: 53s - loss: 21.0967 - dense_3_loss_1: 2.1592 - dense_3_loss_2: 1.7721 - dense_3_loss_3: 2.2626 - dense_3_loss_4: 2.8409 - dense_3_loss_5: 1.4010 - dense_3_loss_6: 1.7206 - dense_3_loss_7: 2.7382 - dense_3_loss_8: 1.4165 - dense_3_loss_9: 1.9864 - dense_3_loss_10: 2.7993 - dense_3_acc_1: 0.0000e+00 - dense_3_acc_2: 0.3226 - dense_3_acc_3: 0.1311 - dense_3_acc_4: 0.0294 - dense_3_acc_5: 0.9643 - dense_3_acc_6: 0.0166 - dense_3_acc_7: 8.5714e-04 - dense_3_acc_8: 0.9360 - dense_3_acc_9: 0.0586 - dense_3_acc_10: 0.033 - ETA: 51s - loss: 21.0469 - dense_3_loss_1: 2.1456 - dense_3_loss_2: 1.7563 - dense_3_loss_3: 2.2521 - dense_3_loss_4: 2.8489 - dense_3_loss_5: 1.3926 - dense_3_loss_6: 1.7167 - dense_3_loss_7: 2.7476 - dense_3_loss_8: 1.4156 - dense_3_loss_9: 1.9787 - dense_3_loss_10: 2.7927 - dense_3_acc_1: 0.0000e+00 - dense_3_acc_2: 0.3322 - dense_3_acc_3: 0.1358 - dense_3_acc_4: 0.0308 - dense_3_acc_5: 0.9650 - dense_3_acc_6: 0.0161 - dense_3_acc_7: 8.3333e-04 - dense_3_acc_8: 0.9303 - dense_3_acc_9: 0.0661 - dense_3_acc_10: 0.037 - ETA: 49s - loss: 20.9943 - dense_3_loss_1: 2.1321 - dense_3_loss_2: 1.7398 - dense_3_loss_3: 2.2395 - dense_3_loss_4: 2.8544 - dense_3_loss_5: 1.3808 - dense_3_loss_6: 1.7137 - dense_3_loss_7: 2.7553 - dense_3_loss_8: 1.4133 - dense_3_loss_9: 1.9739 - dense_3_loss_10: 2.7915 - dense_3_acc_1: 0.0000e+00 - dense_3_acc_2: 0.3411 - dense_3_acc_3: 0.1438 - dense_3_acc_4: 0.0330 - dense_3_acc_5: 0.9659 - dense_3_acc_6: 0.0157 - dense_3_acc_7: 8.1081e-04 - dense_3_acc_8: 0.9222 - dense_3_acc_9: 0.0708 - dense_3_acc_10: 0.039 - ETA: 48s - loss: 20.9512 - dense_3_loss_1: 2.1201 - dense_3_loss_2: 1.7265 - dense_3_loss_3: 2.2298 - dense_3_loss_4: 2.8629 - dense_3_loss_5: 1.3663 - dense_3_loss_6: 1.7158 - dense_3_loss_7: 2.7621 - dense_3_loss_8: 1.4084 - dense_3_loss_9: 1.9686 - dense_3_loss_10: 2.7907 - dense_3_acc_1: 0.0000e+00 - dense_3_acc_2: 0.3474 - dense_3_acc_3: 0.1479 - dense_3_acc_4: 0.0337 - dense_3_acc_5: 0.9668 - dense_3_acc_6: 0.0153 - dense_3_acc_7: 7.8947e-04 - dense_3_acc_8: 0.9197 - dense_3_acc_9: 0.0739 - dense_3_acc_10: 0.041 - ETA: 46s - loss: 20.9007 - dense_3_loss_1: 2.1064 - dense_3_loss_2: 1.7137 - dense_3_loss_3: 2.2201 - dense_3_loss_4: 2.8679 - dense_3_loss_5: 1.3522 - dense_3_loss_6: 1.7204 - dense_3_loss_7: 2.7647 - dense_3_loss_8: 1.4044 - dense_3_loss_9: 1.9635 - dense_3_loss_10: 2.7876 - dense_3_acc_1: 2.5641e-04 - dense_3_acc_2: 0.3544 - dense_3_acc_3: 0.1523 - dense_3_acc_4: 0.0331 - dense_3_acc_5: 0.9677 - dense_3_acc_6: 0.0149 - dense_3_acc_7: 7.6923e-04 - dense_3_acc_8: 0.9179 - dense_3_acc_9: 0.0800 - dense_3_acc_10: 0.043 - ETA: 45s - loss: 20.8503 - dense_3_loss_1: 2.0917 - dense_3_loss_2: 1.7022 - dense_3_loss_3: 2.2105 - dense_3_loss_4: 2.8680 - dense_3_loss_5: 1.3403 - dense_3_loss_6: 1.7231 - dense_3_loss_7: 2.7652 - dense_3_loss_8: 1.4023 - dense_3_loss_9: 1.9612 - dense_3_loss_10: 2.7857 - dense_3_acc_1: 0.0030 - dense_3_acc_2: 0.3613 - dense_3_acc_3: 0.1575 - dense_3_acc_4: 0.0325 - dense_3_acc_5: 0.9685 - dense_3_acc_6: 0.0145 - dense_3_acc_7: 7.5000e-04 - dense_3_acc_8: 0.9138 - dense_3_acc_9: 0.0845 - dense_3_acc_10: 0.0447    - ETA: 43s - loss: 20.8012 - dense_3_loss_1: 2.0769 - dense_3_loss_2: 1.6900 - dense_3_loss_3: 2.1993 - dense_3_loss_4: 2.8714 - dense_3_loss_5: 1.3305 - dense_3_loss_6: 1.7238 - dense_3_loss_7: 2.7693 - dense_3_loss_8: 1.3962 - dense_3_loss_9: 1.9581 - dense_3_loss_10: 2.7858 - dense_3_acc_1: 0.0073 - dense_3_acc_2: 0.3685 - dense_3_acc_3: 0.1624 - dense_3_acc_4: 0.0317 - dense_3_acc_5: 0.9693 - dense_3_acc_6: 0.0141 - dense_3_acc_7: 7.3171e-04 - dense_3_acc_8: 0.9141 - dense_3_acc_9: 0.0863 - dense_3_acc_10: 0.045 - ETA: 42s - loss: 20.7491 - dense_3_loss_1: 2.0613 - dense_3_loss_2: 1.6768 - dense_3_loss_3: 2.1897 - dense_3_loss_4: 2.8750 - dense_3_loss_5: 1.3234 - dense_3_loss_6: 1.7216 - dense_3_loss_7: 2.7701 - dense_3_loss_8: 1.3924 - dense_3_loss_9: 1.9541 - dense_3_loss_10: 2.7848 - dense_3_acc_1: 0.0140 - dense_3_acc_2: 0.3764 - dense_3_acc_3: 0.1662 - dense_3_acc_4: 0.0333 - dense_3_acc_5: 0.9688 - dense_3_acc_6: 0.0150 - dense_3_acc_7: 7.1429e-04 - dense_3_acc_8: 0.9110 - dense_3_acc_9: 0.0890 - dense_3_acc_10: 0.047 - ETA: 41s - loss: 20.6876 - dense_3_loss_1: 2.0451 - dense_3_loss_2: 1.6636 - dense_3_loss_3: 2.1799 - dense_3_loss_4: 2.8682 - dense_3_loss_5: 1.3189 - dense_3_loss_6: 1.7169 - dense_3_loss_7: 2.7708 - dense_3_loss_8: 1.3941 - dense_3_loss_9: 1.9490 - dense_3_loss_10: 2.7810 - dense_3_acc_1: 0.0249 - dense_3_acc_2: 0.3872 - dense_3_acc_3: 0.1705 - dense_3_acc_4: 0.0377 - dense_3_acc_5: 0.9612 - dense_3_acc_6: 0.0200 - dense_3_acc_7: 0.0016 - dense_3_acc_8: 0.9002 - dense_3_acc_9: 0.0937 - dense_3_acc_10: 0.0509    - ETA: 39s - loss: 20.6337 - dense_3_loss_1: 2.0293 - dense_3_loss_2: 1.6508 - dense_3_loss_3: 2.1687 - dense_3_loss_4: 2.8648 - dense_3_loss_5: 1.3145 - dense_3_loss_6: 1.7132 - dense_3_loss_7: 2.7723 - dense_3_loss_8: 1.3959 - dense_3_loss_9: 1.9442 - dense_3_loss_10: 2.7799 - dense_3_acc_1: 0.0364 - dense_3_acc_2: 0.3961 - dense_3_acc_3: 0.1759 - dense_3_acc_4: 0.0407 - dense_3_acc_5: 0.9584 - dense_3_acc_6: 0.0214 - dense_3_acc_7: 0.0018 - dense_3_acc_8: 0.8916 - dense_3_acc_9: 0.0991 - dense_3_acc_10: 0.052 - ETA: 38s - loss: 20.5826 - dense_3_loss_1: 2.0134 - dense_3_loss_2: 1.6381 - dense_3_loss_3: 2.1580 - dense_3_loss_4: 2.8636 - dense_3_loss_5: 1.3088 - dense_3_loss_6: 1.7133 - dense_3_loss_7: 2.7727 - dense_3_loss_8: 1.3931 - dense_3_loss_9: 1.9412 - dense_3_loss_10: 2.7802 - dense_3_acc_1: 0.0487 - dense_3_acc_2: 0.4036 - dense_3_acc_3: 0.1800 - dense_3_acc_4: 0.0424 - dense_3_acc_5: 0.9591 - dense_3_acc_6: 0.0209 - dense_3_acc_7: 0.0018 - dense_3_acc_8: 0.8916 - dense_3_acc_9: 0.1031 - dense_3_acc_10: 0.054 - ETA: 37s - loss: 20.5329 - dense_3_loss_1: 1.9980 - dense_3_loss_2: 1.6263 - dense_3_loss_3: 2.1472 - dense_3_loss_4: 2.8620 - dense_3_loss_5: 1.2997 - dense_3_loss_6: 1.7149 - dense_3_loss_7: 2.7731 - dense_3_loss_8: 1.3894 - dense_3_loss_9: 1.9406 - dense_3_loss_10: 2.7819 - dense_3_acc_1: 0.0596 - dense_3_acc_2: 0.4102 - dense_3_acc_3: 0.1850 - dense_3_acc_4: 0.0437 - dense_3_acc_5: 0.9600 - dense_3_acc_6: 0.0204 - dense_3_acc_7: 0.0017 - dense_3_acc_8: 0.8913 - dense_3_acc_9: 0.1046 - dense_3_acc_10: 0.054 - ETA: 36s - loss: 20.4800 - dense_3_loss_1: 1.9808 - dense_3_loss_2: 1.6118 - dense_3_loss_3: 2.1385 - dense_3_loss_4: 2.8632 - dense_3_loss_5: 1.2891 - dense_3_loss_6: 1.7164 - dense_3_loss_7: 2.7750 - dense_3_loss_8: 1.3855 - dense_3_loss_9: 1.9379 - dense_3_loss_10: 2.7817 - dense_3_acc_1: 0.0719 - dense_3_acc_2: 0.4202 - dense_3_acc_3: 0.1887 - dense_3_acc_4: 0.0436 - dense_3_acc_5: 0.9609 - dense_3_acc_6: 0.0200 - dense_3_acc_7: 0.0017 - dense_3_acc_8: 0.8913 - dense_3_acc_9: 0.1070 - dense_3_acc_10: 0.056 - ETA: 35s - loss: 20.4273 - dense_3_loss_1: 1.9629 - dense_3_loss_2: 1.5970 - dense_3_loss_3: 2.1318 - dense_3_loss_4: 2.8645 - dense_3_loss_5: 1.2793 - dense_3_loss_6: 1.7169 - dense_3_loss_7: 2.7781 - dense_3_loss_8: 1.3809 - dense_3_loss_9: 1.9347 - dense_3_loss_10: 2.7813 - dense_3_acc_1: 0.0837 - dense_3_acc_2: 0.4310 - dense_3_acc_3: 0.1904 - dense_3_acc_4: 0.0440 - dense_3_acc_5: 0.9617 - dense_3_acc_6: 0.0196 - dense_3_acc_7: 0.0017 - dense_3_acc_8: 0.8917 - dense_3_acc_9: 0.1090 - dense_3_acc_10: 0.0567"
     ]
    },
    {
     "name": "stdout",
     "output_type": "stream",
     "text": [
      " 6400/10000 [==================>...........] - ETA: 34s - loss: 20.3718 - dense_3_loss_1: 1.9442 - dense_3_loss_2: 1.5821 - dense_3_loss_3: 2.1222 - dense_3_loss_4: 2.8651 - dense_3_loss_5: 1.2712 - dense_3_loss_6: 1.7160 - dense_3_loss_7: 2.7794 - dense_3_loss_8: 1.3764 - dense_3_loss_9: 1.9326 - dense_3_loss_10: 2.7825 - dense_3_acc_1: 0.0965 - dense_3_acc_2: 0.4406 - dense_3_acc_3: 0.1943 - dense_3_acc_4: 0.0445 - dense_3_acc_5: 0.9620 - dense_3_acc_6: 0.0192 - dense_3_acc_7: 0.0016 - dense_3_acc_8: 0.8918 - dense_3_acc_9: 0.1096 - dense_3_acc_10: 0.057 - ETA: 32s - loss: 20.3173 - dense_3_loss_1: 1.9266 - dense_3_loss_2: 1.5684 - dense_3_loss_3: 2.1100 - dense_3_loss_4: 2.8638 - dense_3_loss_5: 1.2661 - dense_3_loss_6: 1.7144 - dense_3_loss_7: 2.7816 - dense_3_loss_8: 1.3735 - dense_3_loss_9: 1.9301 - dense_3_loss_10: 2.7829 - dense_3_acc_1: 0.1068 - dense_3_acc_2: 0.4486 - dense_3_acc_3: 0.1990 - dense_3_acc_4: 0.0462 - dense_3_acc_5: 0.9608 - dense_3_acc_6: 0.0194 - dense_3_acc_7: 0.0016 - dense_3_acc_8: 0.8904 - dense_3_acc_9: 0.1120 - dense_3_acc_10: 0.058 - ETA: 31s - loss: 20.2607 - dense_3_loss_1: 1.9077 - dense_3_loss_2: 1.5558 - dense_3_loss_3: 2.1009 - dense_3_loss_4: 2.8616 - dense_3_loss_5: 1.2612 - dense_3_loss_6: 1.7128 - dense_3_loss_7: 2.7785 - dense_3_loss_8: 1.3764 - dense_3_loss_9: 1.9232 - dense_3_loss_10: 2.7826 - dense_3_acc_1: 0.1184 - dense_3_acc_2: 0.4561 - dense_3_acc_3: 0.2022 - dense_3_acc_4: 0.0486 - dense_3_acc_5: 0.9592 - dense_3_acc_6: 0.0206 - dense_3_acc_7: 0.0024 - dense_3_acc_8: 0.8808 - dense_3_acc_9: 0.1175 - dense_3_acc_10: 0.059 - ETA: 30s - loss: 20.2034 - dense_3_loss_1: 1.8890 - dense_3_loss_2: 1.5426 - dense_3_loss_3: 2.0909 - dense_3_loss_4: 2.8606 - dense_3_loss_5: 1.2557 - dense_3_loss_6: 1.7100 - dense_3_loss_7: 2.7776 - dense_3_loss_8: 1.3796 - dense_3_loss_9: 1.9198 - dense_3_loss_10: 2.7777 - dense_3_acc_1: 0.1283 - dense_3_acc_2: 0.4644 - dense_3_acc_3: 0.2058 - dense_3_acc_4: 0.0500 - dense_3_acc_5: 0.9569 - dense_3_acc_6: 0.0225 - dense_3_acc_7: 0.0031 - dense_3_acc_8: 0.8698 - dense_3_acc_9: 0.1212 - dense_3_acc_10: 0.061 - ETA: 30s - loss: 20.1523 - dense_3_loss_1: 1.8707 - dense_3_loss_2: 1.5281 - dense_3_loss_3: 2.0811 - dense_3_loss_4: 2.8652 - dense_3_loss_5: 1.2484 - dense_3_loss_6: 1.7079 - dense_3_loss_7: 2.7797 - dense_3_loss_8: 1.3769 - dense_3_loss_9: 1.9176 - dense_3_loss_10: 2.7768 - dense_3_acc_1: 0.1383 - dense_3_acc_2: 0.4726 - dense_3_acc_3: 0.2091 - dense_3_acc_4: 0.0492 - dense_3_acc_5: 0.9557 - dense_3_acc_6: 0.0236 - dense_3_acc_7: 0.0032 - dense_3_acc_8: 0.8683 - dense_3_acc_9: 0.1236 - dense_3_acc_10: 0.062 - ETA: 29s - loss: 20.1059 - dense_3_loss_1: 1.8530 - dense_3_loss_2: 1.5155 - dense_3_loss_3: 2.0754 - dense_3_loss_4: 2.8657 - dense_3_loss_5: 1.2408 - dense_3_loss_6: 1.7046 - dense_3_loss_7: 2.7842 - dense_3_loss_8: 1.3713 - dense_3_loss_9: 1.9182 - dense_3_loss_10: 2.7771 - dense_3_acc_1: 0.1476 - dense_3_acc_2: 0.4793 - dense_3_acc_3: 0.2106 - dense_3_acc_4: 0.0498 - dense_3_acc_5: 0.9543 - dense_3_acc_6: 0.0252 - dense_3_acc_7: 0.0031 - dense_3_acc_8: 0.8696 - dense_3_acc_9: 0.1231 - dense_3_acc_10: 0.063 - ETA: 28s - loss: 20.0509 - dense_3_loss_1: 1.8357 - dense_3_loss_2: 1.5029 - dense_3_loss_3: 2.0657 - dense_3_loss_4: 2.8652 - dense_3_loss_5: 1.2337 - dense_3_loss_6: 1.7016 - dense_3_loss_7: 2.7878 - dense_3_loss_8: 1.3666 - dense_3_loss_9: 1.9156 - dense_3_loss_10: 2.7761 - dense_3_acc_1: 0.1571 - dense_3_acc_2: 0.4856 - dense_3_acc_3: 0.2135 - dense_3_acc_4: 0.0502 - dense_3_acc_5: 0.9533 - dense_3_acc_6: 0.0258 - dense_3_acc_7: 0.0031 - dense_3_acc_8: 0.8713 - dense_3_acc_9: 0.1240 - dense_3_acc_10: 0.065 - ETA: 27s - loss: 19.9961 - dense_3_loss_1: 1.8185 - dense_3_loss_2: 1.4905 - dense_3_loss_3: 2.0550 - dense_3_loss_4: 2.8644 - dense_3_loss_5: 1.2279 - dense_3_loss_6: 1.7005 - dense_3_loss_7: 2.7874 - dense_3_loss_8: 1.3666 - dense_3_loss_9: 1.9115 - dense_3_loss_10: 2.7739 - dense_3_acc_1: 0.1654 - dense_3_acc_2: 0.4916 - dense_3_acc_3: 0.2170 - dense_3_acc_4: 0.0502 - dense_3_acc_5: 0.9536 - dense_3_acc_6: 0.0257 - dense_3_acc_7: 0.0032 - dense_3_acc_8: 0.8677 - dense_3_acc_9: 0.1271 - dense_3_acc_10: 0.066 - ETA: 26s - loss: 19.9442 - dense_3_loss_1: 1.8002 - dense_3_loss_2: 1.4770 - dense_3_loss_3: 2.0428 - dense_3_loss_4: 2.8655 - dense_3_loss_5: 1.2231 - dense_3_loss_6: 1.6984 - dense_3_loss_7: 2.7881 - dense_3_loss_8: 1.3690 - dense_3_loss_9: 1.9072 - dense_3_loss_10: 2.7729 - dense_3_acc_1: 0.1761 - dense_3_acc_2: 0.4981 - dense_3_acc_3: 0.2216 - dense_3_acc_4: 0.0509 - dense_3_acc_5: 0.9528 - dense_3_acc_6: 0.0261 - dense_3_acc_7: 0.0037 - dense_3_acc_8: 0.8621 - dense_3_acc_9: 0.1309 - dense_3_acc_10: 0.067 - ETA: 25s - loss: 19.8848 - dense_3_loss_1: 1.7829 - dense_3_loss_2: 1.4640 - dense_3_loss_3: 2.0326 - dense_3_loss_4: 2.8623 - dense_3_loss_5: 1.2186 - dense_3_loss_6: 1.6952 - dense_3_loss_7: 2.7877 - dense_3_loss_8: 1.3706 - dense_3_loss_9: 1.9037 - dense_3_loss_10: 2.7673 - dense_3_acc_1: 0.1852 - dense_3_acc_2: 0.5040 - dense_3_acc_3: 0.2250 - dense_3_acc_4: 0.0519 - dense_3_acc_5: 0.9526 - dense_3_acc_6: 0.0267 - dense_3_acc_7: 0.0041 - dense_3_acc_8: 0.8576 - dense_3_acc_9: 0.1338 - dense_3_acc_10: 0.069 - ETA: 24s - loss: 19.8324 - dense_3_loss_1: 1.7660 - dense_3_loss_2: 1.4507 - dense_3_loss_3: 2.0262 - dense_3_loss_4: 2.8608 - dense_3_loss_5: 1.2140 - dense_3_loss_6: 1.6912 - dense_3_loss_7: 2.7887 - dense_3_loss_8: 1.3704 - dense_3_loss_9: 1.9011 - dense_3_loss_10: 2.7632 - dense_3_acc_1: 0.1936 - dense_3_acc_2: 0.5103 - dense_3_acc_3: 0.2264 - dense_3_acc_4: 0.0532 - dense_3_acc_5: 0.9519 - dense_3_acc_6: 0.0280 - dense_3_acc_7: 0.0044 - dense_3_acc_8: 0.8544 - dense_3_acc_9: 0.1359 - dense_3_acc_10: 0.071 - ETA: 23s - loss: 19.7822 - dense_3_loss_1: 1.7494 - dense_3_loss_2: 1.4376 - dense_3_loss_3: 2.0190 - dense_3_loss_4: 2.8619 - dense_3_loss_5: 1.2087 - dense_3_loss_6: 1.6880 - dense_3_loss_7: 2.7898 - dense_3_loss_8: 1.3686 - dense_3_loss_9: 1.8979 - dense_3_loss_10: 2.7611 - dense_3_acc_1: 0.2020 - dense_3_acc_2: 0.5160 - dense_3_acc_3: 0.2285 - dense_3_acc_4: 0.0528 - dense_3_acc_5: 0.9513 - dense_3_acc_6: 0.0287 - dense_3_acc_7: 0.0043 - dense_3_acc_8: 0.8547 - dense_3_acc_9: 0.1393 - dense_3_acc_10: 0.073 - ETA: 23s - loss: 19.7340 - dense_3_loss_1: 1.7334 - dense_3_loss_2: 1.4254 - dense_3_loss_3: 2.0115 - dense_3_loss_4: 2.8615 - dense_3_loss_5: 1.2029 - dense_3_loss_6: 1.6848 - dense_3_loss_7: 2.7920 - dense_3_loss_8: 1.3658 - dense_3_loss_9: 1.8972 - dense_3_loss_10: 2.7594 - dense_3_acc_1: 0.2089 - dense_3_acc_2: 0.5216 - dense_3_acc_3: 0.2307 - dense_3_acc_4: 0.0538 - dense_3_acc_5: 0.9515 - dense_3_acc_6: 0.0285 - dense_3_acc_7: 0.0046 - dense_3_acc_8: 0.8554 - dense_3_acc_9: 0.1395 - dense_3_acc_10: 0.074 - ETA: 22s - loss: 19.6819 - dense_3_loss_1: 1.7165 - dense_3_loss_2: 1.4120 - dense_3_loss_3: 2.0030 - dense_3_loss_4: 2.8606 - dense_3_loss_5: 1.1966 - dense_3_loss_6: 1.6822 - dense_3_loss_7: 2.7959 - dense_3_loss_8: 1.3620 - dense_3_loss_9: 1.8953 - dense_3_loss_10: 2.7579 - dense_3_acc_1: 0.2171 - dense_3_acc_2: 0.5277 - dense_3_acc_3: 0.2335 - dense_3_acc_4: 0.0540 - dense_3_acc_5: 0.9523 - dense_3_acc_6: 0.0284 - dense_3_acc_7: 0.0047 - dense_3_acc_8: 0.8558 - dense_3_acc_9: 0.1397 - dense_3_acc_10: 0.074 - ETA: 21s - loss: 19.6270 - dense_3_loss_1: 1.6999 - dense_3_loss_2: 1.3980 - dense_3_loss_3: 1.9954 - dense_3_loss_4: 2.8592 - dense_3_loss_5: 1.1904 - dense_3_loss_6: 1.6794 - dense_3_loss_7: 2.7974 - dense_3_loss_8: 1.3582 - dense_3_loss_9: 1.8945 - dense_3_loss_10: 2.7546 - dense_3_acc_1: 0.2252 - dense_3_acc_2: 0.5344 - dense_3_acc_3: 0.2357 - dense_3_acc_4: 0.0549 - dense_3_acc_5: 0.9527 - dense_3_acc_6: 0.0286 - dense_3_acc_7: 0.0054 - dense_3_acc_8: 0.8562 - dense_3_acc_9: 0.1392 - dense_3_acc_10: 0.076 - ETA: 20s - loss: 19.5726 - dense_3_loss_1: 1.6837 - dense_3_loss_2: 1.3840 - dense_3_loss_3: 1.9859 - dense_3_loss_4: 2.8574 - dense_3_loss_5: 1.1844 - dense_3_loss_6: 1.6764 - dense_3_loss_7: 2.8001 - dense_3_loss_8: 1.3549 - dense_3_loss_9: 1.8931 - dense_3_loss_10: 2.7528 - dense_3_acc_1: 0.2342 - dense_3_acc_2: 0.5409 - dense_3_acc_3: 0.2383 - dense_3_acc_4: 0.0553 - dense_3_acc_5: 0.9528 - dense_3_acc_6: 0.0286 - dense_3_acc_7: 0.0055 - dense_3_acc_8: 0.8580 - dense_3_acc_9: 0.1391 - dense_3_acc_10: 0.0786"
     ]
    },
    {
     "name": "stdout",
     "output_type": "stream",
     "text": [
      " 8000/10000 [=======================>......] - ETA: 20s - loss: 19.5155 - dense_3_loss_1: 1.6675 - dense_3_loss_2: 1.3698 - dense_3_loss_3: 1.9767 - dense_3_loss_4: 2.8544 - dense_3_loss_5: 1.1782 - dense_3_loss_6: 1.6744 - dense_3_loss_7: 2.8014 - dense_3_loss_8: 1.3535 - dense_3_loss_9: 1.8910 - dense_3_loss_10: 2.7488 - dense_3_acc_1: 0.2443 - dense_3_acc_2: 0.5474 - dense_3_acc_3: 0.2406 - dense_3_acc_4: 0.0562 - dense_3_acc_5: 0.9532 - dense_3_acc_6: 0.0285 - dense_3_acc_7: 0.0054 - dense_3_acc_8: 0.8592 - dense_3_acc_9: 0.1426 - dense_3_acc_10: 0.080 - ETA: 19s - loss: 19.4614 - dense_3_loss_1: 1.6516 - dense_3_loss_2: 1.3562 - dense_3_loss_3: 1.9682 - dense_3_loss_4: 2.8518 - dense_3_loss_5: 1.1712 - dense_3_loss_6: 1.6716 - dense_3_loss_7: 2.8039 - dense_3_loss_8: 1.3517 - dense_3_loss_9: 1.8887 - dense_3_loss_10: 2.7465 - dense_3_acc_1: 0.2539 - dense_3_acc_2: 0.5527 - dense_3_acc_3: 0.2430 - dense_3_acc_4: 0.0561 - dense_3_acc_5: 0.9539 - dense_3_acc_6: 0.0282 - dense_3_acc_7: 0.0055 - dense_3_acc_8: 0.8606 - dense_3_acc_9: 0.1477 - dense_3_acc_10: 0.081 - ETA: 18s - loss: 19.4035 - dense_3_loss_1: 1.6355 - dense_3_loss_2: 1.3418 - dense_3_loss_3: 1.9587 - dense_3_loss_4: 2.8499 - dense_3_loss_5: 1.1636 - dense_3_loss_6: 1.6704 - dense_3_loss_7: 2.8071 - dense_3_loss_8: 1.3479 - dense_3_loss_9: 1.8861 - dense_3_loss_10: 2.7424 - dense_3_acc_1: 0.2639 - dense_3_acc_2: 0.5588 - dense_3_acc_3: 0.2460 - dense_3_acc_4: 0.0564 - dense_3_acc_5: 0.9546 - dense_3_acc_6: 0.0278 - dense_3_acc_7: 0.0054 - dense_3_acc_8: 0.8627 - dense_3_acc_9: 0.1506 - dense_3_acc_10: 0.083 - ETA: 17s - loss: 19.3402 - dense_3_loss_1: 1.6191 - dense_3_loss_2: 1.3274 - dense_3_loss_3: 1.9480 - dense_3_loss_4: 2.8448 - dense_3_loss_5: 1.1567 - dense_3_loss_6: 1.6666 - dense_3_loss_7: 2.8092 - dense_3_loss_8: 1.3422 - dense_3_loss_9: 1.8854 - dense_3_loss_10: 2.7409 - dense_3_acc_1: 0.2735 - dense_3_acc_2: 0.5646 - dense_3_acc_3: 0.2494 - dense_3_acc_4: 0.0571 - dense_3_acc_5: 0.9553 - dense_3_acc_6: 0.0281 - dense_3_acc_7: 0.0056 - dense_3_acc_8: 0.8641 - dense_3_acc_9: 0.1506 - dense_3_acc_10: 0.083 - ETA: 17s - loss: 19.2812 - dense_3_loss_1: 1.6034 - dense_3_loss_2: 1.3133 - dense_3_loss_3: 1.9362 - dense_3_loss_4: 2.8435 - dense_3_loss_5: 1.1511 - dense_3_loss_6: 1.6616 - dense_3_loss_7: 2.8114 - dense_3_loss_8: 1.3376 - dense_3_loss_9: 1.8823 - dense_3_loss_10: 2.7407 - dense_3_acc_1: 0.2829 - dense_3_acc_2: 0.5700 - dense_3_acc_3: 0.2536 - dense_3_acc_4: 0.0574 - dense_3_acc_5: 0.9558 - dense_3_acc_6: 0.0299 - dense_3_acc_7: 0.0064 - dense_3_acc_8: 0.8642 - dense_3_acc_9: 0.1526 - dense_3_acc_10: 0.084 - ETA: 16s - loss: 19.2237 - dense_3_loss_1: 1.5877 - dense_3_loss_2: 1.2989 - dense_3_loss_3: 1.9272 - dense_3_loss_4: 2.8396 - dense_3_loss_5: 1.1454 - dense_3_loss_6: 1.6565 - dense_3_loss_7: 2.8140 - dense_3_loss_8: 1.3337 - dense_3_loss_9: 1.8793 - dense_3_loss_10: 2.7413 - dense_3_acc_1: 0.2921 - dense_3_acc_2: 0.5757 - dense_3_acc_3: 0.2554 - dense_3_acc_4: 0.0584 - dense_3_acc_5: 0.9563 - dense_3_acc_6: 0.0323 - dense_3_acc_7: 0.0066 - dense_3_acc_8: 0.8649 - dense_3_acc_9: 0.1579 - dense_3_acc_10: 0.084 - ETA: 15s - loss: 19.1678 - dense_3_loss_1: 1.5726 - dense_3_loss_2: 1.2855 - dense_3_loss_3: 1.9173 - dense_3_loss_4: 2.8375 - dense_3_loss_5: 1.1401 - dense_3_loss_6: 1.6513 - dense_3_loss_7: 2.8169 - dense_3_loss_8: 1.3305 - dense_3_loss_9: 1.8772 - dense_3_loss_10: 2.7389 - dense_3_acc_1: 0.3010 - dense_3_acc_2: 0.5808 - dense_3_acc_3: 0.2585 - dense_3_acc_4: 0.0582 - dense_3_acc_5: 0.9568 - dense_3_acc_6: 0.0393 - dense_3_acc_7: 0.0066 - dense_3_acc_8: 0.8659 - dense_3_acc_9: 0.1613 - dense_3_acc_10: 0.085 - ETA: 15s - loss: 19.1083 - dense_3_loss_1: 1.5573 - dense_3_loss_2: 1.2721 - dense_3_loss_3: 1.9098 - dense_3_loss_4: 2.8330 - dense_3_loss_5: 1.1350 - dense_3_loss_6: 1.6450 - dense_3_loss_7: 2.8195 - dense_3_loss_8: 1.3251 - dense_3_loss_9: 1.8763 - dense_3_loss_10: 2.7351 - dense_3_acc_1: 0.3094 - dense_3_acc_2: 0.5858 - dense_3_acc_3: 0.2593 - dense_3_acc_4: 0.0587 - dense_3_acc_5: 0.9569 - dense_3_acc_6: 0.0465 - dense_3_acc_7: 0.0068 - dense_3_acc_8: 0.8675 - dense_3_acc_9: 0.1617 - dense_3_acc_10: 0.086 - ETA: 14s - loss: 19.0480 - dense_3_loss_1: 1.5421 - dense_3_loss_2: 1.2590 - dense_3_loss_3: 1.9007 - dense_3_loss_4: 2.8296 - dense_3_loss_5: 1.1303 - dense_3_loss_6: 1.6388 - dense_3_loss_7: 2.8204 - dense_3_loss_8: 1.3202 - dense_3_loss_9: 1.8743 - dense_3_loss_10: 2.7325 - dense_3_acc_1: 0.3182 - dense_3_acc_2: 0.5908 - dense_3_acc_3: 0.2615 - dense_3_acc_4: 0.0605 - dense_3_acc_5: 0.9568 - dense_3_acc_6: 0.0549 - dense_3_acc_7: 0.0078 - dense_3_acc_8: 0.8685 - dense_3_acc_9: 0.1636 - dense_3_acc_10: 0.086 - ETA: 13s - loss: 18.9861 - dense_3_loss_1: 1.5267 - dense_3_loss_2: 1.2468 - dense_3_loss_3: 1.8917 - dense_3_loss_4: 2.8269 - dense_3_loss_5: 1.1253 - dense_3_loss_6: 1.6324 - dense_3_loss_7: 2.8194 - dense_3_loss_8: 1.3157 - dense_3_loss_9: 1.8726 - dense_3_loss_10: 2.7286 - dense_3_acc_1: 0.3264 - dense_3_acc_2: 0.5957 - dense_3_acc_3: 0.2641 - dense_3_acc_4: 0.0624 - dense_3_acc_5: 0.9568 - dense_3_acc_6: 0.0619 - dense_3_acc_7: 0.0092 - dense_3_acc_8: 0.8684 - dense_3_acc_9: 0.1664 - dense_3_acc_10: 0.087 - ETA: 13s - loss: 18.9251 - dense_3_loss_1: 1.5116 - dense_3_loss_2: 1.2339 - dense_3_loss_3: 1.8824 - dense_3_loss_4: 2.8240 - dense_3_loss_5: 1.1186 - dense_3_loss_6: 1.6261 - dense_3_loss_7: 2.8226 - dense_3_loss_8: 1.3095 - dense_3_loss_9: 1.8723 - dense_3_loss_10: 2.7242 - dense_3_acc_1: 0.3348 - dense_3_acc_2: 0.6007 - dense_3_acc_3: 0.2671 - dense_3_acc_4: 0.0629 - dense_3_acc_5: 0.9573 - dense_3_acc_6: 0.0696 - dense_3_acc_7: 0.0092 - dense_3_acc_8: 0.8701 - dense_3_acc_9: 0.1677 - dense_3_acc_10: 0.088 - ETA: 12s - loss: 18.8606 - dense_3_loss_1: 1.4966 - dense_3_loss_2: 1.2211 - dense_3_loss_3: 1.8729 - dense_3_loss_4: 2.8192 - dense_3_loss_5: 1.1116 - dense_3_loss_6: 1.6195 - dense_3_loss_7: 2.8262 - dense_3_loss_8: 1.3022 - dense_3_loss_9: 1.8719 - dense_3_loss_10: 2.7195 - dense_3_acc_1: 0.3432 - dense_3_acc_2: 0.6057 - dense_3_acc_3: 0.2707 - dense_3_acc_4: 0.0641 - dense_3_acc_5: 0.9579 - dense_3_acc_6: 0.0791 - dense_3_acc_7: 0.0091 - dense_3_acc_8: 0.8718 - dense_3_acc_9: 0.1674 - dense_3_acc_10: 0.089 - ETA: 12s - loss: 18.8043 - dense_3_loss_1: 1.4818 - dense_3_loss_2: 1.2092 - dense_3_loss_3: 1.8647 - dense_3_loss_4: 2.8176 - dense_3_loss_5: 1.1046 - dense_3_loss_6: 1.6125 - dense_3_loss_7: 2.8299 - dense_3_loss_8: 1.2951 - dense_3_loss_9: 1.8720 - dense_3_loss_10: 2.7169 - dense_3_acc_1: 0.3512 - dense_3_acc_2: 0.6101 - dense_3_acc_3: 0.2729 - dense_3_acc_4: 0.0649 - dense_3_acc_5: 0.9584 - dense_3_acc_6: 0.0883 - dense_3_acc_7: 0.0091 - dense_3_acc_8: 0.8735 - dense_3_acc_9: 0.1661 - dense_3_acc_10: 0.090 - ETA: 11s - loss: 18.7452 - dense_3_loss_1: 1.4669 - dense_3_loss_2: 1.1961 - dense_3_loss_3: 1.8554 - dense_3_loss_4: 2.8165 - dense_3_loss_5: 1.0980 - dense_3_loss_6: 1.6047 - dense_3_loss_7: 2.8323 - dense_3_loss_8: 1.2902 - dense_3_loss_9: 1.8703 - dense_3_loss_10: 2.7148 - dense_3_acc_1: 0.3592 - dense_3_acc_2: 0.6150 - dense_3_acc_3: 0.2749 - dense_3_acc_4: 0.0651 - dense_3_acc_5: 0.9590 - dense_3_acc_6: 0.0981 - dense_3_acc_7: 0.0094 - dense_3_acc_8: 0.8751 - dense_3_acc_9: 0.1686 - dense_3_acc_10: 0.090 - ETA: 10s - loss: 18.6839 - dense_3_loss_1: 1.4529 - dense_3_loss_2: 1.1840 - dense_3_loss_3: 1.8469 - dense_3_loss_4: 2.8143 - dense_3_loss_5: 1.0916 - dense_3_loss_6: 1.5976 - dense_3_loss_7: 2.8327 - dense_3_loss_8: 1.2859 - dense_3_loss_9: 1.8678 - dense_3_loss_10: 2.7101 - dense_3_acc_1: 0.3667 - dense_3_acc_2: 0.6196 - dense_3_acc_3: 0.2771 - dense_3_acc_4: 0.0652 - dense_3_acc_5: 0.9595 - dense_3_acc_6: 0.1061 - dense_3_acc_7: 0.0099 - dense_3_acc_8: 0.8766 - dense_3_acc_9: 0.1723 - dense_3_acc_10: 0.091 - ETA: 10s - loss: 18.6207 - dense_3_loss_1: 1.4390 - dense_3_loss_2: 1.1721 - dense_3_loss_3: 1.8381 - dense_3_loss_4: 2.8122 - dense_3_loss_5: 1.0850 - dense_3_loss_6: 1.5895 - dense_3_loss_7: 2.8329 - dense_3_loss_8: 1.2792 - dense_3_loss_9: 1.8659 - dense_3_loss_10: 2.7067 - dense_3_acc_1: 0.3741 - dense_3_acc_2: 0.6240 - dense_3_acc_3: 0.2802 - dense_3_acc_4: 0.0654 - dense_3_acc_5: 0.9600 - dense_3_acc_6: 0.1146 - dense_3_acc_7: 0.0111 - dense_3_acc_8: 0.8781 - dense_3_acc_9: 0.1751 - dense_3_acc_10: 0.0918"
     ]
    },
    {
     "name": "stdout",
     "output_type": "stream",
     "text": [
      " 9600/10000 [===========================>..] - ETA: 9s - loss: 18.5570 - dense_3_loss_1: 1.4255 - dense_3_loss_2: 1.1610 - dense_3_loss_3: 1.8304 - dense_3_loss_4: 2.8087 - dense_3_loss_5: 1.0783 - dense_3_loss_6: 1.5814 - dense_3_loss_7: 2.8327 - dense_3_loss_8: 1.2717 - dense_3_loss_9: 1.8644 - dense_3_loss_10: 2.7030 - dense_3_acc_1: 0.3812 - dense_3_acc_2: 0.6280 - dense_3_acc_3: 0.2822 - dense_3_acc_4: 0.0662 - dense_3_acc_5: 0.9605 - dense_3_acc_6: 0.1231 - dense_3_acc_7: 0.0130 - dense_3_acc_8: 0.8796 - dense_3_acc_9: 0.1748 - dense_3_acc_10: 0.092 - ETA: 9s - loss: 18.4929 - dense_3_loss_1: 1.4117 - dense_3_loss_2: 1.1492 - dense_3_loss_3: 1.8220 - dense_3_loss_4: 2.8065 - dense_3_loss_5: 1.0710 - dense_3_loss_6: 1.5729 - dense_3_loss_7: 2.8334 - dense_3_loss_8: 1.2636 - dense_3_loss_9: 1.8625 - dense_3_loss_10: 2.7002 - dense_3_acc_1: 0.3885 - dense_3_acc_2: 0.6323 - dense_3_acc_3: 0.2849 - dense_3_acc_4: 0.0661 - dense_3_acc_5: 0.9610 - dense_3_acc_6: 0.1316 - dense_3_acc_7: 0.0141 - dense_3_acc_8: 0.8811 - dense_3_acc_9: 0.1765 - dense_3_acc_10: 0.09 - ETA: 8s - loss: 18.4276 - dense_3_loss_1: 1.3979 - dense_3_loss_2: 1.1371 - dense_3_loss_3: 1.8140 - dense_3_loss_4: 2.8053 - dense_3_loss_5: 1.0637 - dense_3_loss_6: 1.5641 - dense_3_loss_7: 2.8340 - dense_3_loss_8: 1.2561 - dense_3_loss_9: 1.8602 - dense_3_loss_10: 2.6953 - dense_3_acc_1: 0.3958 - dense_3_acc_2: 0.6366 - dense_3_acc_3: 0.2872 - dense_3_acc_4: 0.0653 - dense_3_acc_5: 0.9614 - dense_3_acc_6: 0.1400 - dense_3_acc_7: 0.0143 - dense_3_acc_8: 0.8825 - dense_3_acc_9: 0.1786 - dense_3_acc_10: 0.09 - ETA: 8s - loss: 18.3589 - dense_3_loss_1: 1.3850 - dense_3_loss_2: 1.1260 - dense_3_loss_3: 1.8072 - dense_3_loss_4: 2.8030 - dense_3_loss_5: 1.0564 - dense_3_loss_6: 1.5556 - dense_3_loss_7: 2.8313 - dense_3_loss_8: 1.2473 - dense_3_loss_9: 1.8561 - dense_3_loss_10: 2.6909 - dense_3_acc_1: 0.4024 - dense_3_acc_2: 0.6404 - dense_3_acc_3: 0.2888 - dense_3_acc_4: 0.0656 - dense_3_acc_5: 0.9619 - dense_3_acc_6: 0.1476 - dense_3_acc_7: 0.0169 - dense_3_acc_8: 0.8839 - dense_3_acc_9: 0.1823 - dense_3_acc_10: 0.09 - ETA: 7s - loss: 18.2930 - dense_3_loss_1: 1.3725 - dense_3_loss_2: 1.1158 - dense_3_loss_3: 1.8010 - dense_3_loss_4: 2.7990 - dense_3_loss_5: 1.0497 - dense_3_loss_6: 1.5463 - dense_3_loss_7: 2.8303 - dense_3_loss_8: 1.2374 - dense_3_loss_9: 1.8520 - dense_3_loss_10: 2.6891 - dense_3_acc_1: 0.4089 - dense_3_acc_2: 0.6441 - dense_3_acc_3: 0.2902 - dense_3_acc_4: 0.0668 - dense_3_acc_5: 0.9624 - dense_3_acc_6: 0.1556 - dense_3_acc_7: 0.0180 - dense_3_acc_8: 0.8853 - dense_3_acc_9: 0.1853 - dense_3_acc_10: 0.09 - ETA: 7s - loss: 18.2259 - dense_3_loss_1: 1.3599 - dense_3_loss_2: 1.1049 - dense_3_loss_3: 1.7935 - dense_3_loss_4: 2.7977 - dense_3_loss_5: 1.0430 - dense_3_loss_6: 1.5377 - dense_3_loss_7: 2.8293 - dense_3_loss_8: 1.2268 - dense_3_loss_9: 1.8475 - dense_3_loss_10: 2.6856 - dense_3_acc_1: 0.4153 - dense_3_acc_2: 0.6479 - dense_3_acc_3: 0.2922 - dense_3_acc_4: 0.0664 - dense_3_acc_5: 0.9624 - dense_3_acc_6: 0.1626 - dense_3_acc_7: 0.0198 - dense_3_acc_8: 0.8866 - dense_3_acc_9: 0.1880 - dense_3_acc_10: 0.09 - ETA: 6s - loss: 18.1582 - dense_3_loss_1: 1.3479 - dense_3_loss_2: 1.0956 - dense_3_loss_3: 1.7867 - dense_3_loss_4: 2.7946 - dense_3_loss_5: 1.0363 - dense_3_loss_6: 1.5286 - dense_3_loss_7: 2.8296 - dense_3_loss_8: 1.2159 - dense_3_loss_9: 1.8410 - dense_3_loss_10: 2.6821 - dense_3_acc_1: 0.4214 - dense_3_acc_2: 0.6511 - dense_3_acc_3: 0.2940 - dense_3_acc_4: 0.0662 - dense_3_acc_5: 0.9628 - dense_3_acc_6: 0.1701 - dense_3_acc_7: 0.0202 - dense_3_acc_8: 0.8879 - dense_3_acc_9: 0.1918 - dense_3_acc_10: 0.09 - ETA: 5s - loss: 18.0873 - dense_3_loss_1: 1.3356 - dense_3_loss_2: 1.0854 - dense_3_loss_3: 1.7799 - dense_3_loss_4: 2.7924 - dense_3_loss_5: 1.0289 - dense_3_loss_6: 1.5193 - dense_3_loss_7: 2.8274 - dense_3_loss_8: 1.2048 - dense_3_loss_9: 1.8350 - dense_3_loss_10: 2.6786 - dense_3_acc_1: 0.4276 - dense_3_acc_2: 0.6548 - dense_3_acc_3: 0.2949 - dense_3_acc_4: 0.0665 - dense_3_acc_5: 0.9632 - dense_3_acc_6: 0.1778 - dense_3_acc_7: 0.0217 - dense_3_acc_8: 0.8892 - dense_3_acc_9: 0.1952 - dense_3_acc_10: 0.09 - ETA: 5s - loss: 18.0163 - dense_3_loss_1: 1.3239 - dense_3_loss_2: 1.0753 - dense_3_loss_3: 1.7722 - dense_3_loss_4: 2.7895 - dense_3_loss_5: 1.0216 - dense_3_loss_6: 1.5101 - dense_3_loss_7: 2.8258 - dense_3_loss_8: 1.1941 - dense_3_loss_9: 1.8299 - dense_3_loss_10: 2.6740 - dense_3_acc_1: 0.4338 - dense_3_acc_2: 0.6584 - dense_3_acc_3: 0.2972 - dense_3_acc_4: 0.0674 - dense_3_acc_5: 0.9636 - dense_3_acc_6: 0.1853 - dense_3_acc_7: 0.0229 - dense_3_acc_8: 0.8904 - dense_3_acc_9: 0.1981 - dense_3_acc_10: 0.09 - ETA: 4s - loss: 17.9471 - dense_3_loss_1: 1.3123 - dense_3_loss_2: 1.0657 - dense_3_loss_3: 1.7650 - dense_3_loss_4: 2.7858 - dense_3_loss_5: 1.0143 - dense_3_loss_6: 1.5019 - dense_3_loss_7: 2.8219 - dense_3_loss_8: 1.1836 - dense_3_loss_9: 1.8264 - dense_3_loss_10: 2.6702 - dense_3_acc_1: 0.4397 - dense_3_acc_2: 0.6618 - dense_3_acc_3: 0.2992 - dense_3_acc_4: 0.0682 - dense_3_acc_5: 0.9640 - dense_3_acc_6: 0.1919 - dense_3_acc_7: 0.0247 - dense_3_acc_8: 0.8917 - dense_3_acc_9: 0.2002 - dense_3_acc_10: 0.09 - ETA: 4s - loss: 17.8789 - dense_3_loss_1: 1.3014 - dense_3_loss_2: 1.0572 - dense_3_loss_3: 1.7577 - dense_3_loss_4: 2.7831 - dense_3_loss_5: 1.0064 - dense_3_loss_6: 1.4933 - dense_3_loss_7: 2.8196 - dense_3_loss_8: 1.1727 - dense_3_loss_9: 1.8213 - dense_3_loss_10: 2.6663 - dense_3_acc_1: 0.4452 - dense_3_acc_2: 0.6647 - dense_3_acc_3: 0.3023 - dense_3_acc_4: 0.0688 - dense_3_acc_5: 0.9644 - dense_3_acc_6: 0.1988 - dense_3_acc_7: 0.0260 - dense_3_acc_8: 0.8929 - dense_3_acc_9: 0.2016 - dense_3_acc_10: 0.09 - ETA: 3s - loss: 17.8075 - dense_3_loss_1: 1.2906 - dense_3_loss_2: 1.0480 - dense_3_loss_3: 1.7500 - dense_3_loss_4: 2.7797 - dense_3_loss_5: 0.9981 - dense_3_loss_6: 1.4851 - dense_3_loss_7: 2.8168 - dense_3_loss_8: 1.1614 - dense_3_loss_9: 1.8157 - dense_3_loss_10: 2.6622 - dense_3_acc_1: 0.4507 - dense_3_acc_2: 0.6679 - dense_3_acc_3: 0.3051 - dense_3_acc_4: 0.0690 - dense_3_acc_5: 0.9648 - dense_3_acc_6: 0.2055 - dense_3_acc_7: 0.0273 - dense_3_acc_8: 0.8940 - dense_3_acc_9: 0.2042 - dense_3_acc_10: 0.10 - ETA: 3s - loss: 17.7402 - dense_3_loss_1: 1.2802 - dense_3_loss_2: 1.0398 - dense_3_loss_3: 1.7436 - dense_3_loss_4: 2.7776 - dense_3_loss_5: 0.9897 - dense_3_loss_6: 1.4767 - dense_3_loss_7: 2.8138 - dense_3_loss_8: 1.1503 - dense_3_loss_9: 1.8108 - dense_3_loss_10: 2.6577 - dense_3_acc_1: 0.4558 - dense_3_acc_2: 0.6711 - dense_3_acc_3: 0.3074 - dense_3_acc_4: 0.0688 - dense_3_acc_5: 0.9652 - dense_3_acc_6: 0.2118 - dense_3_acc_7: 0.0283 - dense_3_acc_8: 0.8952 - dense_3_acc_9: 0.2062 - dense_3_acc_10: 0.10 - ETA: 2s - loss: 17.6677 - dense_3_loss_1: 1.2696 - dense_3_loss_2: 1.0307 - dense_3_loss_3: 1.7360 - dense_3_loss_4: 2.7746 - dense_3_loss_5: 0.9811 - dense_3_loss_6: 1.4684 - dense_3_loss_7: 2.8085 - dense_3_loss_8: 1.1393 - dense_3_loss_9: 1.8060 - dense_3_loss_10: 2.6534 - dense_3_acc_1: 0.4610 - dense_3_acc_2: 0.6741 - dense_3_acc_3: 0.3099 - dense_3_acc_4: 0.0693 - dense_3_acc_5: 0.9655 - dense_3_acc_6: 0.2183 - dense_3_acc_7: 0.0301 - dense_3_acc_8: 0.8963 - dense_3_acc_9: 0.2088 - dense_3_acc_10: 0.10 - ETA: 2s - loss: 17.5983 - dense_3_loss_1: 1.2590 - dense_3_loss_2: 1.0219 - dense_3_loss_3: 1.7296 - dense_3_loss_4: 2.7713 - dense_3_loss_5: 0.9725 - dense_3_loss_6: 1.4600 - dense_3_loss_7: 2.8050 - dense_3_loss_8: 1.1285 - dense_3_loss_9: 1.8020 - dense_3_loss_10: 2.6485 - dense_3_acc_1: 0.4663 - dense_3_acc_2: 0.6772 - dense_3_acc_3: 0.3114 - dense_3_acc_4: 0.0703 - dense_3_acc_5: 0.9659 - dense_3_acc_6: 0.2243 - dense_3_acc_7: 0.0308 - dense_3_acc_8: 0.8974 - dense_3_acc_9: 0.2111 - dense_3_acc_10: 0.10 - ETA: 1s - loss: 17.5292 - dense_3_loss_1: 1.2490 - dense_3_loss_2: 1.0137 - dense_3_loss_3: 1.7231 - dense_3_loss_4: 2.7680 - dense_3_loss_5: 0.9639 - dense_3_loss_6: 1.4516 - dense_3_loss_7: 2.8010 - dense_3_loss_8: 1.1179 - dense_3_loss_9: 1.7961 - dense_3_loss_10: 2.6449 - dense_3_acc_1: 0.4714 - dense_3_acc_2: 0.6800 - dense_3_acc_3: 0.3133 - dense_3_acc_4: 0.0707 - dense_3_acc_5: 0.9663 - dense_3_acc_6: 0.2302 - dense_3_acc_7: 0.0317 - dense_3_acc_8: 0.8984 - dense_3_acc_9: 0.2127 - dense_3_acc_10: 0.1034"
     ]
    },
    {
     "name": "stdout",
     "output_type": "stream",
     "text": [
      "10000/10000 [==============================] - ETA: 1s - loss: 17.4592 - dense_3_loss_1: 1.2386 - dense_3_loss_2: 1.0049 - dense_3_loss_3: 1.7166 - dense_3_loss_4: 2.7647 - dense_3_loss_5: 0.9555 - dense_3_loss_6: 1.4431 - dense_3_loss_7: 2.7957 - dense_3_loss_8: 1.1075 - dense_3_loss_9: 1.7921 - dense_3_loss_10: 2.6405 - dense_3_acc_1: 0.4765 - dense_3_acc_2: 0.6830 - dense_3_acc_3: 0.3149 - dense_3_acc_4: 0.0718 - dense_3_acc_5: 0.9666 - dense_3_acc_6: 0.2362 - dense_3_acc_7: 0.0331 - dense_3_acc_8: 0.8995 - dense_3_acc_9: 0.2149 - dense_3_acc_10: 0.10 - ETA: 0s - loss: 17.3905 - dense_3_loss_1: 1.2282 - dense_3_loss_2: 0.9961 - dense_3_loss_3: 1.7101 - dense_3_loss_4: 2.7610 - dense_3_loss_5: 0.9473 - dense_3_loss_6: 1.4352 - dense_3_loss_7: 2.7903 - dense_3_loss_8: 1.0974 - dense_3_loss_9: 1.7880 - dense_3_loss_10: 2.6370 - dense_3_acc_1: 0.4816 - dense_3_acc_2: 0.6860 - dense_3_acc_3: 0.3165 - dense_3_acc_4: 0.0722 - dense_3_acc_5: 0.9669 - dense_3_acc_6: 0.2419 - dense_3_acc_7: 0.0347 - dense_3_acc_8: 0.9005 - dense_3_acc_9: 0.2172 - dense_3_acc_10: 0.10 - ETA: 0s - loss: 17.3201 - dense_3_loss_1: 1.2178 - dense_3_loss_2: 0.9873 - dense_3_loss_3: 1.7035 - dense_3_loss_4: 2.7576 - dense_3_loss_5: 0.9392 - dense_3_loss_6: 1.4263 - dense_3_loss_7: 2.7848 - dense_3_loss_8: 1.0874 - dense_3_loss_9: 1.7824 - dense_3_loss_10: 2.6338 - dense_3_acc_1: 0.4867 - dense_3_acc_2: 0.6890 - dense_3_acc_3: 0.3184 - dense_3_acc_4: 0.0726 - dense_3_acc_5: 0.9673 - dense_3_acc_6: 0.2483 - dense_3_acc_7: 0.0359 - dense_3_acc_8: 0.9015 - dense_3_acc_9: 0.2199 - dense_3_acc_10: 0.10 - 47s - loss: 17.2519 - dense_3_loss_1: 1.2079 - dense_3_loss_2: 0.9789 - dense_3_loss_3: 1.6966 - dense_3_loss_4: 2.7534 - dense_3_loss_5: 0.9312 - dense_3_loss_6: 1.4190 - dense_3_loss_7: 2.7799 - dense_3_loss_8: 1.0773 - dense_3_loss_9: 1.7779 - dense_3_loss_10: 2.6299 - dense_3_acc_1: 0.4916 - dense_3_acc_2: 0.6919 - dense_3_acc_3: 0.3204 - dense_3_acc_4: 0.0733 - dense_3_acc_5: 0.9676 - dense_3_acc_6: 0.2534 - dense_3_acc_7: 0.0371 - dense_3_acc_8: 0.9025 - dense_3_acc_9: 0.2219 - dense_3_acc_10: 0.1060    \n"
     ]
    },
    {
     "data": {
      "text/plain": [
       "<keras.callbacks.History at 0x1fe88518>"
      ]
     },
     "execution_count": 16,
     "metadata": {},
     "output_type": "execute_result"
    }
   ],
   "source": [
    "model.fit([Xoh, s0, c0], outputs, epochs=1, batch_size=100)"
   ]
  },
  {
   "cell_type": "markdown",
   "metadata": {},
   "source": [
    "While training you can see the loss as well as the accuracy on each of the 10 positions of the output. The table below gives you an example of what the accuracies could be if the batch had 2 examples: \n",
    "\n",
    "<img src=\"images/table.png\" style=\"width:700;height:200px;\"> <br>\n",
    "<caption><center>Thus, `dense_2_acc_8: 0.89` means that you are predicting the 7th character of the output correctly 89% of the time in the current batch of data. </center></caption>\n",
    "\n",
    "\n",
    "We have run this model for longer, and saved the weights. Run the next cell to load our weights. (By training a model for several minutes, you should be able to obtain a model of similar accuracy, but loading our model will save you time.) "
   ]
  },
  {
   "cell_type": "code",
   "execution_count": 17,
   "metadata": {
    "collapsed": true
   },
   "outputs": [],
   "source": [
    "model.load_weights('models/model.h5')"
   ]
  },
  {
   "cell_type": "markdown",
   "metadata": {},
   "source": [
    "You can now see the results on new examples."
   ]
  },
  {
   "cell_type": "code",
   "execution_count": 18,
   "metadata": {},
   "outputs": [
    {
     "name": "stdout",
     "output_type": "stream",
     "text": [
      "source: 3 May 1979\n",
      "output: 1979-05-03\n",
      "source: 5 April 09\n",
      "output: 2009-05-05\n",
      "source: 21th of August 2016\n",
      "output: 2016-08-21\n",
      "source: Tue 10 Jul 2007\n",
      "output: 2007-07-10\n",
      "source: Saturday May 9 2018\n",
      "output: 2018-05-09\n",
      "source: March 3 2001\n",
      "output: 2001-03-03\n",
      "source: March 3rd 2001\n",
      "output: 2001-03-03\n",
      "source: 1 March 2001\n",
      "output: 2001-03-01\n"
     ]
    }
   ],
   "source": [
    "EXAMPLES = ['3 May 1979', '5 April 09', '21th of August 2016', 'Tue 10 Jul 2007', 'Saturday May 9 2018', 'March 3 2001', 'March 3rd 2001', '1 March 2001']\n",
    "for example in EXAMPLES:\n",
    "    \n",
    "    source = string_to_int(example, Tx, human_vocab)\n",
    "    source = np.array(list(map(lambda x: to_categorical(x, num_classes=len(human_vocab)), source))).swapaxes(0,1)\n",
    "    prediction = model.predict([source, s0, c0])\n",
    "    prediction = np.argmax(prediction, axis = -1)\n",
    "    output = [inv_machine_vocab[int(i)] for i in prediction]\n",
    "    \n",
    "    print(\"source:\", example)\n",
    "    print(\"output:\", ''.join(output))"
   ]
  },
  {
   "cell_type": "markdown",
   "metadata": {},
   "source": [
    "You can also change these examples to test with your own examples. The next part will give you a better sense on what the attention mechanism is doing--i.e., what part of the input the network is paying attention to when generating a particular output character. "
   ]
  },
  {
   "cell_type": "markdown",
   "metadata": {},
   "source": [
    "## 3 - Visualizing Attention (Optional / Ungraded)\n",
    "\n",
    "Since the problem has a fixed output length of 10, it is also possible to carry out this task using 10 different softmax units to generate the 10 characters of the output. But one advantage of the attention model is that each part of the output (say the month) knows it needs to depend only on a small part of the input (the characters in the input giving the month). We can  visualize what part of the output is looking at what part of the input.\n",
    "\n",
    "Consider the task of translating \"Saturday 9 May 2018\" to \"2018-05-09\". If we visualize the computed $\\alpha^{\\langle t, t' \\rangle}$ we get this: \n",
    "\n",
    "<img src=\"images/date_attention.png\" style=\"width:600;height:300px;\"> <br>\n",
    "<caption><center> **Figure 8**: Full Attention Map</center></caption>\n",
    "\n",
    "Notice how the output ignores the \"Saturday\" portion of the input. None of the output timesteps are paying much attention to that portion of the input. We see also that 9 has been translated as 09 and May has been correctly translated into 05, with the output paying attention to the parts of the input it needs to to make the translation. The year mostly requires it to pay attention to the input's \"18\" in order to generate \"2018.\" \n",
    "\n"
   ]
  },
  {
   "cell_type": "markdown",
   "metadata": {},
   "source": [
    "### 3.1 - Getting the activations from the network\n",
    "\n",
    "Lets now visualize the attention values in your network. We'll propagate an example through the network, then visualize the values of $\\alpha^{\\langle t, t' \\rangle}$. \n",
    "\n",
    "To figure out where the attention values are located, let's start by printing a summary of the model ."
   ]
  },
  {
   "cell_type": "code",
   "execution_count": 19,
   "metadata": {},
   "outputs": [
    {
     "name": "stdout",
     "output_type": "stream",
     "text": [
      "____________________________________________________________________________________________________\n",
      "Layer (type)                     Output Shape          Param #     Connected to                     \n",
      "====================================================================================================\n",
      "input_1 (InputLayer)             (None, 30, 37)        0                                            \n",
      "____________________________________________________________________________________________________\n",
      "s0 (InputLayer)                  (None, 64)            0                                            \n",
      "____________________________________________________________________________________________________\n",
      "bidirectional_1 (Bidirectional)  (None, 30, 64)        17920       input_1[0][0]                    \n",
      "____________________________________________________________________________________________________\n",
      "repeat_vector_1 (RepeatVector)   (None, 30, 64)        0           s0[0][0]                         \n",
      "                                                                   lstm_1[0][0]                     \n",
      "                                                                   lstm_1[1][0]                     \n",
      "                                                                   lstm_1[2][0]                     \n",
      "                                                                   lstm_1[3][0]                     \n",
      "                                                                   lstm_1[4][0]                     \n",
      "                                                                   lstm_1[5][0]                     \n",
      "                                                                   lstm_1[6][0]                     \n",
      "                                                                   lstm_1[7][0]                     \n",
      "                                                                   lstm_1[8][0]                     \n",
      "____________________________________________________________________________________________________\n",
      "concatenate_1 (Concatenate)      (None, 30, 128)       0           bidirectional_1[0][0]            \n",
      "                                                                   repeat_vector_1[0][0]            \n",
      "                                                                   bidirectional_1[0][0]            \n",
      "                                                                   repeat_vector_1[1][0]            \n",
      "                                                                   bidirectional_1[0][0]            \n",
      "                                                                   repeat_vector_1[2][0]            \n",
      "                                                                   bidirectional_1[0][0]            \n",
      "                                                                   repeat_vector_1[3][0]            \n",
      "                                                                   bidirectional_1[0][0]            \n",
      "                                                                   repeat_vector_1[4][0]            \n",
      "                                                                   bidirectional_1[0][0]            \n",
      "                                                                   repeat_vector_1[5][0]            \n",
      "                                                                   bidirectional_1[0][0]            \n",
      "                                                                   repeat_vector_1[6][0]            \n",
      "                                                                   bidirectional_1[0][0]            \n",
      "                                                                   repeat_vector_1[7][0]            \n",
      "                                                                   bidirectional_1[0][0]            \n",
      "                                                                   repeat_vector_1[8][0]            \n",
      "                                                                   bidirectional_1[0][0]            \n",
      "                                                                   repeat_vector_1[9][0]            \n",
      "____________________________________________________________________________________________________\n",
      "dense_1 (Dense)                  (None, 30, 10)        1290        concatenate_1[0][0]              \n",
      "                                                                   concatenate_1[1][0]              \n",
      "                                                                   concatenate_1[2][0]              \n",
      "                                                                   concatenate_1[3][0]              \n",
      "                                                                   concatenate_1[4][0]              \n",
      "                                                                   concatenate_1[5][0]              \n",
      "                                                                   concatenate_1[6][0]              \n",
      "                                                                   concatenate_1[7][0]              \n",
      "                                                                   concatenate_1[8][0]              \n",
      "                                                                   concatenate_1[9][0]              \n",
      "____________________________________________________________________________________________________\n",
      "dense_2 (Dense)                  (None, 30, 1)         11          dense_1[0][0]                    \n",
      "                                                                   dense_1[1][0]                    \n",
      "                                                                   dense_1[2][0]                    \n",
      "                                                                   dense_1[3][0]                    \n",
      "                                                                   dense_1[4][0]                    \n",
      "                                                                   dense_1[5][0]                    \n",
      "                                                                   dense_1[6][0]                    \n",
      "                                                                   dense_1[7][0]                    \n",
      "                                                                   dense_1[8][0]                    \n",
      "                                                                   dense_1[9][0]                    \n",
      "____________________________________________________________________________________________________\n",
      "attention_weights (Activation)   (None, 30, 1)         0           dense_2[0][0]                    \n",
      "                                                                   dense_2[1][0]                    \n",
      "                                                                   dense_2[2][0]                    \n",
      "                                                                   dense_2[3][0]                    \n",
      "                                                                   dense_2[4][0]                    \n",
      "                                                                   dense_2[5][0]                    \n",
      "                                                                   dense_2[6][0]                    \n",
      "                                                                   dense_2[7][0]                    \n",
      "                                                                   dense_2[8][0]                    \n",
      "                                                                   dense_2[9][0]                    \n",
      "____________________________________________________________________________________________________\n",
      "dot_1 (Dot)                      (None, 1, 64)         0           attention_weights[0][0]          \n",
      "                                                                   bidirectional_1[0][0]            \n",
      "                                                                   attention_weights[1][0]          \n",
      "                                                                   bidirectional_1[0][0]            \n",
      "                                                                   attention_weights[2][0]          \n",
      "                                                                   bidirectional_1[0][0]            \n",
      "                                                                   attention_weights[3][0]          \n",
      "                                                                   bidirectional_1[0][0]            \n",
      "                                                                   attention_weights[4][0]          \n",
      "                                                                   bidirectional_1[0][0]            \n",
      "                                                                   attention_weights[5][0]          \n",
      "                                                                   bidirectional_1[0][0]            \n",
      "                                                                   attention_weights[6][0]          \n",
      "                                                                   bidirectional_1[0][0]            \n",
      "                                                                   attention_weights[7][0]          \n",
      "                                                                   bidirectional_1[0][0]            \n",
      "                                                                   attention_weights[8][0]          \n",
      "                                                                   bidirectional_1[0][0]            \n",
      "                                                                   attention_weights[9][0]          \n",
      "                                                                   bidirectional_1[0][0]            \n",
      "____________________________________________________________________________________________________\n",
      "c0 (InputLayer)                  (None, 64)            0                                            \n",
      "____________________________________________________________________________________________________\n",
      "lstm_1 (LSTM)                    [(None, 64), (None, 6 33024       dot_1[0][0]                      \n",
      "                                                                   s0[0][0]                         \n",
      "                                                                   c0[0][0]                         \n",
      "                                                                   dot_1[1][0]                      \n",
      "                                                                   lstm_1[0][0]                     \n",
      "                                                                   lstm_1[0][2]                     \n",
      "                                                                   dot_1[2][0]                      \n",
      "                                                                   lstm_1[1][0]                     \n",
      "                                                                   lstm_1[1][2]                     \n",
      "                                                                   dot_1[3][0]                      \n",
      "                                                                   lstm_1[2][0]                     \n",
      "                                                                   lstm_1[2][2]                     \n",
      "                                                                   dot_1[4][0]                      \n",
      "                                                                   lstm_1[3][0]                     \n",
      "                                                                   lstm_1[3][2]                     \n",
      "                                                                   dot_1[5][0]                      \n",
      "                                                                   lstm_1[4][0]                     \n",
      "                                                                   lstm_1[4][2]                     \n",
      "                                                                   dot_1[6][0]                      \n",
      "                                                                   lstm_1[5][0]                     \n",
      "                                                                   lstm_1[5][2]                     \n",
      "                                                                   dot_1[7][0]                      \n",
      "                                                                   lstm_1[6][0]                     \n",
      "                                                                   lstm_1[6][2]                     \n",
      "                                                                   dot_1[8][0]                      \n",
      "                                                                   lstm_1[7][0]                     \n",
      "                                                                   lstm_1[7][2]                     \n",
      "                                                                   dot_1[9][0]                      \n",
      "                                                                   lstm_1[8][0]                     \n",
      "                                                                   lstm_1[8][2]                     \n",
      "____________________________________________________________________________________________________\n",
      "dense_3 (Dense)                  (None, 11)            715         lstm_1[0][0]                     \n",
      "                                                                   lstm_1[1][0]                     \n",
      "                                                                   lstm_1[2][0]                     \n",
      "                                                                   lstm_1[3][0]                     \n",
      "                                                                   lstm_1[4][0]                     \n",
      "                                                                   lstm_1[5][0]                     \n",
      "                                                                   lstm_1[6][0]                     \n",
      "                                                                   lstm_1[7][0]                     \n",
      "                                                                   lstm_1[8][0]                     \n",
      "                                                                   lstm_1[9][0]                     \n",
      "====================================================================================================\n",
      "Total params: 52,960\n",
      "Trainable params: 52,960\n",
      "Non-trainable params: 0\n",
      "____________________________________________________________________________________________________\n"
     ]
    }
   ],
   "source": [
    "model.summary()"
   ]
  },
  {
   "cell_type": "markdown",
   "metadata": {},
   "source": [
    "Navigate through the output of `model.summary()` above. You can see that the layer named `attention_weights` outputs the `alphas` of shape (m, 30, 1) before `dot_2` computes the context vector for every time step $t = 0, \\ldots, T_y-1$. Lets get the activations from this layer.\n",
    "\n",
    "The function `attention_map()` pulls out the attention values from your model and plots them."
   ]
  },
  {
   "cell_type": "code",
   "execution_count": 20,
   "metadata": {
    "scrolled": false
   },
   "outputs": [
    {
     "data": {
      "text/plain": [
       "<matplotlib.figure.Figure at 0x24b43710>"
      ]
     },
     "metadata": {},
     "output_type": "display_data"
    },
    {
     "data": {
      "image/png": "[encoded data removed]",
      "text/plain": [
       "<matplotlib.figure.Figure at 0x328ba828>"
      ]
     },
     "metadata": {},
     "output_type": "display_data"
    }
   ],
   "source": [
    "attention_map = plot_attention_map(model, human_vocab, inv_machine_vocab, \"Tuesday 09 Oct 1993\", num = 7, n_s = 64)"
   ]
  },
  {
   "cell_type": "markdown",
   "metadata": {},
   "source": [
    "On the generated plot you can observe the values of the attention weights for each character of the predicted output. Examine this plot and check that where the network is paying attention makes sense to you.\n",
    "\n",
    "In the date translation application, you will observe that most of the time attention helps predict the year, and hasn't much impact on predicting the day/month."
   ]
  },
  {
   "cell_type": "markdown",
   "metadata": {},
   "source": [
    "### Congratulations!\n",
    "\n",
    "\n",
    "You have come to the end of this assignment \n",
    "\n",
    "<font color='blue'> **Here's what you should remember from this notebook**:\n",
    "\n",
    "- Machine translation models can be used to map from one sequence to another. They are useful not just for translating human languages (like French->English) but also for tasks like date format translation. \n",
    "- An attention mechanism allows a network to focus on the most relevant parts of the input when producing a specific part of the output. \n",
    "- A network using an attention mechanism can translate from inputs of length $T_x$ to outputs of length $T_y$, where $T_x$ and $T_y$ can be different. \n",
    "- You can visualize attention weights $\\alpha^{\\langle t,t' \\rangle}$ to see what the network is paying attention to while generating each output."
   ]
  },
  {
   "cell_type": "markdown",
   "metadata": {},
   "source": [
    "Congratulations on finishing this assignment! You are now able to implement an attention model and use it to learn complex mappings from one sequence to another. "
   ]
  }
 ],
 "metadata": {
  "coursera": {
   "course_slug": "nlp-sequence-models",
   "graded_item_id": "n16CQ",
   "launcher_item_id": "npjGi"
  },
  "kernelspec": {
   "display_name": "Python 3",
   "language": "python",
   "name": "python3"
  },
  "language_info": {
   "codemirror_mode": {
    "name": "ipython",
    "version": 3
   },
   "file_extension": ".py",
   "mimetype": "text/x-python",
   "name": "python",
   "nbconvert_exporter": "python",
   "pygments_lexer": "ipython3",
   "version": "3.6.2"
  }
 },
 "nbformat": 4,
 "nbformat_minor": 2
}
