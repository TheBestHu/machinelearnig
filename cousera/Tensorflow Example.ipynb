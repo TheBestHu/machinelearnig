{
 "cells": [
  {
   "cell_type": "code",
   "execution_count": 57,
   "metadata": {},
   "outputs": [],
   "source": [
    "import numpy as np\n",
    "import tensorflow as tf"
   ]
  },
  {
   "cell_type": "code",
   "execution_count": 64,
   "metadata": {},
   "outputs": [
    {
     "name": "stdout",
     "output_type": "stream",
     "text": [
      "0.0\n",
      "0.19999999\n",
      "9.999977\n"
     ]
    }
   ],
   "source": [
    "coefficients = np.array([[1.],[-20],[25]])\n",
    "\n",
    "w = tf.Variable(0,dtype = tf.float32)  \n",
    "x = tf.placeholder(tf.float32,[3,1]) # hold the parameter for cost function. tf.placeholder create a 3*1 matrix which can be assigned in future.\n",
    "#cost = tf.add(tf.add(w**2,tf.multiply(-10.,w)),25) ### int with dot can transform integer to float32. Such as (10.) . \n",
    "\n",
    "cost = w**2 - 10*w + 25\n",
    "cost = x[0][0]*w**2 + x[1][0]*w + x[2][0]\n",
    "train = tf.train.GradientDescentOptimizer(0.01).minimize(cost)\n",
    "\n",
    "init = tf.global_variables_initializer()\n",
    "#session = tf.Session()\n",
    "#session.run(init)\n",
    "#print(session.run(w))\n",
    "with tf.Session() as session:\n",
    "    session.run(init)\n",
    "    print(session.run(w))\n",
    "    session.run(train, feed_dict = {x:coefficients})\n",
    "    print(session.run(w))\n",
    "    for i in range(1000):\n",
    "        session.run(train, feed_dict = {x:coefficients})\n",
    "    print(session.run(w))"
   ]
  },
  {
   "cell_type": "code",
   "execution_count": null,
   "metadata": {},
   "outputs": [],
   "source": []
  }
 ],
 "metadata": {
  "kernelspec": {
   "display_name": "Python 3",
   "language": "python",
   "name": "python3"
  },
  "language_info": {
   "codemirror_mode": {
    "name": "ipython",
    "version": 3
   },
   "file_extension": ".py",
   "mimetype": "text/x-python",
   "name": "python",
   "nbconvert_exporter": "python",
   "pygments_lexer": "ipython3",
   "version": "3.6.4"
  }
 },
 "nbformat": 4,
 "nbformat_minor": 2
}
