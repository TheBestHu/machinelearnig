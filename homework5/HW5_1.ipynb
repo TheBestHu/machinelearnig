{
 "cells": [
  {
   "cell_type": "code",
   "execution_count": 171,
   "metadata": {
    "collapsed": true
   },
   "outputs": [],
   "source": [
    "import numpy as np\n",
    "from numpy.linalg import inv\n",
    "from numpy.linalg import det\n",
    "import matplotlib \n",
    "import matplotlib.pyplot as plt\n",
    "import math\n",
    "from math import pi\n",
    "import time\n",
    "%matplotlib inline"
   ]
  },
  {
   "cell_type": "code",
   "execution_count": 172,
   "metadata": {
    "collapsed": true
   },
   "outputs": [],
   "source": [
    "#init variable\n",
    "data = np.zeros([200,8])\n",
    "train = np.zeros([140,8])\n",
    "test = np.zeros([60,8])"
   ]
  },
  {
   "cell_type": "code",
   "execution_count": 173,
   "metadata": {
    "collapsed": true
   },
   "outputs": [],
   "source": [
    "#read file and split data as training and testing\n",
    "def read(filepath):\n",
    "    file = open(filepath)\n",
    "    line = file.readline()\n",
    "    n = 0\n",
    "    while(line):\n",
    "        line = file.readline()\n",
    "        row = line.split()\n",
    "        if(row!=[]):\n",
    "            if(n<=139):\n",
    "                for i in range(8):\n",
    "                    train[n,i]=row[i]\n",
    "                    data[n,i]=row[i]\n",
    "            if(n>139):\n",
    "                for i in range(8):\n",
    "                    test[n-140,i]=row[i]\n",
    "                    data[n,i]=row[i]\n",
    "            n=n+1\n",
    "    file.close()\n",
    "    return data,train,test\n",
    "#calculate mean\n",
    "def mean(number):\n",
    "    return sum(number)/len(number)\n",
    "#calculate standard deviation for each feature of each class\n",
    "def stdev(number):\n",
    "    st = mean(number)\n",
    "    sum = 0\n",
    "    for n in range(len(number)):\n",
    "        sum=sum + (number[n]-st)**2\n",
    "    return math.sqrt(sum/len(number))"
   ]
  },
  {
   "cell_type": "code",
   "execution_count": 174,
   "metadata": {},
   "outputs": [
    {
     "name": "stdout",
     "output_type": "stream",
     "text": [
      "0.5142857142857142 0.4857142857142857\n"
     ]
    }
   ],
   "source": [
    "#seperate data to two different class for training\n",
    "read(\"HW5_dataset.txt\")\n",
    "n0 = 0  #number of class 0\n",
    "n1 = 0  #number of class 1\n",
    "for label in train[:,0]:\n",
    "    if label==0:\n",
    "        n0 = n0+1\n",
    "    if label==1:\n",
    "        n1 = n1+1\n",
    "s0 = np.zeros([n0,7])\n",
    "s1 = np.zeros([n1,7])\n",
    "s00 = 0\n",
    "s11 = 0\n",
    "for i in range(140):\n",
    "    if(train[i,0]==0):\n",
    "        s0[s00,:]=train[i,1:8]\n",
    "        s00=s00+1\n",
    "    if(train[i,0]==1):\n",
    "        s1[s11,:]=train[i,1:8]\n",
    "        s11=s11+1\n",
    "#training data species0 s0, species1 s1\n",
    "\n",
    "#possiblity of each class in sample\n",
    "s0poss = s00/(s00+s11)\n",
    "s1poss = s11/(s00+s11)\n",
    "print(s0poss,s1poss)\n",
    "\n",
    "#calculate mu0 and mu1\n",
    "mu0=np.zeros([7,1])\n",
    "mu1=np.zeros([7,1])\n",
    "for n in range(7):\n",
    "    mu0[n,0]=mean(s0[:,n])\n",
    "    mu1[n,0]=mean(s1[:,n])"
   ]
  },
  {
   "cell_type": "code",
   "execution_count": 175,
   "metadata": {
    "collapsed": true
   },
   "outputs": [],
   "source": [
    "#calculate sigma for class 0 and 1\n",
    "#@parameter: sigma0, sigma1\n",
    "sigma0 = np.zeros([7,7])\n",
    "sigma1 = np.zeros([7,7])\n",
    "for num in range(len(s0)):\n",
    "    sigma0 = sigma0 + (s0[num:num+1,:].T-mu0)@(s0[num:num+1,:].T-mu0).T\n",
    "for num in range(len(s1)):\n",
    "    sigma1 = sigma1 + (s1[num:num+1,:].T-mu1)@(s1[num:num+1,:].T-mu1).T\n",
    "sigma0=sigma0/len(s0)\n",
    "sigma1=sigma1/len(s1)"
   ]
  },
  {
   "cell_type": "code",
   "execution_count": 176,
   "metadata": {
    "collapsed": true
   },
   "outputs": [],
   "source": [
    "def determine_class(x):\n",
    "    x.shape=(7,1)\n",
    "    poss0=0\n",
    "    poss1=0\n",
    "    g0 = -1/2*(x-mu0).T@inv(sigma0)@(x-mu0)-1/2*math.log(det(-sigma0))-7/2*math.log(2*pi)+math.log(s0poss)\n",
    "    g1 = -1/2*(x-mu1).T@inv(sigma1)@(x-mu1)-1/2*math.log(det(sigma1))-7/2*math.log(2*pi)+math.log(s1poss)\n",
    "    if g0>g1:\n",
    "        return 0\n",
    "    else:\n",
    "        return 1"
   ]
  },
  {
   "cell_type": "code",
   "execution_count": 177,
   "metadata": {},
   "outputs": [
    {
     "name": "stdout",
     "output_type": "stream",
     "text": [
      "Accuracy to predicte testing data: 0.9833333333333333\n"
     ]
    }
   ],
   "source": [
    "#test accuracy on testing data\n",
    "right=0\n",
    "for i in range(60):\n",
    "    label = test[i,0]\n",
    "    answer = determine_class(test[i,1:8])\n",
    "    if label==answer:\n",
    "        right=right+1\n",
    "print(\"Accuracy to predicte testing data:\",right/60)"
   ]
  },
  {
   "cell_type": "code",
   "execution_count": 178,
   "metadata": {
    "scrolled": true
   },
   "outputs": [
    {
     "name": "stdout",
     "output_type": "stream",
     "text": [
      "Time to classify the entire dataset 0.031054000000001025 s\n",
      "Number of correct prediction: 196 Accuracy: 0.98\n",
      "Line of wrong predicted data: [12, 48, 83, 158]\n"
     ]
    }
   ],
   "source": [
    "#time needed for the entire dataset\n",
    "start = time.clock()\n",
    "right = 0\n",
    "wrong_predict=[]\n",
    "setnum=[]\n",
    "for i in range(200):\n",
    "    label = data[i,0]\n",
    "    answer = determine_class(data[i,1:8])\n",
    "    if label==answer:\n",
    "        right=right+1\n",
    "    if label!=answer:\n",
    "        wrong_predict.append(data[i,0:8])\n",
    "        setnum.append(i)\n",
    "print(\"Time to classify the entire dataset\",time.clock()-start,\"s\")\n",
    "print(\"Number of correct prediction:\",right,\"Accuracy:\",right/200)\n",
    "#print(wrong_predict)\n",
    "print(\"Line of wrong predicted data:\",setnum)"
   ]
  },
  {
   "cell_type": "code",
   "execution_count": 179,
   "metadata": {},
   "outputs": [
    {
     "name": "stdout",
     "output_type": "stream",
     "text": [
      "100 100\n",
      "0.0\n",
      "0.0\n",
      "0.0\n",
      "0.0\n"
     ]
    }
   ],
   "source": [
    "#class confusion matrix\n",
    "class0=0\n",
    "class1=0\n",
    "for i in range(200):\n",
    "    if data[i,0]==0:\n",
    "        class0=class0+1\n",
    "    if data[i,0]==1:\n",
    "        class1=class1+1\n",
    "print(class0,class1)\n",
    "for i in setnum:\n",
    "    print(data[i,0])"
   ]
  }
 ],
 "metadata": {
  "kernelspec": {
   "display_name": "Python 3",
   "language": "python",
   "name": "python3"
  },
  "language_info": {
   "codemirror_mode": {
    "name": "ipython",
    "version": 3
   },
   "file_extension": ".py",
   "mimetype": "text/x-python",
   "name": "python",
   "nbconvert_exporter": "python",
   "pygments_lexer": "ipython3",
   "version": "3.5.4"
  }
 },
 "nbformat": 4,
 "nbformat_minor": 2
}
