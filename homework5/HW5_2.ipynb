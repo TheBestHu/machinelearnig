{
 "cells": [
  {
   "cell_type": "code",
   "execution_count": 405,
   "metadata": {
    "collapsed": true
   },
   "outputs": [],
   "source": [
    "import numpy as np\n",
    "from numpy.linalg import pinv\n",
    "from numpy.linalg import det\n",
    "import math\n",
    "from math import pi\n",
    "import time"
   ]
  },
  {
   "cell_type": "code",
   "execution_count": 406,
   "metadata": {
    "collapsed": true
   },
   "outputs": [],
   "source": [
    "#init variable\n",
    "data = np.zeros([200,8])\n",
    "train = np.zeros([140,8])\n",
    "test = np.zeros([60,8])"
   ]
  },
  {
   "cell_type": "code",
   "execution_count": 407,
   "metadata": {
    "collapsed": true
   },
   "outputs": [],
   "source": [
    "def read(filepath):\n",
    "    file = open(filepath)\n",
    "    line = file.readline()\n",
    "    n = 0\n",
    "    while(line):\n",
    "        line = file.readline()\n",
    "        row = line.split()\n",
    "        if(row!=[]):\n",
    "            if(n<=139):\n",
    "                for i in range(8):\n",
    "                    train[n,i]=row[i]\n",
    "                    data[n,i]=row[i]\n",
    "            if(n>139):\n",
    "                for i in range(8):\n",
    "                    test[n-140,i]=row[i]\n",
    "                    data[n,i]=row[i]\n",
    "            n=n+1\n",
    "    file.close()\n",
    "    return data,train,test\n",
    "#calculate mean\n",
    "def mean(number):\n",
    "    return sum(number)/len(number)\n",
    "#calculate standard deviation for each feature of each class\n",
    "def stdev(number):\n",
    "    st = mean(number)\n",
    "    sum = 0\n",
    "    for n in range(len(number)):\n",
    "        sum=sum + (number[n]-st)**2\n",
    "    return math.sqrt(sum/len(number))"
   ]
  },
  {
   "cell_type": "code",
   "execution_count": 408,
   "metadata": {},
   "outputs": [],
   "source": [
    "#seperate data to two different class for training\n",
    "read(\"HW5_dataset.txt\")\n",
    "n0 = 0  #number of class 0\n",
    "n1 = 0  #number of class 1\n",
    "for label in train[:,0]:\n",
    "    if label==0:\n",
    "        n0 = n0+1\n",
    "    if label==1:\n",
    "        n1 = n1+1\n",
    "s0 = np.zeros([n0,7])\n",
    "s1 = np.zeros([n1,7])\n",
    "s00 = 0\n",
    "s11 = 0\n",
    "for i in range(140):\n",
    "    if(train[i,0]==0):\n",
    "        s0[s00,:]=train[i,1:8]\n",
    "        s00=s00+1\n",
    "    if(train[i,0]==1):\n",
    "        s1[s11,:]=train[i,1:8]\n",
    "        s11=s11+1\n",
    "#training data species0 s0, species1 s1\n",
    "\n",
    "#possiblity of each class in sample\n",
    "s0poss = s00/(s00+s11)\n",
    "s1poss = s11/(s00+s11)\n",
    "#calculate mu0 and mu1\n",
    "mu0=np.zeros([7,1])\n",
    "mu1=np.zeros([7,1])\n",
    "for n in range(7):\n",
    "    mu0[n,0]=mean(s0[:,n])\n",
    "    mu1[n,0]=mean(s1[:,n])\n",
    "#calculate sigma for class 0 and 1\n",
    "#@parameter: sigma0, sigma1\n",
    "sigma0 = np.zeros([7,7])\n",
    "sigma1 = np.zeros([7,7])\n",
    "for num in range(len(s0)):\n",
    "    sigma0 = sigma0 + (s0[num:num+1,:].T-mu0)@(s0[num:num+1,:].T-mu0).T\n",
    "for num in range(len(s1)):\n",
    "    sigma1 = sigma1 + (s1[num:num+1,:].T-mu1)@(s1[num:num+1,:].T-mu1).T\n",
    "sigma0=sigma0/len(s0)\n",
    "sigma1=sigma1/len(s1)"
   ]
  },
  {
   "cell_type": "code",
   "execution_count": 409,
   "metadata": {},
   "outputs": [],
   "source": [
    "#determine class \n",
    "#@structure  determine((7,1),T)\n",
    "def determine(x):\n",
    "    #x.reshape(7,1)\n",
    "    left = 4*((pinv(sigma0+sigma1)@(mu1-mu0)).T@x)\n",
    "    right = mu0.T@pinv(sigma0)@mu0-mu1.T@pinv(sigma1)@mu1\n",
    "    if left-right<-9:\n",
    "        return 0\n",
    "    else:\n",
    "        return 1"
   ]
  },
  {
   "cell_type": "code",
   "execution_count": 410,
   "metadata": {},
   "outputs": [
    {
     "name": "stdout",
     "output_type": "stream",
     "text": [
      "1.0\n"
     ]
    }
   ],
   "source": [
    "#accuracy of test data\n",
    "correct = 0\n",
    "for i in range(60):\n",
    "    x = determine(test[i,1:8])\n",
    "    if x == test[i,0]:\n",
    "        correct = correct+1\n",
    "    if x != test[i,0]:\n",
    "        print(i+141,test[i])\n",
    "print(correct/60)"
   ]
  },
  {
   "cell_type": "code",
   "execution_count": 411,
   "metadata": {},
   "outputs": [
    {
     "name": "stdout",
     "output_type": "stream",
     "text": [
      "1.0\n"
     ]
    }
   ],
   "source": [
    "#accuracy of training data\n",
    "correct = 0\n",
    "for i in range(140):\n",
    "    x = determine(train[i,1:8])\n",
    "    if x == train[i,0]:\n",
    "        correct = correct + 1\n",
    "    if x != train[i,0]:\n",
    "        print(i,train[i,:])\n",
    "print(correct/140)"
   ]
  },
  {
   "cell_type": "code",
   "execution_count": 412,
   "metadata": {},
   "outputs": [
    {
     "name": "stdout",
     "output_type": "stream",
     "text": [
      "run time:  0.042671999999996046 s\n",
      "accuracy: 1.0\n"
     ]
    }
   ],
   "source": [
    "#accuracy of entire data\n",
    "correct = 0\n",
    "wrong = 0\n",
    "start=time.clock()\n",
    "for i in range(200):\n",
    "    x = determine(data[i,1:8])\n",
    "    if x == data[i,0]:\n",
    "        correct=correct+1\n",
    "    if x!=data[i,0]:\n",
    "        print(i,data[i,:])\n",
    "print(\"run time: \",time.clock()-start,\"s\")\n",
    "print(\"accuracy:\",correct/200)"
   ]
  },
  {
   "cell_type": "code",
   "execution_count": 413,
   "metadata": {},
   "outputs": [
    {
     "name": "stdout",
     "output_type": "stream",
     "text": [
      "0.03789636499999951\n"
     ]
    }
   ],
   "source": [
    "#time of entire data\n",
    "time_mean=[]\n",
    "for i in range(200):\n",
    "    start = time.clock()\n",
    "    for i in range(200):\n",
    "        determine(data[i,1:8])\n",
    "    time_mean.append(time.clock()-start)\n",
    "print(mean(time_mean))"
   ]
  },
  {
   "cell_type": "code",
   "execution_count": 434,
   "metadata": {},
   "outputs": [
    {
     "name": "stdout",
     "output_type": "stream",
     "text": [
      "0.0010512449999998807\n"
     ]
    }
   ],
   "source": [
    "time_mean=[]\n",
    "for n in range(200):\n",
    "    start=time.clock()\n",
    "    left = 4*((pinv(sigma0+sigma1)@(mu1-mu0)).T@data[:,1:8].T)\n",
    "    right = mu0.T@pinv(sigma0)@mu0-mu1.T@pinv(sigma1)@mu1\n",
    "    for i in range(200):\n",
    "        if left[0,i]-right>-9:\n",
    "            x = 1\n",
    "        else:\n",
    "            x = 0\n",
    "    time_mean.append(time.clock()-start)\n",
    "print(mean(time_mean))"
   ]
  },
  {
   "cell_type": "code",
   "execution_count": null,
   "metadata": {
    "collapsed": true
   },
   "outputs": [],
   "source": []
  },
  {
   "cell_type": "code",
   "execution_count": null,
   "metadata": {
    "collapsed": true
   },
   "outputs": [],
   "source": []
  }
 ],
 "metadata": {
  "kernelspec": {
   "display_name": "Python 3",
   "language": "python",
   "name": "python3"
  },
  "language_info": {
   "codemirror_mode": {
    "name": "ipython",
    "version": 3
   },
   "file_extension": ".py",
   "mimetype": "text/x-python",
   "name": "python",
   "nbconvert_exporter": "python",
   "pygments_lexer": "ipython3",
   "version": "3.6.1"
  }
 },
 "nbformat": 4,
 "nbformat_minor": 2
}
