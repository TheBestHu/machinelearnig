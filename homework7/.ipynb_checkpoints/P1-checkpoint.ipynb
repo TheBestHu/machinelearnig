{
 "cells": [
  {
   "cell_type": "code",
   "execution_count": 578,
   "metadata": {
    "collapsed": true
   },
   "outputs": [],
   "source": [
    "#load necessary library\n",
    "import numpy as np\n",
    "import matplotlib\n",
    "from matplotlib import pyplot as plt\n",
    "from numpy import linalg\n",
    "%matplotlib inline"
   ]
  },
  {
   "cell_type": "code",
   "execution_count": 579,
   "metadata": {
    "collapsed": true
   },
   "outputs": [],
   "source": [
    "#generate data \n",
    "with open('RedWine_HW7.txt','r') as f:\n",
    "    features = []\n",
    "    lines=f.readline()\n",
    "    featues = lines.split(';')\n",
    "    for i in range(13):\n",
    "        features.append(featues[i]) \n",
    "r_data = np.genfromtxt('RedWine_HW7.txt',skip_header=1)\n",
    "w_data = np.genfromtxt('WhiteWine_HW7.txt',skip_header=1)"
   ]
  },
  {
   "cell_type": "code",
   "execution_count": 580,
   "metadata": {},
   "outputs": [
    {
     "data": {
      "text/plain": [
       "<function matplotlib.pyplot.imshow>"
      ]
     },
     "execution_count": 580,
     "metadata": {},
     "output_type": "execute_result"
    },
    {
     "data": {
      "image/png": "[encoded data removed]",
      "text/plain": [
       "<matplotlib.figure.Figure at 0x11d80b0f0>"
      ]
     },
     "metadata": {},
     "output_type": "display_data"
    }
   ],
   "source": [
    "plt.figure\n",
    "x1 = range(0,4898,1)\n",
    "x2 = range(4898,4898+1599,1)\n",
    "plt.scatter(x2,r_data[:,0],color='orange')\n",
    "plt.scatter(x1,w_data[:,0],color='blue')\n",
    "plt.imshow"
   ]
  },
  {
   "cell_type": "code",
   "execution_count": 581,
   "metadata": {},
   "outputs": [],
   "source": [
    "# the first and second row storage the within group variance of each feature \n",
    "# the third row storage the between group variance of each feature\n",
    "operator = np.zeros([3,13])\n",
    "rdata = r_data\n",
    "wdata = w_data\n",
    "for i in range(13):\n",
    "    # caculate the within group variance  c1=red wine   c2 = white wine\n",
    "    c1 = np.cov(rdata[:,i])\n",
    "    c2 = np.cov(wdata[:,i])\n",
    "    #place the within variance into matrix\n",
    "    operator[0,i] = c1\n",
    "    operator[1,i] = c2\n",
    "    #compute between variance of each feature of wine\n",
    "    mu0 = (sum(rdata[:,i])+sum(wdata[:,i]))/(4898+1599)\n",
    "    #print('mu0',mu0)\n",
    "    s1 = 1599/(1599+4898)*(np.mean(rdata[:,i])-mu0)*(np.mean(rdata[:,i])-mu0)\n",
    "    #print(np.mean(rdata[:,i]))\n",
    "    s2 = 4898/(1599+4898)*(np.mean(wdata[:,i])-mu0)*(np.mean(wdata[:,i])-mu0)\n",
    "    #print((np.mean(wdata[:,i])-mu0)*(np.mean(wdata[:,i])-mu0))\n",
    "    Sb = s1 + s2\n",
    "    #print(Sb)\n",
    "    #storage s1 and s2 into operator\n",
    "    operator[2,i] = Sb"
   ]
  },
  {
   "cell_type": "code",
   "execution_count": 582,
   "metadata": {},
   "outputs": [],
   "source": [
    "#use FFS to select the best features\n",
    "def FFS(covariance_matrix):\n",
    "    dl = covariance_matrix\n",
    "    best_list=[]\n",
    "    dlist = [0,1,2,3,4,5,6,7,8,9,10,11,12]\n",
    "    cv = dl\n",
    "    trace_ratio=[]\n",
    "    ratio=[]\n",
    "    for n in range(13):\n",
    "        NumFeatures = n+1\n",
    "        ratio.clear()\n",
    "        for m in range(13-n):\n",
    "            mum = sum(sum(cv[0,[best_list+[dlist[m]]]])+sum(cv[1,[best_list+[dlist[m]]]]))\n",
    "            child = sum(sum(cv[2,[best_list+[dlist[m]]]]))\n",
    "            ratio.append(child/mum)\n",
    "        #print(ratio,n)\n",
    "        BestValue = max(ratio)\n",
    "        Position = ratio.index(BestValue)\n",
    "        best_list.append(dlist[Position])\n",
    "        np.delete(cv,dlist[Position],1)\n",
    "        del dlist[Position]\n",
    "        trace_ratio.append(BestValue)\n",
    "    return trace_ratio,best_list\n",
    "\n",
    "\n",
    "def BFS(covariance_matrix):\n",
    "    dl = covariance_matrix\n",
    "    cv = dl\n",
    "    data_list = [0,1,2,3,4,5,6,7,8,9,10,11,12]\n",
    "    test_list = [0,1,2,3,4,5,6,7,8,9,10,11,12]\n",
    "    remove_list = []\n",
    "    delta_ratio = []\n",
    "    trace_ratio = []\n",
    "    previous_ratio = sum(dl[2,:])/(sum(dl[0,:])+sum(dl[1,:]))\n",
    "    for n in range(13):\n",
    "        delta_ratio.clear()\n",
    "        for i in range(13-n):\n",
    "            if len(test_list)==1:\n",
    "                return remove_list\n",
    "            else:\n",
    "                test_list = list(data_list)\n",
    "                del test_list[i]\n",
    "                #print(test_list)\n",
    "                mum = sum(sum(cv[0,[test_list]])+sum(cv[1,[test_list]]))\n",
    "                child = sum(cv[2,[test_list]].T)\n",
    "                trace_ratio.append(child/mum)\n",
    "                delta_ratio.append((child/mum)-previous_ratio)\n",
    "            #print(child/mum)\n",
    "        RemoveValue = min(delta_ratio)\n",
    "        position = delta_ratio.index(RemoveValue)\n",
    "        del data_list[position]\n",
    "        previous_ratio = trace_ratio[position]\n",
    "        remove_list.append(data_list[position])\n",
    "    return remove_list"
   ]
  },
  {
   "cell_type": "code",
   "execution_count": 583,
   "metadata": {
    "collapsed": true
   },
   "outputs": [],
   "source": [
    "def fisher(A, B):\n",
    "    group = np.zeros([13,3])\n",
    "    for i in range(13):\n",
    "        sum1 = 0\n",
    "        Sw1 = np.cov(A[:,i])\n",
    "        Sw2 = np.cov(B[:,i])\n",
    "        group[i,0] = Sw1\n",
    "        group[i,1] = Sw2\n",
    "        mu = np.mean(np.hstack((A[:,i],B[:,i])))\n",
    "        l = [len(A[:,i]),len(B[:,i])]\n",
    "        for n in range(len(A[:,i])):\n",
    "            sum1 = sum1 + A[n,i]\n",
    "        mu1 = sum1/len(A[:,i])\n",
    "        sb1 = len(A[:,i])/(1599+4898)*((mu1-mu)**2)\n",
    "        sum2 = 0\n",
    "        for n in range(len(B[:,i])):\n",
    "            sum2 = sum2 + B[n,i]\n",
    "        mu2 = sum2/len(B[:,i])\n",
    "        sb2 = len(B[:,i])/(1599+4898)*((mu2-mu)**2)\n",
    "        #print((mu2-mu)**2)\n",
    "        Sb = sb1 + sb2\n",
    "        #print(Sb)\n",
    "        group[i,2] = Sb\n",
    "    return group"
   ]
  },
  {
   "cell_type": "code",
   "execution_count": 584,
   "metadata": {
    "scrolled": true
   },
   "outputs": [
    {
     "data": {
      "text/plain": [
       "<matplotlib.collections.PathCollection at 0x11e4c0c50>"
      ]
     },
     "execution_count": 584,
     "metadata": {},
     "output_type": "execute_result"
    },
    {
     "data": {
      "image/png": "[encoded data removed]",
      "text/plain": [
       "<matplotlib.figure.Figure at 0x11de0b5f8>"
      ]
     },
     "metadata": {},
     "output_type": "display_data"
    }
   ],
   "source": [
    "trace,best_list = FFS(operator)\n",
    "plt.plot(trace)\n",
    "plt.scatter(trace.index(max(trace)),max(trace))"
   ]
  },
  {
   "cell_type": "code",
   "execution_count": 585,
   "metadata": {},
   "outputs": [
    {
     "name": "stdout",
     "output_type": "stream",
     "text": [
      "[7, 7, 4, 1, 2, 12, 10, 10, 4, 7, 12]\n"
     ]
    }
   ],
   "source": [
    "remove_list = BFS(operator)\n",
    "print(remove_list)"
   ]
  },
  {
   "cell_type": "code",
   "execution_count": 586,
   "metadata": {
    "collapsed": true
   },
   "outputs": [],
   "source": [
    "lists=[1,2,3,4,5,6]\n",
    "lists.clear()"
   ]
  },
  {
   "cell_type": "code",
   "execution_count": 587,
   "metadata": {},
   "outputs": [
    {
     "name": "stdout",
     "output_type": "stream",
     "text": [
      "[[  3.03141639e+00   7.12113586e-01   3.98132460e-01]\n",
      " [  3.20623777e-02   1.01595410e-02   1.15573686e-02]\n",
      " [  3.79474831e-02   1.46457930e-02   7.41470915e-04]\n",
      " [  1.98789713e+00   2.57257702e+01   2.75392090e+00]\n",
      " [  2.21514265e-03   4.77333710e-04   3.22546624e-04]\n",
      " [  1.09414884e+02   2.89242720e+02   7.00694168e+01]\n",
      " [  1.08210237e+03   1.80608549e+03   1.56676945e+03]\n",
      " [  3.56202945e-06   8.94552419e-06   1.37200792e-06]\n",
      " [  2.38351805e-02   2.28011811e-02   2.80006095e-03]\n",
      " [  2.87326161e-02   1.30247060e-02   5.25557083e-03]\n",
      " [  1.13564740e+00   1.51442698e+00   1.54607373e-03]\n",
      " [  6.52168400e-01   7.84355685e-01   1.08559037e-02]\n",
      " [  8.41944025e-02   8.41344549e-02   7.74763572e-05]]\n",
      "[[  3.03141639e+00   3.20623777e-02   3.79474831e-02   1.98789713e+00\n",
      "    2.21514265e-03   1.09414884e+02   1.08210237e+03   3.56202945e-06\n",
      "    2.38351805e-02   2.87326161e-02   1.13564740e+00   6.52168400e-01\n",
      "    8.41944025e-02]\n",
      " [  7.12113586e-01   1.01595410e-02   1.46457930e-02   2.57257702e+01\n",
      "    4.77333710e-04   2.89242720e+02   1.80608549e+03   8.94552419e-06\n",
      "    2.28011811e-02   1.30247060e-02   1.51442698e+00   7.84355685e-01\n",
      "    8.41344549e-02]\n",
      " [  3.98132460e-01   1.15573686e-02   7.41470915e-04   2.75392090e+00\n",
      "    3.22546624e-04   7.00694168e+01   1.56676945e+03   1.37200792e-06\n",
      "    2.80006095e-03   5.25557083e-03   1.54607373e-03   1.08559037e-02\n",
      "    7.74763572e-05]]\n"
     ]
    }
   ],
   "source": [
    "group = fisher(rdata,wdata)\n",
    "print(group)\n",
    "print(operator)"
   ]
  },
  {
   "cell_type": "code",
   "execution_count": 588,
   "metadata": {},
   "outputs": [
    {
     "name": "stdout",
     "output_type": "stream",
     "text": [
      "[0, 2, 3, 4, 5]\n"
     ]
    }
   ],
   "source": [
    "data = [1,2,3,4,5,6,7,8,9]\n",
    "remove = [0,2,3,4,5]\n",
    "data = remove\n",
    "print(data)"
   ]
  },
  {
   "cell_type": "code",
   "execution_count": 589,
   "metadata": {},
   "outputs": [
    {
     "name": "stdout",
     "output_type": "stream",
     "text": [
      "1\n",
      "2\n",
      "3\n",
      "4\n",
      "5\n",
      "6\n",
      "7\n",
      "8\n",
      "9\n",
      "10\n",
      "11\n",
      "12\n"
     ]
    }
   ],
   "source": [
    "for x in range(1,13):\n",
    "    print(x)"
   ]
  },
  {
   "cell_type": "code",
   "execution_count": null,
   "metadata": {
    "collapsed": true
   },
   "outputs": [],
   "source": []
  }
 ],
 "metadata": {
  "kernelspec": {
   "display_name": "Python 3",
   "language": "python",
   "name": "python3"
  },
  "language_info": {
   "codemirror_mode": {
    "name": "ipython",
    "version": 3
   },
   "file_extension": ".py",
   "mimetype": "text/x-python",
   "name": "python",
   "nbconvert_exporter": "python",
   "pygments_lexer": "ipython3",
   "version": "3.6.1"
  }
 },
 "nbformat": 4,
 "nbformat_minor": 2
}
