{
 "cells": [
  {
   "cell_type": "code",
   "execution_count": 284,
   "metadata": {
    "collapsed": true
   },
   "outputs": [],
   "source": [
    "#import needed packege\n",
    "import numpy as np\n",
    "import math\n",
    "import matplotlib\n",
    "from matplotlib import pyplot as plt\n",
    "import math\n",
    "%matplotlib inline\n"
   ]
  },
  {
   "cell_type": "code",
   "execution_count": 285,
   "metadata": {},
   "outputs": [
    {
     "name": "stdout",
     "output_type": "stream",
     "text": [
      "1000 5\n"
     ]
    }
   ],
   "source": [
    "#load data\n",
    "data = np.loadtxt('GMDataSet_HW7.txt')\n",
    "n,d = data.shape\n",
    "print(n,d)"
   ]
  },
  {
   "cell_type": "code",
   "execution_count": 286,
   "metadata": {},
   "outputs": [],
   "source": [
    "def gaussian_prob(x,mu,sigma):\n",
    "    n,d = x.shape\n",
    "    a = 1/((2*np.pi**(d/2))*(np.linalg.det(sigma)**0.5))\n",
    "    exp = np.exp(-0.5*(x-mu)@sigma@(x-mu).T)\n",
    "    return a*exp\n",
    "    \n",
    "def EM(k,load_data,iteration,threshold):\n",
    "    #k is the number of components\n",
    "    #n is number of data points, dimension is the number of dimensions of data\n",
    "    num,dimension = load_data.shape\n",
    "    data = load_data\n",
    "    # create covariance matrix of gaussian\n",
    "    sigma = np.eye(dimension)*0.5\n",
    "    sigma = [sigma]*k\n",
    "    sigma_update = sigma   \n",
    "    #print(sigma)\n",
    "    # create pi k 1*number of clusters\n",
    "    pi = np.zeros([1,k])\n",
    "    pi = pi + 1/k\n",
    "    pi_update = pi \n",
    "    #print(pi,pi_update)\n",
    "    # initial mu shoose 'number' of random data from data set\n",
    "    mu = np.zeros([dimension,k])\n",
    "    for i in range(k):\n",
    "        for d in range(dimension):\n",
    "            choice = np.random.randint(0,4)\n",
    "            mu[d,i] = np.random.choice(data[:,choice])\n",
    "    mu_update = mu\n",
    "    #print(mu)\n",
    "    # start iteration computation\n",
    "    step = 0 \n",
    "    different = 1\n",
    "    c = np.zeros([num,k])\n",
    "    p = np.zeros([num,k])\n",
    "    while(different>threshold and step<iteration):\n",
    "        # E step\n",
    "        mu = mu_update.copy()\n",
    "        #print(mu)\n",
    "        sigma = sigma_update.copy()\n",
    "        #print(sigma)\n",
    "        pi = pi_update.copy()\n",
    "        #print(pi)\n",
    "        for j in range(k):\n",
    "            temp = gaussian_prob(data,mu[:,j],sigma[j])\n",
    "            for i in range(num):\n",
    "                p[i,j] = temp[i,i]*pi[0,j]\n",
    "        #print(temp)\n",
    "        #compute c\n",
    "        for j in range(k):\n",
    "            for i in range(num):\n",
    "                c[i,j]=p[i,j]/sum(p[i,:])\n",
    "        #print(sum(c))\n",
    "        #M step compute new parameters\n",
    "        # update mu\n",
    "        #print(mu)\n",
    "        for j in range (k):\n",
    "            for d in range(dimension):\n",
    "                mu_update[d,j] = c[:,j]@data[:,d] \n",
    "                #print(mu_update[d,j])\n",
    "        #print(mu_update)\n",
    "        # update sigma\n",
    "        for j in range(k):\n",
    "            for d in range(dimension):\n",
    "                distance = (data[:,d]-mu_update[d,j]).T@(data[:,d]-mu_update[d,j])\n",
    "                total = sum(c[:,j]*distance)\n",
    "                sigma_update[j][d,d] = total/sum(c[:,j])\n",
    "                #sigma_update[j][d,d] = sum(c[:,j]*(data[:,d]-mu_update[d,j]).T@(data[:,d]-mu_update[d,j]))/sum(c[:,j])\n",
    "        #print(total)\n",
    "        #update pi\n",
    "        for j in range(k):\n",
    "            pi_update[0,j] = sum(c[:,j])/num\n",
    "        \n",
    "        diff_mu = mu_update - mu\n",
    "        #print('diff_mu',diff_mu)\n",
    "        diff_pi = pi_update - pi\n",
    "        #print('diff_pi',diff_pi)\n",
    "        diff_sigma = sum(sigma_update) - sum(sigma)\n",
    "        print('diff_sigma:',diff_sigma)\n",
    "        different = sum(abs(diff_mu))+sum(abs(diff_pi))+sum(sum(abs(diff_sigma)))\n",
    "        print(different)\n",
    "        step = step+1"
   ]
  },
  {
   "cell_type": "code",
   "execution_count": 287,
   "metadata": {},
   "outputs": [
    {
     "name": "stdout",
     "output_type": "stream",
     "text": [
      "diff_sigma: [[ 0.  0.  0.  0.  0.]\n",
      " [ 0.  0.  0.  0.  0.]\n",
      " [ 0.  0.  0.  0.  0.]\n",
      " [ 0.  0.  0.  0.  0.]\n",
      " [ 0.  0.  0.  0.  0.]]\n",
      "[  1.22538029e+01   1.51959958e+03   1.29073933e+04   2.80730147e+01\n",
      "   1.53308957e+01]\n"
     ]
    },
    {
     "ename": "ValueError",
     "evalue": "The truth value of an array with more than one element is ambiguous. Use a.any() or a.all()",
     "output_type": "error",
     "traceback": [
      "\u001b[0;31m---------------------------------------------------------------------------\u001b[0m",
      "\u001b[0;31mValueError\u001b[0m                                Traceback (most recent call last)",
      "\u001b[0;32m<ipython-input-287-549d74e7baf9>\u001b[0m in \u001b[0;36m<module>\u001b[0;34m()\u001b[0m\n\u001b[0;32m----> 1\u001b[0;31m \u001b[0mEM\u001b[0m\u001b[0;34m(\u001b[0m\u001b[0;36m5\u001b[0m\u001b[0;34m,\u001b[0m\u001b[0mdata\u001b[0m\u001b[0;34m,\u001b[0m\u001b[0;36m1000\u001b[0m\u001b[0;34m,\u001b[0m\u001b[0;36m0.0001\u001b[0m\u001b[0;34m)\u001b[0m\u001b[0;34m\u001b[0m\u001b[0m\n\u001b[0m",
      "\u001b[0;32m<ipython-input-286-b6e6ef133b90>\u001b[0m in \u001b[0;36mEM\u001b[0;34m(k, load_data, iteration, threshold)\u001b[0m\n\u001b[1;32m     33\u001b[0m     \u001b[0mc\u001b[0m \u001b[0;34m=\u001b[0m \u001b[0mnp\u001b[0m\u001b[0;34m.\u001b[0m\u001b[0mzeros\u001b[0m\u001b[0;34m(\u001b[0m\u001b[0;34m[\u001b[0m\u001b[0mnum\u001b[0m\u001b[0;34m,\u001b[0m\u001b[0mk\u001b[0m\u001b[0;34m]\u001b[0m\u001b[0;34m)\u001b[0m\u001b[0;34m\u001b[0m\u001b[0m\n\u001b[1;32m     34\u001b[0m     \u001b[0mp\u001b[0m \u001b[0;34m=\u001b[0m \u001b[0mnp\u001b[0m\u001b[0;34m.\u001b[0m\u001b[0mzeros\u001b[0m\u001b[0;34m(\u001b[0m\u001b[0;34m[\u001b[0m\u001b[0mnum\u001b[0m\u001b[0;34m,\u001b[0m\u001b[0mk\u001b[0m\u001b[0;34m]\u001b[0m\u001b[0;34m)\u001b[0m\u001b[0;34m\u001b[0m\u001b[0m\n\u001b[0;32m---> 35\u001b[0;31m     \u001b[0;32mwhile\u001b[0m\u001b[0;34m(\u001b[0m\u001b[0mdifferent\u001b[0m\u001b[0;34m>\u001b[0m\u001b[0mthreshold\u001b[0m \u001b[0;32mand\u001b[0m \u001b[0mstep\u001b[0m\u001b[0;34m<\u001b[0m\u001b[0miteration\u001b[0m\u001b[0;34m)\u001b[0m\u001b[0;34m:\u001b[0m\u001b[0;34m\u001b[0m\u001b[0m\n\u001b[0m\u001b[1;32m     36\u001b[0m         \u001b[0;31m# E step\u001b[0m\u001b[0;34m\u001b[0m\u001b[0;34m\u001b[0m\u001b[0m\n\u001b[1;32m     37\u001b[0m         \u001b[0mmu\u001b[0m \u001b[0;34m=\u001b[0m \u001b[0mmu_update\u001b[0m\u001b[0;34m.\u001b[0m\u001b[0mcopy\u001b[0m\u001b[0;34m(\u001b[0m\u001b[0;34m)\u001b[0m\u001b[0;34m\u001b[0m\u001b[0m\n",
      "\u001b[0;31mValueError\u001b[0m: The truth value of an array with more than one element is ambiguous. Use a.any() or a.all()"
     ]
    }
   ],
   "source": [
    "EM(5,data,1000,0.0001)"
   ]
  },
  {
   "cell_type": "code",
   "execution_count": null,
   "metadata": {},
   "outputs": [],
   "source": [
    "x = np.zeros([3,2])+1\n",
    "a = x\n",
    "a = a+2\n",
    "print(x,a)"
   ]
  },
  {
   "cell_type": "code",
   "execution_count": null,
   "metadata": {
    "collapsed": true
   },
   "outputs": [],
   "source": []
  }
 ],
 "metadata": {
  "kernelspec": {
   "display_name": "Python 3",
   "language": "python",
   "name": "python3"
  },
  "language_info": {
   "codemirror_mode": {
    "name": "ipython",
    "version": 3
   },
   "file_extension": ".py",
   "mimetype": "text/x-python",
   "name": "python",
   "nbconvert_exporter": "python",
   "pygments_lexer": "ipython3",
   "version": "3.6.1"
  }
 },
 "nbformat": 4,
 "nbformat_minor": 2
}
