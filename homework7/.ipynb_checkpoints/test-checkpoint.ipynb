{
 "cells": [
  {
   "cell_type": "code",
   "execution_count": 25,
   "metadata": {
    "collapsed": true
   },
   "outputs": [],
   "source": [
    "#load necessary library\n",
    "import numpy as np\n",
    "import matplotlib\n",
    "from matplotlib import pyplot as plt\n",
    "from numpy import linalg\n",
    "%matplotlib inline"
   ]
  },
  {
   "cell_type": "code",
   "execution_count": 26,
   "metadata": {
    "collapsed": true
   },
   "outputs": [],
   "source": [
    "#generate data \n",
    "with open('RedWine_HW7.txt','r') as f:\n",
    "    features = []\n",
    "    lines=f.readline()\n",
    "    featues = lines.split(';')\n",
    "    for i in range(13):\n",
    "        features.append(featues[i]) \n",
    "r_data = np.genfromtxt('RedWine_HW7.txt',skip_header=1)\n",
    "w_data = np.genfromtxt('WhiteWine_HW7.txt',skip_header=1)"
   ]
  },
  {
   "cell_type": "code",
   "execution_count": 27,
   "metadata": {
    "collapsed": true
   },
   "outputs": [],
   "source": [
    "# the first and second row storage the within group variance of each feature \n",
    "# the third row storage the between group variance of each feature\n",
    "operator = np.zeros([3,13])\n",
    "rdata = r_data\n",
    "wdata = w_data\n",
    "for i in range(13):\n",
    "    # caculate the within group variance  c1=red wine   c2 = white wine\n",
    "    c1 = np.cov(rdata[:,i])\n",
    "    c2 = np.cov(wdata[:,i])\n",
    "    #place the within variance into matrix\n",
    "    operator[0,i] = c1\n",
    "    operator[1,i] = c2\n",
    "    #compute between variance of each feature of wine\n",
    "    mu0 = (sum(rdata[:,i])+sum(wdata[:,i]))/(4898+1599)\n",
    "    #print('mu0',mu0)\n",
    "    s1 = 1599/(1599+4898)*(np.mean(rdata[:,i])-mu0)*(np.mean(rdata[:,i])-mu0)\n",
    "    #print(np.mean(rdata[:,i]))\n",
    "    s2 = 4898/(1599+4898)*(np.mean(wdata[:,i])-mu0)*(np.mean(wdata[:,i])-mu0)\n",
    "    #print((np.mean(wdata[:,i])-mu0)*(np.mean(wdata[:,i])-mu0))\n",
    "    Sb = s1 + s2\n",
    "    #print(Sb)\n",
    "    #storage s1 and s2 into operator\n",
    "    operator[2,i] = Sb"
   ]
  },
  {
   "cell_type": "code",
   "execution_count": 28,
   "metadata": {
    "collapsed": true
   },
   "outputs": [],
   "source": [
    "def BFS(covariance_matrix):\n",
    "    dl = covariance_matrix\n",
    "    cv = dl\n",
    "    data_list = [0,1,2,3,4,5,6,7,8,9,10,11,12]\n",
    "    remove_list = []\n",
    "    trace_ratio = []\n",
    "    x=[]\n",
    "    previous_ratio = sum(dl[2,:])/(sum(dl[0,:])+sum(dl[1,:]))\n",
    "    for n in range(13):\n",
    "        trace_ratio.clear()\n",
    "        for i in range(13-n):\n",
    "            test_list = list(data_list)\n",
    "            if len(test_list)==1:\n",
    "                return x\n",
    "            else:\n",
    "                del test_list[i]\n",
    "                mum = sum(sum(cv[0,[test_list]])+sum(cv[1,[test_list]]))\n",
    "                child = sum(cv[2,[test_list]].T)\n",
    "                trace_ratio.append(child/mum)\n",
    "        RemoveValue = max(trace_ratio)\n",
    "        x.append(RemoveValue)\n",
    "        position = trace_ratio.index(RemoveValue)\n",
    "        remove_list.append(data_list[position])\n",
    "        del data_list[position]\n",
    "        previous_ratio = trace_ratio[position]\n",
    "    return x"
   ]
  },
  {
   "cell_type": "code",
   "execution_count": 29,
   "metadata": {},
   "outputs": [],
   "source": [
    "trace_ratio = BFS(operator)"
   ]
  },
  {
   "cell_type": "code",
   "execution_count": 31,
   "metadata": {},
   "outputs": [
    {
     "data": {
      "text/plain": [
       "[<matplotlib.lines.Line2D at 0x117688f28>]"
      ]
     },
     "execution_count": 31,
     "metadata": {},
     "output_type": "execute_result"
    },
    {
     "data": {
      "image/png": "[encoded data removed]",
      "text/plain": [
       "<matplotlib.figure.Figure at 0x117349e80>"
      ]
     },
     "metadata": {},
     "output_type": "display_data"
    }
   ],
   "source": [
    "plt.plot(trace_ratio)"
   ]
  },
  {
   "cell_type": "code",
   "execution_count": null,
   "metadata": {
    "collapsed": true
   },
   "outputs": [],
   "source": []
  }
 ],
 "metadata": {
  "kernelspec": {
   "display_name": "Python 3",
   "language": "python",
   "name": "python3"
  },
  "language_info": {
   "codemirror_mode": {
    "name": "ipython",
    "version": 3
   },
   "file_extension": ".py",
   "mimetype": "text/x-python",
   "name": "python",
   "nbconvert_exporter": "python",
   "pygments_lexer": "ipython3",
   "version": "3.6.1"
  }
 },
 "nbformat": 4,
 "nbformat_minor": 2
}
