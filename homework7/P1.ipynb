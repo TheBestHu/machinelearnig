{
 "cells": [
  {
   "cell_type": "code",
   "execution_count": 487,
   "metadata": {
    "collapsed": true
   },
   "outputs": [],
   "source": [
    "#load necessary library\n",
    "import numpy as np\n",
    "import matplotlib\n",
    "from matplotlib import pyplot as plt\n",
    "from numpy import linalg\n",
    "%matplotlib inline"
   ]
  },
  {
   "cell_type": "code",
   "execution_count": 488,
   "metadata": {
    "collapsed": true
   },
   "outputs": [],
   "source": [
    "#generate data \n",
    "with open('RedWine_HW7.txt','r') as f:\n",
    "    features = []\n",
    "    lines=f.readline()\n",
    "    featues = lines.split(';')\n",
    "    for i in range(13):\n",
    "        features.append(featues[i]) \n",
    "r_data = np.genfromtxt('RedWine_HW7.txt',skip_header=1)\n",
    "w_data = np.genfromtxt('WhiteWine_HW7.txt',skip_header=1)"
   ]
  },
  {
   "cell_type": "code",
   "execution_count": 489,
   "metadata": {},
   "outputs": [
    {
     "data": {
      "text/plain": [
       "<function matplotlib.pyplot.imshow>"
      ]
     },
     "execution_count": 489,
     "metadata": {},
     "output_type": "execute_result"
    },
    {
     "data": {
      "image/png": "[encoded data removed]",
      "text/plain": [
       "<matplotlib.figure.Figure at 0x1e556571390>"
      ]
     },
     "metadata": {},
     "output_type": "display_data"
    }
   ],
   "source": [
    "plt.figure\n",
    "x1 = range(0,4898,1)\n",
    "x2 = range(4898,4898+1599,1)\n",
    "plt.scatter(x2,r_data[:,0],color='orange')\n",
    "plt.scatter(x1,w_data[:,0],color='blue')\n",
    "plt.imshow"
   ]
  },
  {
   "cell_type": "code",
   "execution_count": 490,
   "metadata": {},
   "outputs": [],
   "source": [
    "# the first and second row storage the within group variance of each feature \n",
    "# the third row storage the between group variance of each feature\n",
    "operator = np.zeros([3,13])\n",
    "rdata = r_data\n",
    "wdata = w_data\n",
    "for i in range(13):\n",
    "    # caculate the within group variance  c1=red wine   c2 = white wine\n",
    "    c1 = np.cov(rdata[:,i])\n",
    "    c2 = np.cov(wdata[:,i])\n",
    "    #place the within variance into matrix\n",
    "    operator[0,i] = c1\n",
    "    operator[1,i] = c2\n",
    "    #compute between variance of each feature of wine\n",
    "    mu0 = (sum(rdata[:,i])+sum(wdata[:,i]))/(4898+1599)\n",
    "    s1 = 1599/(1599+4898)*(np.mean(rdata[:,i])-mu0)*(np.mean(rdata[:,i])-mu0)\n",
    "    s2 = 4898/(1599+4898)*(np.mean(wdata[:,i])-mu0)*(np.mean(wdata[:,i])-mu0)\n",
    "    Sb = s1 + s2\n",
    "    #storage s1 and s2 into operator\n",
    "    operator[2,i] = Sb"
   ]
  },
  {
   "cell_type": "code",
   "execution_count": 492,
   "metadata": {},
   "outputs": [],
   "source": [
    "#use FFS to select the best features\n",
    "def FFS(covariance_matrix):\n",
    "    dl = covariance_matrix\n",
    "    best_list=[]\n",
    "    dlist = [0,1,2,3,4,5,6,7,8,9,10,11,12]\n",
    "    cv = dl\n",
    "    trace_ratio=[]\n",
    "    ratio=[]\n",
    "    for n in range(13):\n",
    "        NumFeatures = n+1\n",
    "        ratio.clear()\n",
    "        for m in range(13-n):\n",
    "            mum = sum(sum(cv[0,[best_list+[dlist[m]]]])+sum(cv[1,[best_list+[dlist[m]]]]))\n",
    "            child = sum(sum(cv[2,[best_list+[dlist[m]]]]))\n",
    "            ratio.append(child/mum)\n",
    "        #print(ratio,n)\n",
    "        BestValue = max(ratio)\n",
    "        Position = ratio.index(BestValue)\n",
    "        best_list.append(dlist[Position])\n",
    "        np.delete(cv,dlist[Position],1)\n",
    "        del dlist[Position]\n",
    "        trace_ratio.append(BestValue)\n",
    "    return trace_ratio,best_list\n",
    "#def BFS(covariance_matrix):\n",
    "    "
   ]
  },
  {
   "cell_type": "code",
   "execution_count": 493,
   "metadata": {
    "collapsed": true
   },
   "outputs": [],
   "source": [
    "def fisher(A, B):\n",
    "    group = np.zeros([13,3])\n",
    "    for i in range(13):\n",
    "        sum1 = 0\n",
    "        Sw1 = np.cov(A[:,i])\n",
    "        Sw2 = np.cov(B[:,i])\n",
    "        group[i,0] = Sw1\n",
    "        group[i,1] = Sw2\n",
    "        mu = np.mean(np.hstack((A[:,i],B[:,i])))\n",
    "        l = [len(A[:,i]),len(B[:,i])]\n",
    "        for n in range(len(A[:,i])):\n",
    "            e = A[n,i]-mu\n",
    "            sum1 =sum1 + e**2\n",
    "        sb1 = (l[0]/sum(l))*sum1\n",
    "        sum2 = 0\n",
    "        for n in range(len(B[:,i])):\n",
    "            e = B[n,i]-mu\n",
    "            sum2 =sum2 + e**2\n",
    "        sb2 = (l[1]/sum(l))*sum2\n",
    "        Sb = sb1 + sb2\n",
    "        group[i,2] = Sb\n",
    "    return group"
   ]
  },
  {
   "cell_type": "code",
   "execution_count": 494,
   "metadata": {},
   "outputs": [
    {
     "data": {
      "text/plain": [
       "343.67866081280954"
      ]
     },
     "execution_count": 494,
     "metadata": {},
     "output_type": "execute_result"
    }
   ],
   "source": [
    "1599/(1599+4898)*134+4898/(1599+4898)*412.130310188"
   ]
  },
  {
   "cell_type": "code",
   "execution_count": 495,
   "metadata": {
    "scrolled": true
   },
   "outputs": [
    {
     "data": {
      "text/plain": [
       "<matplotlib.collections.PathCollection at 0x1e555363c18>"
      ]
     },
     "execution_count": 495,
     "metadata": {},
     "output_type": "execute_result"
    },
    {
     "data": {
      "image/png": "[encoded data removed]",
      "text/plain": [
       "<matplotlib.figure.Figure at 0x1e555363f98>"
      ]
     },
     "metadata": {},
     "output_type": "display_data"
    }
   ],
   "source": [
    "trace,best_list = FFS(operator)\n",
    "plt.plot(trace)\n",
    "plt.scatter(trace.index(max(trace)),max(trace))"
   ]
  },
  {
   "cell_type": "code",
   "execution_count": 496,
   "metadata": {
    "collapsed": true
   },
   "outputs": [],
   "source": [
    "nn = operator[0,1]+operator[1,1]\n",
    "mm = operator[2,1]"
   ]
  },
  {
   "cell_type": "code",
   "execution_count": 497,
   "metadata": {},
   "outputs": [
    {
     "name": "stdout",
     "output_type": "stream",
     "text": [
      "0.273729118073\n"
     ]
    }
   ],
   "source": [
    "print(mm/nn)"
   ]
  },
  {
   "cell_type": "code",
   "execution_count": 498,
   "metadata": {
    "collapsed": true
   },
   "outputs": [],
   "source": [
    "lists=[1,2,3,4,5,6]\n",
    "lists.clear()"
   ]
  },
  {
   "cell_type": "code",
   "execution_count": 499,
   "metadata": {},
   "outputs": [
    {
     "name": "stdout",
     "output_type": "stream",
     "text": [
      "8.3196372733\n"
     ]
    }
   ],
   "source": [
    "print(np.mean(rdata[:,0]))"
   ]
  },
  {
   "cell_type": "code",
   "execution_count": null,
   "metadata": {
    "collapsed": true
   },
   "outputs": [],
   "source": []
  }
 ],
 "metadata": {
  "kernelspec": {
   "display_name": "Python 3",
   "language": "python",
   "name": "python3"
  },
  "language_info": {
   "codemirror_mode": {
    "name": "ipython",
    "version": 3
   },
   "file_extension": ".py",
   "mimetype": "text/x-python",
   "name": "python",
   "nbconvert_exporter": "python",
   "pygments_lexer": "ipython3",
   "version": "3.5.4"
  }
 },
 "nbformat": 4,
 "nbformat_minor": 2
}
