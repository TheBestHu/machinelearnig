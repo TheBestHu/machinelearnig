{
 "cells": [
  {
   "cell_type": "code",
   "execution_count": 633,
   "metadata": {
    "collapsed": true
   },
   "outputs": [],
   "source": [
    "#import needed packege\n",
    "import numpy as np\n",
    "import math\n",
    "import matplotlib\n",
    "from matplotlib import pyplot as plt\n",
    "import math\n",
    "from scipy.stats import multivariate_normal as mn\n",
    "%matplotlib inline\n"
   ]
  },
  {
   "cell_type": "code",
   "execution_count": 634,
   "metadata": {},
   "outputs": [
    {
     "name": "stdout",
     "output_type": "stream",
     "text": [
      "1000 5\n"
     ]
    }
   ],
   "source": [
    "#load data\n",
    "data = np.loadtxt('GMDataSet_HW7.txt')\n",
    "n,d = data.shape\n",
    "print(n,d)"
   ]
  },
  {
   "cell_type": "code",
   "execution_count": 635,
   "metadata": {},
   "outputs": [],
   "source": [
    "def gaussian_prob(x,mu,sigma):\n",
    "    n,d = x.shape\n",
    "    a = 1/((2*np.pi**(d/2))*(np.linalg.det(sigma)**0.5))\n",
    "    exp = np.exp(-0.5*(x-mu)@np.linalg.inv(sigma)@(x-mu).T)\n",
    "    return a*exp\n",
    "    \n",
    "def EM(k,load_data,iteration,threshold):\n",
    "    #k is the number of components\n",
    "    #n is number of data points, dimension is the number of dimensions of data\n",
    "    num,dimension = load_data.shape\n",
    "    data = load_data\n",
    "    # create covariance matrix of gaussian\n",
    "    sigma = np.eye(dimension)*1\n",
    "    sigma = [sigma]*k\n",
    "    sigma_update = sigma.copy()   \n",
    "    #print(sigma)\n",
    "    # create pi k 1*number of clusters\n",
    "    pi = np.zeros([1,k])\n",
    "    pi = pi + 1/k\n",
    "    pi_update = pi.copy()\n",
    "    #print(pi,pi_update)\n",
    "    # initial mu shoose 'number' of random data from data set\n",
    "    mu = np.zeros([dimension,k])\n",
    "    for i in range(k):\n",
    "        for d in range(dimension):\n",
    "            choice = np.random.randint(0,4)\n",
    "            mu[d,i] = np.random.choice(data[:,choice])\n",
    "    mu_update = mu.copy()\n",
    "    #print(mu)\n",
    "    # start iteration computation\n",
    "    step = 0 \n",
    "    different = 1\n",
    "    c = np.zeros([num,k])\n",
    "    p = np.zeros([num,k])\n",
    "    print(different)\n",
    "    while(different>threshold or step<iteration):\n",
    "        # E step\n",
    "        mu = mu_update.copy()\n",
    "        sigma = sigma_update.copy()\n",
    "        pi = pi_update.copy()\n",
    "        for j in range(k):\n",
    "            temp = mn.pdf(data,mu[:,j],sigma[j])\n",
    "            for i in range(num):\n",
    "                p[i,j] = temp[i]*pi[0,j]               \n",
    "        #print(p)\n",
    "        #compute c\n",
    "        for j in range(k):\n",
    "            for i in range(num):\n",
    "                c[i,j]=p[i,j]/sum(p[i,:])\n",
    "        print(sum(p[i,:]))       \n",
    "        #M step compute new parameters\n",
    "        # update mu\n",
    "        for j in range (k):\n",
    "            for d in range(dimension):\n",
    "                mu_update[d,j] = c[:,j]@data[:,d]/sum(c[:,j])\n",
    "        #print(mu_update)       \n",
    "        # update sigma\n",
    "        for j in range(k):\n",
    "            for d in range(dimension):\n",
    "                distance = (data[:,d]-mu_update[d,j]).T@(data[:,d]-mu_update[d,j])\n",
    "                total = sum(c[:,j]*distance)\n",
    "                sigma_update[j][d,d] = total/sum(c[:,j])\n",
    "                #sigma_update[j][d,d] = sum(c[:,j]*(data[:,d]-mu_update[d,j]).T@(data[:,d]-mu_update[d,j]))/sum(c[:,j])\n",
    "        #print(total)\n",
    "        #update pi\n",
    "        for j in range(k):\n",
    "            pi_update[0,j] = sum(c[:,j])/num\n",
    "        diff_pi = pi_update - pi\n",
    "        different = sum(abs(sum(diff_pi)))\n",
    "        #print(different)\n",
    "        step = step+1\n",
    "        if(step%100==0):\n",
    "            print(step)\n",
    "        #return pi_update\n",
    "        #print(pi_update)\n",
    "    return pi_update"
   ]
  },
  {
   "cell_type": "code",
   "execution_count": 636,
   "metadata": {},
   "outputs": [],
   "source": [
    "#EM(5,data,100,0.00001)"
   ]
  },
  {
   "cell_type": "code",
   "execution_count": 637,
   "metadata": {},
   "outputs": [],
   "source": [
    "#EM(4,data,1000,0.0001)"
   ]
  },
  {
   "cell_type": "code",
   "execution_count": 641,
   "metadata": {},
   "outputs": [
    {
     "ename": "ValueError",
     "evalue": "Array 'mean' must be a vector of length 25.",
     "output_type": "error",
     "traceback": [
      "\u001b[0;31m---------------------------------------------------------------------------\u001b[0m",
      "\u001b[0;31mValueError\u001b[0m                                Traceback (most recent call last)",
      "\u001b[0;32m<ipython-input-641-1b51aecdb6b8>\u001b[0m in \u001b[0;36m<module>\u001b[0;34m()\u001b[0m\n\u001b[1;32m      1\u001b[0m \u001b[0msigma\u001b[0m \u001b[0;34m=\u001b[0m \u001b[0mnp\u001b[0m\u001b[0;34m.\u001b[0m\u001b[0meye\u001b[0m\u001b[0;34m(\u001b[0m\u001b[0;36m5\u001b[0m\u001b[0;34m)\u001b[0m\u001b[0;34m*\u001b[0m\u001b[0;36m0.3\u001b[0m\u001b[0;34m\u001b[0m\u001b[0m\n\u001b[0;32m----> 2\u001b[0;31m \u001b[0my\u001b[0m \u001b[0;34m=\u001b[0m \u001b[0mmn\u001b[0m\u001b[0;34m.\u001b[0m\u001b[0mpdf\u001b[0m\u001b[0;34m(\u001b[0m\u001b[0mdata\u001b[0m\u001b[0;34m,\u001b[0m \u001b[0mmu\u001b[0m\u001b[0;34m,\u001b[0m \u001b[0msigma\u001b[0m\u001b[0;34m)\u001b[0m\u001b[0;34m\u001b[0m\u001b[0m\n\u001b[0m",
      "\u001b[0;32m/anaconda/lib/python3.6/site-packages/scipy/stats/_multivariate.py\u001b[0m in \u001b[0;36mpdf\u001b[0;34m(self, x, mean, cov, allow_singular)\u001b[0m\n\u001b[1;32m    502\u001b[0m \u001b[0;34m\u001b[0m\u001b[0m\n\u001b[1;32m    503\u001b[0m         \"\"\"\n\u001b[0;32m--> 504\u001b[0;31m         \u001b[0mdim\u001b[0m\u001b[0;34m,\u001b[0m \u001b[0mmean\u001b[0m\u001b[0;34m,\u001b[0m \u001b[0mcov\u001b[0m \u001b[0;34m=\u001b[0m \u001b[0mself\u001b[0m\u001b[0;34m.\u001b[0m\u001b[0m_process_parameters\u001b[0m\u001b[0;34m(\u001b[0m\u001b[0;32mNone\u001b[0m\u001b[0;34m,\u001b[0m \u001b[0mmean\u001b[0m\u001b[0;34m,\u001b[0m \u001b[0mcov\u001b[0m\u001b[0;34m)\u001b[0m\u001b[0;34m\u001b[0m\u001b[0m\n\u001b[0m\u001b[1;32m    505\u001b[0m         \u001b[0mx\u001b[0m \u001b[0;34m=\u001b[0m \u001b[0mself\u001b[0m\u001b[0;34m.\u001b[0m\u001b[0m_process_quantiles\u001b[0m\u001b[0;34m(\u001b[0m\u001b[0mx\u001b[0m\u001b[0;34m,\u001b[0m \u001b[0mdim\u001b[0m\u001b[0;34m)\u001b[0m\u001b[0;34m\u001b[0m\u001b[0m\n\u001b[1;32m    506\u001b[0m         \u001b[0mpsd\u001b[0m \u001b[0;34m=\u001b[0m \u001b[0m_PSD\u001b[0m\u001b[0;34m(\u001b[0m\u001b[0mcov\u001b[0m\u001b[0;34m,\u001b[0m \u001b[0mallow_singular\u001b[0m\u001b[0;34m=\u001b[0m\u001b[0mallow_singular\u001b[0m\u001b[0;34m)\u001b[0m\u001b[0;34m\u001b[0m\u001b[0m\n",
      "\u001b[0;32m/anaconda/lib/python3.6/site-packages/scipy/stats/_multivariate.py\u001b[0m in \u001b[0;36m_process_parameters\u001b[0;34m(self, dim, mean, cov)\u001b[0m\n\u001b[1;32m    390\u001b[0m \u001b[0;34m\u001b[0m\u001b[0m\n\u001b[1;32m    391\u001b[0m         \u001b[0;32mif\u001b[0m \u001b[0mmean\u001b[0m\u001b[0;34m.\u001b[0m\u001b[0mndim\u001b[0m \u001b[0;34m!=\u001b[0m \u001b[0;36m1\u001b[0m \u001b[0;32mor\u001b[0m \u001b[0mmean\u001b[0m\u001b[0;34m.\u001b[0m\u001b[0mshape\u001b[0m\u001b[0;34m[\u001b[0m\u001b[0;36m0\u001b[0m\u001b[0;34m]\u001b[0m \u001b[0;34m!=\u001b[0m \u001b[0mdim\u001b[0m\u001b[0;34m:\u001b[0m\u001b[0;34m\u001b[0m\u001b[0m\n\u001b[0;32m--> 392\u001b[0;31m             \u001b[0;32mraise\u001b[0m \u001b[0mValueError\u001b[0m\u001b[0;34m(\u001b[0m\u001b[0;34m\"Array 'mean' must be a vector of length %d.\"\u001b[0m \u001b[0;34m%\u001b[0m \u001b[0mdim\u001b[0m\u001b[0;34m)\u001b[0m\u001b[0;34m\u001b[0m\u001b[0m\n\u001b[0m\u001b[1;32m    393\u001b[0m         \u001b[0;32mif\u001b[0m \u001b[0mcov\u001b[0m\u001b[0;34m.\u001b[0m\u001b[0mndim\u001b[0m \u001b[0;34m==\u001b[0m \u001b[0;36m0\u001b[0m\u001b[0;34m:\u001b[0m\u001b[0;34m\u001b[0m\u001b[0m\n\u001b[1;32m    394\u001b[0m             \u001b[0mcov\u001b[0m \u001b[0;34m=\u001b[0m \u001b[0mcov\u001b[0m \u001b[0;34m*\u001b[0m \u001b[0mnp\u001b[0m\u001b[0;34m.\u001b[0m\u001b[0meye\u001b[0m\u001b[0;34m(\u001b[0m\u001b[0mdim\u001b[0m\u001b[0;34m)\u001b[0m\u001b[0;34m\u001b[0m\u001b[0m\n",
      "\u001b[0;31mValueError\u001b[0m: Array 'mean' must be a vector of length 25."
     ]
    }
   ],
   "source": [
    "sigma = np.eye(5)*0.3\n",
    "y = mn.pdf(data, mu, sigma)"
   ]
  },
  {
   "cell_type": "code",
   "execution_count": null,
   "metadata": {
    "collapsed": true
   },
   "outputs": [],
   "source": []
  }
 ],
 "metadata": {
  "kernelspec": {
   "display_name": "Python 3",
   "language": "python",
   "name": "python3"
  },
  "language_info": {
   "codemirror_mode": {
    "name": "ipython",
    "version": 3
   },
   "file_extension": ".py",
   "mimetype": "text/x-python",
   "name": "python",
   "nbconvert_exporter": "python",
   "pygments_lexer": "ipython3",
   "version": "3.6.1"
  }
 },
 "nbformat": 4,
 "nbformat_minor": 2
}
