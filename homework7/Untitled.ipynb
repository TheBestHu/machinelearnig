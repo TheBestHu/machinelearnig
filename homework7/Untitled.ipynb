{
 "cells": [
  {
   "cell_type": "code",
   "execution_count": 155,
   "metadata": {},
   "outputs": [],
   "source": [
    "import numpy as np\n",
    "import math \n",
    "import matplotlib\n",
    "from matplotlib import pyplot as plt\n",
    "import math\n",
    "from scipy.stats import multivariate_normal\n",
    "%matplotlib inline"
   ]
  },
  {
   "cell_type": "code",
   "execution_count": 161,
   "metadata": {},
   "outputs": [],
   "source": [
    "data = np.loadtxt('GMDataSet_HW7.txt')\n",
    "num,dimension = data.shape\n",
    "k = 5\n",
    "iteration = 1\n",
    "threshold = 0.0001\n",
    "step = 0\n",
    "different = 1\n",
    "#initial mu\n",
    "mu = np.zeros([dimension,k])\n",
    "for i in range(k):\n",
    "    for n in range(dimension):\n",
    "        choice = np.random.randint(0,4)\n",
    "        mu[n,i] = np.random.choice(data[:,choice])\n",
    "mu_update = mu.copy()\n",
    "#initial sigma\n",
    "sigma = [np.eye(dimension)]*k\n",
    "sigma_update = sigma.copy()\n",
    "#initial pi\n",
    "pi = np.zeros([1,k])+1/k\n",
    "pi_update = pi.copy()\n",
    "c = np.zeros([num,k])\n",
    "p = np.zeros([num,k])\n",
    "total = 0\n",
    "while (step<iteration and different > threshold):\n",
    "    mu = mu_update.copy()\n",
    "    sigma = sigma_update.copy()\n",
    "    pi = pi_update.copy()\n",
    "    #compute gaussian p\n",
    "    for j in range(k):\n",
    "        ss = sigma[j]\n",
    "        p[:,j] = multivariate_normal.pdf(data,mu[:,j],ss)\n",
    "    #compute c\n",
    "    for j in range(k):\n",
    "        for i in range(num):\n",
    "            c[i,j] = p[i,j]/sum(p[:,j])\n",
    "    #update mu\n",
    "    for j in range(k):\n",
    "        for d in range(dimension):\n",
    "            mu_update[d,j] = c[:,j]@data[:,d]/sum(c[:,j])\n",
    "    \n",
    "    #update sigma\n",
    "    for j in range(k):\n",
    "        for d in range(dimension):\n",
    "            #distance = math.sqrt(((data[:,d]-mu_update[d,j]).T@(data[:,d]-mu_update[d,j])))\n",
    "            #print(distance)\n",
    "            for i in range(num):\n",
    "                distance = math.sqrt((data[i,:]-mu_update[d,j])@(data[i,:]-mu_update[d,j]).T)\n",
    "                total = total + c[i,j]*distance\n",
    "            sigma_update[j][d,d] = total/sum(c[:,j])\n",
    "    #update pi\n",
    "    for j in range(k):\n",
    "        pi_update[0,j] = sum(c[:,j])/num\n",
    "    different = sum(sum(abs(pi_update-pi))+sum(sum(abs(mu_update-mu))))\n",
    "    step = step+1  "
   ]
  },
  {
   "cell_type": "code",
   "execution_count": null,
   "metadata": {},
   "outputs": [],
   "source": []
  },
  {
   "cell_type": "code",
   "execution_count": null,
   "metadata": {
    "collapsed": true
   },
   "outputs": [],
   "source": []
  }
 ],
 "metadata": {
  "kernelspec": {
   "display_name": "Python 3",
   "language": "python",
   "name": "python3"
  },
  "language_info": {
   "codemirror_mode": {
    "name": "ipython",
    "version": 3
   },
   "file_extension": ".py",
   "mimetype": "text/x-python",
   "name": "python",
   "nbconvert_exporter": "python",
   "pygments_lexer": "ipython3",
   "version": "3.6.1"
  }
 },
 "nbformat": 4,
 "nbformat_minor": 2
}
