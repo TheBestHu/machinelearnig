{
 "cells": [
  {
   "cell_type": "code",
   "execution_count": 1,
   "metadata": {
    "collapsed": true
   },
   "outputs": [],
   "source": [
    "import numpy as np\n",
    "import matplotlib\n",
    "import matplotlib.pyplot as plt\n",
    "import sounddevice as sd\n",
    "import math\n",
    "%matplotlib inline"
   ]
  },
  {
   "cell_type": "code",
   "execution_count": 2,
   "metadata": {
    "collapsed": true
   },
   "outputs": [],
   "source": [
    "cd = np.loadtxt('corrupted_speech.txt')\n",
    "music = np.loadtxt('music.txt')\n",
    "fs = 22000\n",
    "#cd = cd.reshape(280223,1)\n",
    "#music = music.reshape(280223,1)\n",
    "N = cd.shape[0]\n",
    "ml = music.shape[0]\n",
    "#print(type(N))\n",
    "#print(music[0:5])\n",
    "#sd.play(music,fs)"
   ]
  },
  {
   "cell_type": "code",
   "execution_count": 3,
   "metadata": {},
   "outputs": [
    {
     "name": "stdout",
     "output_type": "stream",
     "text": [
      "50 finish\n",
      "100 finish\n",
      "150 finish\n",
      "200 finish\n",
      "250 finish\n",
      "300 finish\n",
      "350 finish\n",
      "400 finish\n"
     ]
    },
    {
     "data": {
      "text/plain": [
       "[<matplotlib.lines.Line2D at 0x26eca551a58>]"
      ]
     },
     "execution_count": 3,
     "metadata": {},
     "output_type": "execute_result"
    },
    {
     "data": {
      "image/png": "[encoded data removed]",
      "text/plain": [
       "<matplotlib.figure.Figure at 0x26ec9786080>"
      ]
     },
     "metadata": {},
     "output_type": "display_data"
    }
   ],
   "source": [
    "#define parameters. filter order m, step size step_s and weight_co    \n",
    "ss = 0.0005\n",
    "ERLE = []\n",
    "# weight_co is m*1\n",
    "for m in range(50,401,50):\n",
    "    weight_co = np.zeros((m,1))\n",
    "#print(weight_co)\n",
    "# create another variables which wil be used in future\n",
    "    weight_track = np.zeros((m,N-m))\n",
    "#build new input matrix based on m\n",
    "# caculate eigenvalue and auto-corrilation matrix\n",
    "    x = np.zeros((m,N-m))\n",
    "    md = cd[m:N]\n",
    "    for i in range(0,(N-m)):\n",
    "        temp = music[i:i+m]\n",
    "        x[:,i] = temp[::-1]\n",
    "    R = (x@x.T)/(N-m)\n",
    "    value,vector = np.linalg.eig(R)\n",
    "    max_ev = max(value)\n",
    "# step 2 training w\n",
    "    e_train = np.zeros(N-m)\n",
    "    J_train = np.zeros(N-m)\n",
    "    ERLE_d = np.zeros(N-m)\n",
    "    ERLE_e = np.zeros(N-m)\n",
    "    J = np.zeros(20)\n",
    "    lc = []\n",
    "    for iter in range(0,20):\n",
    "        learn_curve = 0\n",
    "        for i in range(0,N-m):\n",
    "            y = weight_co.T@x[:,i]\n",
    "    #print(y)\n",
    "            e_train[i] = md[i]-y\n",
    "    #print(e[i])\n",
    "            error = e_train[i]\n",
    "            ERLE_d[i] = md[i]**2\n",
    "            ERLE_e[i] = error**2\n",
    "            J_train[i] = error**2\n",
    "            learn_curve = learn_curve+error**2\n",
    "            a = 2*ss*e_train[i]\n",
    "            weight_co[:,0] = weight_co[:,0] + a*x[:,i]\n",
    "            weight_track[:,i] = weight_co[:,0]\n",
    "        lc.append(sum(J_train))\n",
    "    ERLE.append(10*math.log10(sum(ERLE_d)/sum(ERLE_e)))\n",
    "    print(m,'finish')\n",
    "plt.plot(ERLE)  "
   ]
  },
  {
   "cell_type": "code",
   "execution_count": 5,
   "metadata": {
    "scrolled": true
   },
   "outputs": [
    {
     "data": {
      "text/plain": [
       "<matplotlib.text.Text at 0x26e813587f0>"
      ]
     },
     "execution_count": 5,
     "metadata": {},
     "output_type": "execute_result"
    },
    {
     "data": {
      "image/png": "[encoded data removed]",
      "text/plain": [
       "<matplotlib.figure.Figure at 0x26e8132dc50>"
      ]
     },
     "metadata": {},
     "output_type": "display_data"
    }
   ],
   "source": [
    "axis = np.arange(50,401,50)\n",
    "plt.plot(axis,ERLE,'b')\n",
    "plt.title('ERLE curve')\n",
    "plt.xlabel('filter order')\n",
    "plt.ylabel('ERLE')"
   ]
  },
  {
   "cell_type": "code",
   "execution_count": 82,
   "metadata": {},
   "outputs": [
    {
     "name": "stdout",
     "output_type": "stream",
     "text": [
      "[2710.0991756049325, 2657.718864825717, 2662.8112068562441, 2665.8839857095991, 2667.8123143550984, 2669.0290170853173, 2669.8033072039934, 2670.3034165049612, 2670.6321260344671, 2670.8522348760066, 2671.0023872355086, 2671.1066218749493, 2671.1801180253829, 2671.2326387938356, 2671.2705922385435, 2671.2982711232003, 2671.318607121691, 2671.3336373259594, 2671.3447986681899, 2671.3531178010535]\n"
     ]
    }
   ],
   "source": [
    "print(lc)"
   ]
  },
  {
   "cell_type": "code",
   "execution_count": 6,
   "metadata": {},
   "outputs": [
    {
     "data": {
      "text/plain": [
       "<matplotlib.text.Text at 0x26e81348358>"
      ]
     },
     "execution_count": 6,
     "metadata": {},
     "output_type": "execute_result"
    },
    {
     "data": {
      "image/png": "[encoded data removed]",
      "text/plain": [
       "<matplotlib.figure.Figure at 0x26e813ac978>"
      ]
     },
     "metadata": {},
     "output_type": "display_data"
    }
   ],
   "source": [
    "for i in range(0,20):\n",
    "    lc[i]=lc[i]/(N-m)\n",
    "lc_x_axis = np.arange(0,20,1)\n",
    "plt.plot(lc_x_axis,lc)\n",
    "plt.title('Learning Curve')\n",
    "plt.xlabel('Iteration')\n",
    "plt.ylabel('MSE')"
   ]
  },
  {
   "cell_type": "code",
   "execution_count": null,
   "metadata": {
    "collapsed": true
   },
   "outputs": [],
   "source": []
  }
 ],
 "metadata": {
  "kernelspec": {
   "display_name": "Python 3",
   "language": "python",
   "name": "python3"
  },
  "language_info": {
   "codemirror_mode": {
    "name": "ipython",
    "version": 3
   },
   "file_extension": ".py",
   "mimetype": "text/x-python",
   "name": "python",
   "nbconvert_exporter": "python",
   "pygments_lexer": "ipython3",
   "version": "3.5.4"
  }
 },
 "nbformat": 4,
 "nbformat_minor": 2
}
