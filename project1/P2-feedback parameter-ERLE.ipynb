{
 "cells": [
  {
   "cell_type": "code",
   "execution_count": 14,
   "metadata": {
    "collapsed": true
   },
   "outputs": [],
   "source": [
    "import numpy as np\n",
    "import matplotlib\n",
    "import matplotlib.pyplot as plt\n",
    "import math\n",
    "import sounddevice as sd \n",
    "%matplotlib inline  "
   ]
  },
  {
   "cell_type": "code",
   "execution_count": 5,
   "metadata": {
    "collapsed": true
   },
   "outputs": [],
   "source": [
    "#laod data and define paremeters\n",
    "music=np.loadtxt('music.txt')\n",
    "cd=np.loadtxt('corrupted_speech.txt')\n",
    "fs=np.loadtxt('fs.txt')\n",
    "m=music.size\n",
    "N=corrupted_speech.size\n",
    "ERLE=[]\n",
    "M = 100\n",
    "feedback_p=[0.1,0.2,0.3,0.4,0.5,0.6,0.7,0.8,0.9]"
   ]
  },
  {
   "cell_type": "code",
   "execution_count": 6,
   "metadata": {},
   "outputs": [
    {
     "name": "stdout",
     "output_type": "stream",
     "text": [
      "0.1\n",
      "0.2\n",
      "0.3\n",
      "0.4\n",
      "0.5\n",
      "0.6\n",
      "0.7\n",
      "0.8\n",
      "0.9\n"
     ]
    }
   ],
   "source": [
    "#fetch feedback parameters from feedback_p\n",
    "for j in range(0,9):\n",
    "    u=feedback_p[j]\n",
    "    step=0.1\n",
    "    Input=np.zeros((M,m-M+1))\n",
    "    Disire=np.zeros((M,N-M+1))\n",
    "    for i in range(0,m-M):\n",
    "            temp_m= music[i:i+M]\n",
    "            Input[:, i]= temp_m[::-1]\n",
    "            temp_cd= cd[i:i+M]\n",
    "            Disire[:, i]= temp_cd[::-1]\n",
    "            #pre process the inpute data\n",
    "            for k in range(0,M-1):\n",
    "                if i==0 or k==0:\n",
    "                    continue\n",
    "                else:\n",
    "                    Input[k,i]=(1-u)*Input[k,i-1]+u*Input[k-1,i-1]\n",
    "    w=np.zeros((M,m-M+1)) \n",
    "    weight_t=np.zeros((M,m-M+1))\n",
    "    y=np.zeros((1,m-M+1)) \n",
    "    error=np.zeros((1,m-M+1))\n",
    "    for _ in range(20):\n",
    "        for i in range(0,m-M):\n",
    "            y[0, i]=w[:,i].T@Input[:,i]\n",
    "            error[0,i]=Disire[0,i]-y[0,i]\n",
    "            w[:,i+1]=w[:,i]+2*step*error[0,i]*Input[:,i]/(Input[:,i].T@Input[:,i])\n",
    "            weight_t[:,i]=w[:,i+1]\n",
    "            w[:,i]=weight_t[:,i]\n",
    "        J=1/(2*(m-M+1))*error**2\n",
    "        D=Disire[0,:]**2\n",
    "        E=error[0,:]**2\n",
    "        d=np.sum(D)\n",
    "        e=np.sum(E)\n",
    "    ERLE.append(10*math.log10(d/e))\n",
    "    print(u)"
   ]
  },
  {
   "cell_type": "code",
   "execution_count": 8,
   "metadata": {
    "scrolled": true
   },
   "outputs": [
    {
     "data": {
      "text/plain": [
       "<matplotlib.text.Text at 0x1e280d4b860>"
      ]
     },
     "execution_count": 8,
     "metadata": {},
     "output_type": "execute_result"
    },
    {
     "data": {
      "image/png": "[encoded data removed]",
      "text/plain": [
       "<matplotlib.figure.Figure at 0x1e280d18ba8>"
      ]
     },
     "metadata": {},
     "output_type": "display_data"
    }
   ],
   "source": [
    "x = np.arange(0.1,0.91,0.1)\n",
    "plt.plot(x,ERLE)\n",
    "plt.xlabel('Feedback Parameter')\n",
    "plt.ylabel('ERLE')"
   ]
  },
  {
   "cell_type": "code",
   "execution_count": 13,
   "metadata": {
    "collapsed": true
   },
   "outputs": [],
   "source": [
    "sd.play(error[0,:],fs)"
   ]
  },
  {
   "cell_type": "code",
   "execution_count": null,
   "metadata": {
    "collapsed": true
   },
   "outputs": [],
   "source": []
  }
 ],
 "metadata": {
  "kernelspec": {
   "display_name": "Python 3",
   "language": "python",
   "name": "python3"
  },
  "language_info": {
   "codemirror_mode": {
    "name": "ipython",
    "version": 3
   },
   "file_extension": ".py",
   "mimetype": "text/x-python",
   "name": "python",
   "nbconvert_exporter": "python",
   "pygments_lexer": "ipython3",
   "version": "3.5.4"
  }
 },
 "nbformat": 4,
 "nbformat_minor": 2
}
