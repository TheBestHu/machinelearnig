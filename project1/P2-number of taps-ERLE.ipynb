{
 "cells": [
  {
   "cell_type": "code",
   "execution_count": 34,
   "metadata": {
    "collapsed": true
   },
   "outputs": [],
   "source": [
    "import numpy as np\n",
    "import matplotlib\n",
    "import matplotlib.pyplot as plt\n",
    "from sklearn.metrics import mean_squared_error\n",
    "import math\n",
    "import sounddevice as sd \n",
    "%matplotlib inline  "
   ]
  },
  {
   "cell_type": "code",
   "execution_count": 35,
   "metadata": {},
   "outputs": [
    {
     "name": "stdout",
     "output_type": "stream",
     "text": [
      "280223\n"
     ]
    }
   ],
   "source": [
    "#Load Data\n",
    "music=np.loadtxt('music.txt')\n",
    "corrupted_speech=np.loadtxt('corrupted_speech.txt')\n",
    "fs=np.loadtxt('fs.txt')\n",
    "m=music.size\n",
    "N=corrupted_speech.size\n",
    "ERLE=[]\n",
    "print (num_music)"
   ]
  },
  {
   "cell_type": "code",
   "execution_count": 15,
   "metadata": {},
   "outputs": [
    {
     "name": "stdout",
     "output_type": "stream",
     "text": [
      "5\n",
      "10\n",
      "15\n",
      "20\n",
      "25\n",
      "30\n",
      "35\n",
      "40\n",
      "45\n",
      "50\n",
      "55\n",
      "60\n",
      "65\n",
      "70\n",
      "75\n",
      "80\n",
      "85\n",
      "90\n",
      "95\n",
      "100\n"
     ]
    }
   ],
   "source": [
    "#caculate ERLE for M from 5 to 100\n",
    "for M in range(5,101,5):\n",
    "    u=0.2\n",
    "    step=0.1\n",
    "    Input=np.zeros((M,m-M+1))\n",
    "    Disire=np.zeros((M,N-M+1))\n",
    "    for i in range(0,m-M):\n",
    "            temp_m= music[i:i+M]\n",
    "            Input[:, i]= temp_m[::-1]\n",
    "            temp_cd= corrupted_speech[i:i+M]\n",
    "            Disire[:, i]= temp_cd[::-1]\n",
    "            for k in range(0,M-1):\n",
    "                if i==0 or k==0:\n",
    "                    continue\n",
    "                else:\n",
    "                    Input[k,i]=(1-u)*Input[k,i-1]+u*Input[k-1,i-1]\n",
    "    w=np.zeros((M,m-M+1)) \n",
    "    w_curr=np.zeros((M,m-M+1))\n",
    "    y=np.zeros((1,m-M+1)) \n",
    "    error=np.zeros((1,m-M+1))\n",
    "    for _ in range(20):\n",
    "        for i in range(0,m-M):\n",
    "            y[0, i]=w[:,i].T@Input[:,i]\n",
    "            error[0,i]=Disire[0,i]-y[0,i]\n",
    "            w[:,i+1]=w[:,i]+2*step*error[0,i]*Input[:,i]/(Input[:,i].T@Input[:,i])\n",
    "            w_curr[:,i]=w[:,i+1]\n",
    "            w[:,i]=w_curr[:,i]\n",
    "        J=1/(2*(m-M+1))*error**2\n",
    "        D=Disire[0,:]**2\n",
    "        E=error[0,:]**2\n",
    "        d=np.sum(D)\n",
    "        e=np.sum(E)\n",
    "    ERLE.append(10*math.log10(d/e))\n",
    "    print(M)"
   ]
  },
  {
   "cell_type": "code",
   "execution_count": 31,
   "metadata": {
    "scrolled": true
   },
   "outputs": [
    {
     "data": {
      "text/plain": [
       "<matplotlib.text.Text at 0x1c30027b048>"
      ]
     },
     "execution_count": 31,
     "metadata": {},
     "output_type": "execute_result"
    },
    {
     "data": {
      "image/png": "[encoded data removed]",
      "text/plain": [
       "<matplotlib.figure.Figure at 0x1c31bbaedd8>"
      ]
     },
     "metadata": {},
     "output_type": "display_data"
    }
   ],
   "source": [
    "y = np.zeros((1,20))\n",
    "x = np.arange(5,101,5)\n",
    "y=ERLE[10:30]\n",
    "plt.plot(x,y)\n",
    "plt.xlabel('Number of Taps')\n",
    "plt.ylabel('ERLE')"
   ]
  },
  {
   "cell_type": "code",
   "execution_count": null,
   "metadata": {
    "collapsed": true
   },
   "outputs": [],
   "source": []
  }
 ],
 "metadata": {
  "kernelspec": {
   "display_name": "Python 3",
   "language": "python",
   "name": "python3"
  },
  "language_info": {
   "codemirror_mode": {
    "name": "ipython",
    "version": 3
   },
   "file_extension": ".py",
   "mimetype": "text/x-python",
   "name": "python",
   "nbconvert_exporter": "python",
   "pygments_lexer": "ipython3",
   "version": "3.5.4"
  }
 },
 "nbformat": 4,
 "nbformat_minor": 2
}
