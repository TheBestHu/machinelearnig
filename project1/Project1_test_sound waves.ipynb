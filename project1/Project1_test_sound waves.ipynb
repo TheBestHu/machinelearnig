{
 "cells": [
  {
   "cell_type": "code",
   "execution_count": 1,
   "metadata": {
    "collapsed": true
   },
   "outputs": [],
   "source": [
    "import numpy as np\n",
    "import matplotlib\n",
    "import matplotlib.pyplot as plt\n",
    "import sounddevice as sd\n",
    "%matplotlib inline"
   ]
  },
  {
   "cell_type": "code",
   "execution_count": 2,
   "metadata": {
    "collapsed": true
   },
   "outputs": [],
   "source": [
    "cd = np.loadtxt('corrupted_speech.txt')\n",
    "music = np.loadtxt('music.txt')\n",
    "fs = 22000\n",
    "#cd = cd.reshape(280223,1)\n",
    "#music = music.reshape(280223,1)\n",
    "N = cd.shape[0]\n",
    "ml = music.shape[0]\n",
    "#print(type(N))\n",
    "#print(music[0:5])\n",
    "#sd.play(music,fs)"
   ]
  },
  {
   "cell_type": "code",
   "execution_count": 3,
   "metadata": {
    "collapsed": true
   },
   "outputs": [],
   "source": [
    "#define parameters. filter order m, step size step_s and weight_co\n",
    "m = 300\n",
    "#step size set from 0 to 2.31\n",
    "mu = 0.0006\n",
    "# weight_co is 10*1\n",
    "weight_co = np.zeros((m,1))\n",
    "#print(weight_co)\n",
    "# create another variables which wil be used in future\n",
    "weight_track = []"
   ]
  },
  {
   "cell_type": "code",
   "execution_count": 4,
   "metadata": {},
   "outputs": [
    {
     "name": "stdout",
     "output_type": "stream",
     "text": [
      "(300, 279923)\n",
      "0.160267805153\n"
     ]
    }
   ],
   "source": [
    "#build new input matrix based on m\n",
    "# caculate eigenvalue and auto-corrilation matrix\n",
    "x = np.zeros((m,N-m))\n",
    "d = cd[m:N]\n",
    "for i in range(0,(N-m)):\n",
    "    temp = music[i:i+m]\n",
    "    x[:,i] = temp[::-1]\n",
    "print(x.shape)\n",
    "R = (x@x.T)/(N-m)\n",
    "value,vector = np.linalg.eig(R)\n",
    "max_ev = max(value)\n",
    "print(1/max_ev)\n",
    "# so the step size is from 0 to 2.3116(model order is 5)"
   ]
  },
  {
   "cell_type": "code",
   "execution_count": 6,
   "metadata": {},
   "outputs": [],
   "source": [
    "# step 2 training w\n",
    "e = np.zeros(N-m)   # error \n",
    "J = np.zeros(N-m)   # learning curve\n",
    "for _ in range(20):\n",
    "    for i in range(0,N-m):\n",
    "        y = weight_co.T@x[:,i]\n",
    "    #print(y)\n",
    "        e[i] = d[i]-y\n",
    "    #print(e[i])\n",
    "        J[i] = e[i]**2\n",
    "        a = 2*mu*e[i]\n",
    "        weight_co[:,0] = weight_co[:,0] + a*x[:,i]/(x[:,i].T@x[:,i])\n",
    "    weight_track.append(weight_co)"
   ]
  },
  {
   "cell_type": "code",
   "execution_count": 9,
   "metadata": {},
   "outputs": [
    {
     "data": {
      "image/png": "[encoded data removed]",
      "text/plain": [
       "<matplotlib.figure.Figure at 0x1ce5be450b8>"
      ]
     },
     "metadata": {},
     "output_type": "display_data"
    }
   ],
   "source": [
    "plt.plot(cd,label='corrupted_speech')\n",
    "plt.legend(loc='upper right')\n",
    "plt.plot(e,label='error(speech)')\n",
    "plt.legend(loc='upper right')\n",
    "plt.grid()\n",
    "plt.title('sound waive(FIR filter )')\n",
    "plt.xlabel('time')\n",
    "plt.show()"
   ]
  },
  {
   "cell_type": "code",
   "execution_count": 11,
   "metadata": {},
   "outputs": [],
   "source": [
    "np.savetxt('FIR_error.txt',e)"
   ]
  },
  {
   "cell_type": "code",
   "execution_count": null,
   "metadata": {
    "collapsed": true
   },
   "outputs": [],
   "source": []
  }
 ],
 "metadata": {
  "kernelspec": {
   "display_name": "Python 3",
   "language": "python",
   "name": "python3"
  },
  "language_info": {
   "codemirror_mode": {
    "name": "ipython",
    "version": 3
   },
   "file_extension": ".py",
   "mimetype": "text/x-python",
   "name": "python",
   "nbconvert_exporter": "python",
   "pygments_lexer": "ipython3",
   "version": "3.5.4"
  }
 },
 "nbformat": 4,
 "nbformat_minor": 2
}
