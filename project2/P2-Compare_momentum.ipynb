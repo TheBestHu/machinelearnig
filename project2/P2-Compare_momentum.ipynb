{
 "cells": [
  {
   "cell_type": "code",
   "execution_count": 7,
   "metadata": {
    "collapsed": true
   },
   "outputs": [],
   "source": [
    "import os\n",
    "import numpy as np\n",
    "import struct\n",
    "from numpy import zeros\n",
    "import array\n",
    "import matplotlib\n",
    "from matplotlib import pyplot as plt\n",
    "%matplotlib inline"
   ]
  },
  {
   "cell_type": "code",
   "execution_count": 8,
   "metadata": {
    "collapsed": true
   },
   "outputs": [],
   "source": [
    "def load_mnist(dataset=\"training\", digits=np.arange(10), path=\".\", size = 60000):\n",
    "    if dataset == \"training\":\n",
    "        fname_img = os.path.join(path, 'train-images.idx3-ubyte')\n",
    "        fname_lbl = os.path.join(path, 'train-labels.idx1-ubyte')\n",
    "    elif dataset == \"testing\":\n",
    "        fname_img = os.path.join(path, 't10k-images.idx3-ubyte')\n",
    "        fname_lbl = os.path.join(path, 't10k-labels.idx1-ubyte')\n",
    "    else:\n",
    "        raise ValueError(\"dataset must be 'testing' or 'training'\")\n",
    "\n",
    "    flbl = open(fname_lbl, 'rb')\n",
    "    magic_nr, size = struct.unpack(\">II\", flbl.read(8))\n",
    "    lbl = array.array(\"b\", flbl.read())\n",
    "    flbl.close()\n",
    "\n",
    "    fimg = open(fname_img, 'rb')\n",
    "    magic_nr, size, rows, cols = struct.unpack(\">IIII\", fimg.read(16))\n",
    "    img = array.array(\"B\", fimg.read())\n",
    "    fimg.close()\n",
    "\n",
    "    ind = [ k for k in range(size) if lbl[k] in digits ]\n",
    "    N = size #int(len(ind) * size/100.)\n",
    "    images = zeros((N, rows, cols), dtype='uint8')\n",
    "    labels = zeros((N, 1), dtype='int8')\n",
    "    for i in range(N): #int(len(ind) * size/100.)):\n",
    "        images[i] = np.array(img[ ind[i]*rows*cols : (ind[i]+1)*rows*cols ])\\\n",
    "            .reshape((rows, cols))\n",
    "        labels[i] = lbl[ind[i]]\n",
    "    labels = [label[0] for label in labels]\n",
    "    return images, labels"
   ]
  },
  {
   "cell_type": "code",
   "execution_count": 9,
   "metadata": {
    "collapsed": true
   },
   "outputs": [],
   "source": [
    "tr,label = load_mnist()\n",
    "tr = tr/256\n",
    "tr_label = np.array(label,dtype = np.long)\n",
    "te,te_label = load_mnist(\"testing\")\n",
    "te = te/256\n",
    "te_label = np.array(te_label,dtype = np.long)"
   ]
  },
  {
   "cell_type": "code",
   "execution_count": 10,
   "metadata": {
    "collapsed": true
   },
   "outputs": [],
   "source": [
    "# import needed library for MLP \n",
    "import torch\n",
    "import torch.nn as nn\n",
    "import torch.nn.functional\n",
    "import torch.utils.data\n",
    "from torch.autograd import Variable"
   ]
  },
  {
   "cell_type": "code",
   "execution_count": 11,
   "metadata": {
    "collapsed": true
   },
   "outputs": [],
   "source": [
    "train_data =torch.utils.data.DataLoader(torch.from_numpy(tr),batch_size = 100)\n",
    "test_data =torch.utils.data.DataLoader(torch.from_numpy(te),batch_size = 100)\n",
    "train_label =torch.from_numpy(tr_label)\n",
    "test_label = torch.from_numpy(te_label)"
   ]
  },
  {
   "cell_type": "code",
   "execution_count": 23,
   "metadata": {},
   "outputs": [],
   "source": [
    "#build MLP\n",
    "class MLP(nn.Module):\n",
    "    def __init__(self):\n",
    "        super(MLP, self).__init__()\n",
    "        self.L1 = nn.Linear(784,512)\n",
    "        self.L2 = nn.Linear(512,128)\n",
    "        self.L3 = nn.Linear(128,10)\n",
    "\n",
    "    def forward(self,din):\n",
    "        din = din.view(-1,28*28)\n",
    "        dout = torch.nn.functional.relu(self.L1(din))\n",
    "        dout = torch.nn.functional.relu(self.L2(dout))\n",
    "        return torch.nn.functional.softmax(self.L3(dout))\n",
    "#calculate accuracy\n",
    "def accuracy(preb,label):\n",
    "    preb = preb.cpu().data.numpy()\n",
    "    label = label.cpu().data.numpy()\n",
    "    test_np = (np.argmax(preb,1)==label)\n",
    "    test_np = np.float32(test_np)\n",
    "    return (100*np.mean(test_np))"
   ]
  },
  {
   "cell_type": "code",
   "execution_count": 26,
   "metadata": {
    "collapsed": true
   },
   "outputs": [],
   "source": [
    "def train(ipnut_data,input_label,momentum):\n",
    "    model = MLP().cuda()\n",
    "    sgd = torch.optim.SGD(model.parameters(),lr = 0.1, momentum = momentum)\n",
    "    lossfunc = torch.nn.CrossEntropyLoss()\n",
    "    trace = []\n",
    "    for n in range(50):\n",
    "        sums = []\n",
    "        for i,data in enumerate(ipnut_data):\n",
    "            sgd.zero_grad()\n",
    "            data = data.type(torch.FloatTensor)\n",
    "            labels = input_label[i*100:i*100+100].type(torch.LongTensor)\n",
    "            inputs = torch.autograd.Variable(data).cuda()\n",
    "            labels = torch.autograd.Variable(labels).cuda()\n",
    "            outputs = model(inputs)\n",
    "            loss = lossfunc(outputs,labels)\n",
    "            loss.backward()\n",
    "            sgd.step()\n",
    "            sums.append(accuracy(outputs,labels))\n",
    "        trace.append(sum(sums)/len(sums))\n",
    "    return trace"
   ]
  },
  {
   "cell_type": "code",
   "execution_count": 27,
   "metadata": {},
   "outputs": [
    {
     "data": {
      "image/png": "[encoded data removed]",
      "text/plain": [
       "<matplotlib.figure.Figure at 0x2ee8d198b70>"
      ]
     },
     "metadata": {},
     "output_type": "display_data"
    }
   ],
   "source": [
    "mo = np.arange(0,1,0.1)\n",
    "plt.title('SGD(Momentum from 0 to 0.9)')\n",
    "for i in range(10):\n",
    "    trace = train(train_data,train_label,mo[i])\n",
    "    plt.plot(trace,label=mo[i])\n",
    "    plt.legend(loc = 'lower right')"
   ]
  },
  {
   "cell_type": "code",
   "execution_count": null,
   "metadata": {
    "collapsed": true
   },
   "outputs": [],
   "source": []
  }
 ],
 "metadata": {
  "kernelspec": {
   "display_name": "Python 3",
   "language": "python",
   "name": "python3"
  },
  "language_info": {
   "codemirror_mode": {
    "name": "ipython",
    "version": 3
   },
   "file_extension": ".py",
   "mimetype": "text/x-python",
   "name": "python",
   "nbconvert_exporter": "python",
   "pygments_lexer": "ipython3",
   "version": "3.6.3"
  }
 },
 "nbformat": 4,
 "nbformat_minor": 2
}
