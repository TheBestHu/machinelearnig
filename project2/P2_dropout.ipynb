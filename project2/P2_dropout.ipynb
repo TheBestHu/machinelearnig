{
 "cells": [
  {
   "cell_type": "code",
   "execution_count": 2,
   "metadata": {
    "collapsed": true
   },
   "outputs": [],
   "source": [
    "import os\n",
    "import numpy as np\n",
    "import struct\n",
    "from numpy import zeros\n",
    "import array\n",
    "import matplotlib\n",
    "from matplotlib import pyplot as plt\n",
    "import scipy\n",
    "from scipy import misc\n",
    "import time\n",
    "%matplotlib inline"
   ]
  },
  {
   "cell_type": "code",
   "execution_count": 3,
   "metadata": {
    "collapsed": true
   },
   "outputs": [],
   "source": [
    "def load_mnist(dataset=\"training\", digits=np.arange(10), path=\".\", size = 60000):\n",
    "    if dataset == \"training\":\n",
    "        fname_img = os.path.join(path, 'train-images.idx3-ubyte')\n",
    "        fname_lbl = os.path.join(path, 'train-labels.idx1-ubyte')\n",
    "    elif dataset == \"testing\":\n",
    "        fname_img = os.path.join(path, 't10k-images.idx3-ubyte')\n",
    "        fname_lbl = os.path.join(path, 't10k-labels.idx1-ubyte')\n",
    "    else:\n",
    "        raise ValueError(\"dataset must be 'testing' or 'training'\")\n",
    "\n",
    "    flbl = open(fname_lbl, 'rb')\n",
    "    magic_nr, size = struct.unpack(\">II\", flbl.read(8))\n",
    "    lbl = array.array(\"b\", flbl.read())\n",
    "    flbl.close()\n",
    "\n",
    "    fimg = open(fname_img, 'rb')\n",
    "    magic_nr, size, rows, cols = struct.unpack(\">IIII\", fimg.read(16))\n",
    "    img = array.array(\"B\", fimg.read())\n",
    "    fimg.close()\n",
    "\n",
    "    ind = [ k for k in range(size) if lbl[k] in digits ]\n",
    "    N = size #int(len(ind) * size/100.)\n",
    "    images = zeros((N, rows, cols), dtype='uint8')\n",
    "    labels = zeros((N, 1), dtype='int8')\n",
    "    for i in range(N): #int(len(ind) * size/100.)):\n",
    "        images[i] = np.array(img[ ind[i]*rows*cols : (ind[i]+1)*rows*cols ])\\\n",
    "            .reshape((rows, cols))\n",
    "        labels[i] = lbl[ind[i]]\n",
    "    labels = [label[0] for label in labels]\n",
    "    return images, labels"
   ]
  },
  {
   "cell_type": "code",
   "execution_count": 4,
   "metadata": {
    "collapsed": true
   },
   "outputs": [],
   "source": [
    "tr,label = load_mnist(\"training\")\n",
    "tr_label = np.array(label,dtype = np.long)\n",
    "te,te_label = load_mnist(\"testing\")\n",
    "te_label = np.array(te_label,dtype = np.long)"
   ]
  },
  {
   "cell_type": "code",
   "execution_count": 5,
   "metadata": {
    "collapsed": true
   },
   "outputs": [],
   "source": [
    "#scipy.misc.imread(d_tr)\n",
    "def resize_data(dataset,size):\n",
    "    rd = np.zeros((len(dataset),size,size))\n",
    "    for img in range(len(dataset)):\n",
    "        rd[img] = scipy.misc.imresize(dataset[img],(14,14))\n",
    "    return rd"
   ]
  },
  {
   "cell_type": "code",
   "execution_count": 6,
   "metadata": {
    "collapsed": true
   },
   "outputs": [],
   "source": [
    "#resize the data set to 14*14\n",
    "tr_14 = resize_data(tr,14)\n",
    "te_14 = resize_data(te,14)"
   ]
  },
  {
   "cell_type": "code",
   "execution_count": 7,
   "metadata": {
    "collapsed": true
   },
   "outputs": [],
   "source": [
    "# import needed library for MLP \n",
    "import torch\n",
    "import torch.nn as nn\n",
    "import torch.nn.functional\n",
    "import torch.utils.data\n",
    "from torch.autograd import Variable"
   ]
  },
  {
   "cell_type": "code",
   "execution_count": 8,
   "metadata": {
    "collapsed": true
   },
   "outputs": [],
   "source": [
    "# generalize\n",
    "tr = tr/256\n",
    "te = te/256\n",
    "tr_14 = tr_14/256\n",
    "te_14 = te_14/256"
   ]
  },
  {
   "cell_type": "code",
   "execution_count": 27,
   "metadata": {
    "collapsed": true
   },
   "outputs": [],
   "source": [
    "# import dataset yo torch dataloader\n",
    "train_data =torch.utils.data.DataLoader(torch.from_numpy(tr),batch_size = 100)\n",
    "test_data =torch.utils.data.DataLoader(torch.from_numpy(te),batch_size = 100)\n",
    "train_data_14 = torch.utils.data.DataLoader(torch.from_numpy(tr_14),batch_size = 100)\n",
    "test_data_14 = torch.utils.data.DataLoader(torch.from_numpy(te_14),batch_size = 100)\n",
    "train_label =torch.from_numpy(tr_label)\n",
    "test_label = torch.from_numpy(te_label)"
   ]
  },
  {
   "cell_type": "code",
   "execution_count": 28,
   "metadata": {},
   "outputs": [],
   "source": [
    "\n",
    "#calculate accuracy\n",
    "def accuracy(preb,label):\n",
    "    preb = preb.cpu().data.numpy()\n",
    "    label = label.cpu().data.numpy()\n",
    "    test_np = (np.argmax(preb,1)==label)\n",
    "    test_np = np.float32(test_np)\n",
    "    return (100*np.mean(test_np))"
   ]
  },
  {
   "cell_type": "code",
   "execution_count": 56,
   "metadata": {
    "collapsed": true
   },
   "outputs": [],
   "source": [
    "#build MLP add dropout\n",
    "num_drop = 0.4\n",
    "class MLP_28_dropout(nn.Module):\n",
    "    def __init__(self):\n",
    "        super(MLP_28_dropout, self).__init__()\n",
    "        self.L1 = nn.Linear(784,512)\n",
    "        self.drop1 = nn.Dropout(num_drop)\n",
    "        self.L2 = nn.Linear(512,128)\n",
    "        self.drop2 = nn.Dropout(num_drop)\n",
    "        self.L3 = nn.Linear(128,10)\n",
    "    def forward(self,din):\n",
    "        din = din.view(-1,28*28)\n",
    "        dout = torch.nn.functional.relu(self.drop1(self.L1(din)))\n",
    "        dout = torch.nn.functional.relu(self.drop2(self.L2(dout)))\n",
    "        return torch.nn.functional.softmax(self.L3(dout))\n",
    "# without dropout\n",
    "class MLP_28(nn.Module):\n",
    "    def __init__(self):\n",
    "        super(MLP_28, self).__init__()\n",
    "        self.L1 = nn.Linear(784,512)\n",
    "        self.L2 = nn.Linear(512,128)\n",
    "        self.L3 = nn.Linear(128,10)\n",
    "    def forward(self,din):\n",
    "        din = din.view(-1,28*28)\n",
    "        dout = torch.nn.functional.relu(self.L1(din))\n",
    "        dout = torch.nn.functional.relu(self.L2(dout))\n",
    "        return torch.nn.functional.softmax(self.L3(dout))"
   ]
  },
  {
   "cell_type": "code",
   "execution_count": 57,
   "metadata": {
    "collapsed": true
   },
   "outputs": [],
   "source": [
    "#dropout 14*14\n",
    "class MLP_14_dropout(nn.Module):\n",
    "    def __init__(self):\n",
    "        super(MLP_14_dropout, self).__init__()\n",
    "        self.L1 = nn.Linear(196,128)\n",
    "        self.drop1 = nn.Dropout(num_drop)\n",
    "        self.L2 = nn.Linear(128,49)\n",
    "        self.drop2 = nn.Dropout(num_drop)\n",
    "        self.L3 = nn.Linear(49,10)\n",
    "\n",
    "    def forward(self,din):\n",
    "        din = din.view(-1,14*14)\n",
    "        dout = torch.nn.functional.relu(self.drop1(self.L1(din)))\n",
    "        dout = torch.nn.functional.relu(self.drop2(self.L2(dout)))\n",
    "        return torch.nn.functional.softmax(self.L3(dout))\n",
    "#without dropout 14*14\n",
    "class MLP_14(nn.Module):\n",
    "    def __init__(self):\n",
    "        super(MLP_14, self).__init__()\n",
    "        self.L1 = nn.Linear(196,128)\n",
    "        self.L2 = nn.Linear(128,49)\n",
    "        self.L3 = nn.Linear(49,10)\n",
    "\n",
    "    def forward(self,din):\n",
    "        din = din.view(-1,14*14)\n",
    "        dout = torch.nn.functional.relu(self.L1(din))\n",
    "        dout = torch.nn.functional.relu(self.L2(dout))\n",
    "        return torch.nn.functional.softmax(self.L3(dout))"
   ]
  },
  {
   "cell_type": "code",
   "execution_count": 58,
   "metadata": {
    "collapsed": true
   },
   "outputs": [],
   "source": [
    "def train_28(input_data,input_label,momentum):\n",
    "    model = MLP_28().cuda()\n",
    "    sgd = torch.optim.SGD(model.parameters(),lr = 0.1, momentum = momentum)\n",
    "    lossfunc = torch.nn.CrossEntropyLoss()\n",
    "    trace = []\n",
    "    for n in range(50):\n",
    "        sums = []\n",
    "        for i,data in enumerate(input_data):\n",
    "            sgd.zero_grad()\n",
    "            data = data.type(torch.FloatTensor)\n",
    "            labels = input_label[i*100:i*100+100].type(torch.LongTensor)\n",
    "            inputs = torch.autograd.Variable(data).cuda()\n",
    "            labels = torch.autograd.Variable(labels).cuda()\n",
    "            outputs = model(inputs)\n",
    "            loss = lossfunc(outputs,labels)\n",
    "            loss.backward()\n",
    "            sgd.step()\n",
    "            sums.append(accuracy(outputs,labels))\n",
    "        trace.append(sum(sums)/len(sums))\n",
    "    return trace\n",
    "def train_28_drop(input_data,input_label,momentum):\n",
    "    model = MLP_28_dropout().cuda()\n",
    "    sgd = torch.optim.SGD(model.parameters(),lr = 0.1, momentum = momentum)\n",
    "    lossfunc = torch.nn.CrossEntropyLoss()\n",
    "    trace = []\n",
    "    for n in range(50):\n",
    "        sums = []\n",
    "        for i,data in enumerate(input_data):\n",
    "            sgd.zero_grad()\n",
    "            data = data.type(torch.FloatTensor)\n",
    "            labels = input_label[i*100:i*100+100].type(torch.LongTensor)\n",
    "            inputs = torch.autograd.Variable(data).cuda()\n",
    "            labels = torch.autograd.Variable(labels).cuda()\n",
    "            outputs = model(inputs)\n",
    "            loss = lossfunc(outputs,labels)\n",
    "            loss.backward()\n",
    "            sgd.step()\n",
    "            sums.append(accuracy(outputs,labels))\n",
    "        trace.append(sum(sums)/len(sums))\n",
    "    return trace"
   ]
  },
  {
   "cell_type": "code",
   "execution_count": 59,
   "metadata": {
    "collapsed": true
   },
   "outputs": [],
   "source": [
    "def train_14_drop(input_data,input_label,momentum):\n",
    "    model = MLP_14_dropout().cuda()\n",
    "    sgd = torch.optim.SGD(model.parameters(),lr = 0.1, momentum = momentum)\n",
    "    lossfunc = torch.nn.CrossEntropyLoss()\n",
    "    trace = []\n",
    "    for n in range(50):\n",
    "        sums = []\n",
    "        for i,data in enumerate(input_data):\n",
    "            sgd.zero_grad()\n",
    "            data = data.type(torch.FloatTensor)\n",
    "            labels = input_label[i*100:i*100+100].type(torch.LongTensor)\n",
    "            inputs = torch.autograd.Variable(data).cuda()\n",
    "            labels = torch.autograd.Variable(labels).cuda()\n",
    "            outputs = model(inputs)\n",
    "            loss = lossfunc(outputs,labels)\n",
    "            loss.backward()\n",
    "            sgd.step()\n",
    "            sums.append(accuracy(outputs,labels))\n",
    "        trace.append(sum(sums)/len(sums))\n",
    "    return trace\n",
    "\n",
    "def train_14(input_data,input_label,momentum):\n",
    "    model = MLP_14().cuda()\n",
    "    sgd = torch.optim.SGD(model.parameters(),lr = 0.1, momentum = momentum)\n",
    "    lossfunc = torch.nn.CrossEntropyLoss()\n",
    "    trace = []\n",
    "    for n in range(50):\n",
    "        sums = []\n",
    "        for i,data in enumerate(input_data):\n",
    "            sgd.zero_grad()\n",
    "            data = data.type(torch.FloatTensor)\n",
    "            labels = input_label[i*100:i*100+100].type(torch.LongTensor)\n",
    "            inputs = torch.autograd.Variable(data).cuda()\n",
    "            labels = torch.autograd.Variable(labels).cuda()\n",
    "            outputs = model(inputs)\n",
    "            loss = lossfunc(outputs,labels)\n",
    "            loss.backward()\n",
    "            sgd.step()\n",
    "            sums.append(accuracy(outputs,labels))\n",
    "        trace.append(sum(sums)/len(sums))\n",
    "    return trace"
   ]
  },
  {
   "cell_type": "code",
   "execution_count": 60,
   "metadata": {},
   "outputs": [],
   "source": [
    "trace1 = train_28_drop(train_data,train_label,0.9)\n",
    "trace2 = train_28(train_data,train_label,0.9)\n",
    "trace3 = train_14_drop(train_data_14,train_label,0.9)\n",
    "trace4 = train_14(train_data_14,train_label,0.9)"
   ]
  },
  {
   "cell_type": "code",
   "execution_count": 61,
   "metadata": {},
   "outputs": [
    {
     "data": {
      "image/png": "[encoded data removed]",
      "text/plain": [
       "<matplotlib.figure.Figure at 0x291a066add8>"
      ]
     },
     "metadata": {},
     "output_type": "display_data"
    }
   ],
   "source": [
    "plt.plot(trace1,label='Add Dropout(28*28)')\n",
    "plt.legend(loc='lower right')\n",
    "plt.plot(trace2,label='No Dropout(28*28)')\n",
    "plt.legend(loc='lower right')\n",
    "plt.plot(trace3,label='Add Dropout(14*14)')\n",
    "plt.legend(loc='lower right')\n",
    "plt.plot(trace4,label='No Dropout(14*14)')\n",
    "plt.legend(loc='lower right')\n",
    "plt.title('Dropout With Probability = 0.4')\n",
    "plt.savefig('dropoutwithP=0.4.png')"
   ]
  },
  {
   "cell_type": "code",
   "execution_count": 63,
   "metadata": {},
   "outputs": [
    {
     "ename": "NameError",
     "evalue": "name 'model' is not defined",
     "output_type": "error",
     "traceback": [
      "\u001b[1;31m---------------------------------------------------------------------------\u001b[0m",
      "\u001b[1;31mNameError\u001b[0m                                 Traceback (most recent call last)",
      "\u001b[1;32m<ipython-input-63-519b5c098bc7>\u001b[0m in \u001b[0;36m<module>\u001b[1;34m()\u001b[0m\n\u001b[0;32m      1\u001b[0m \u001b[1;31m# save model\u001b[0m\u001b[1;33m\u001b[0m\u001b[1;33m\u001b[0m\u001b[0m\n\u001b[0;32m      2\u001b[0m \u001b[0mPATH\u001b[0m \u001b[1;33m=\u001b[0m \u001b[1;34m'.'\u001b[0m\u001b[1;33m\u001b[0m\u001b[0m\n\u001b[1;32m----> 3\u001b[1;33m \u001b[0mtorch\u001b[0m\u001b[1;33m.\u001b[0m\u001b[0msave\u001b[0m\u001b[1;33m(\u001b[0m\u001b[0mmodel\u001b[0m\u001b[1;33m.\u001b[0m\u001b[0mstate_dict\u001b[0m\u001b[1;33m(\u001b[0m\u001b[1;33m)\u001b[0m\u001b[1;33m,\u001b[0m \u001b[0mPATH\u001b[0m\u001b[1;33m)\u001b[0m\u001b[1;33m\u001b[0m\u001b[0m\n\u001b[0m\u001b[0;32m      4\u001b[0m \u001b[0mtorch\u001b[0m\u001b[1;33m.\u001b[0m\u001b[0msave\u001b[0m\u001b[1;33m(\u001b[0m\u001b[0mmodel\u001b[0m\u001b[1;33m,\u001b[0m \u001b[0mPATH\u001b[0m\u001b[1;33m)\u001b[0m\u001b[1;33m\u001b[0m\u001b[0m\n",
      "\u001b[1;31mNameError\u001b[0m: name 'model' is not defined"
     ]
    }
   ],
   "source": [
    "# save model\n",
    "PATH = '.'\n",
    "torch.save(model.state_dict(), PATH)\n",
    "torch.save(model, PATH)"
   ]
  },
  {
   "cell_type": "code",
   "execution_count": null,
   "metadata": {
    "collapsed": true
   },
   "outputs": [],
   "source": []
  }
 ],
 "metadata": {
  "kernelspec": {
   "display_name": "Python 3",
   "language": "python",
   "name": "python3"
  },
  "language_info": {
   "codemirror_mode": {
    "name": "ipython",
    "version": 3
   },
   "file_extension": ".py",
   "mimetype": "text/x-python",
   "name": "python",
   "nbconvert_exporter": "python",
   "pygments_lexer": "ipython3",
   "version": "3.6.3"
  }
 },
 "nbformat": 4,
 "nbformat_minor": 2
}
