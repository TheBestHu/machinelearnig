{
 "cells": [
  {
   "cell_type": "code",
   "execution_count": 88,
   "metadata": {
    "collapsed": true
   },
   "outputs": [],
   "source": [
    "import os\n",
    "import numpy as np\n",
    "import struct\n",
    "from numpy import zeros\n",
    "import array\n",
    "import matplotlib\n",
    "from matplotlib import pyplot as plt\n",
    "import scipy\n",
    "from scipy import misc\n",
    "import time\n",
    "%matplotlib inline"
   ]
  },
  {
   "cell_type": "code",
   "execution_count": 89,
   "metadata": {
    "collapsed": true
   },
   "outputs": [],
   "source": [
    "def load_mnist(dataset=\"training\", digits=np.arange(10), path=\".\", size = 60000):\n",
    "    if dataset == \"training\":\n",
    "        fname_img = os.path.join(path, 'train-images.idx3-ubyte')\n",
    "        fname_lbl = os.path.join(path, 'train-labels.idx1-ubyte')\n",
    "    elif dataset == \"testing\":\n",
    "        fname_img = os.path.join(path, 't10k-images.idx3-ubyte')\n",
    "        fname_lbl = os.path.join(path, 't10k-labels.idx1-ubyte')\n",
    "    else:\n",
    "        raise ValueError(\"dataset must be 'testing' or 'training'\")\n",
    "\n",
    "    flbl = open(fname_lbl, 'rb')\n",
    "    magic_nr, size = struct.unpack(\">II\", flbl.read(8))\n",
    "    lbl = array.array(\"b\", flbl.read())\n",
    "    flbl.close()\n",
    "\n",
    "    fimg = open(fname_img, 'rb')\n",
    "    magic_nr, size, rows, cols = struct.unpack(\">IIII\", fimg.read(16))\n",
    "    img = array.array(\"B\", fimg.read())\n",
    "    fimg.close()\n",
    "\n",
    "    ind = [ k for k in range(size) if lbl[k] in digits ]\n",
    "    N = size #int(len(ind) * size/100.)\n",
    "    images = zeros((N, rows, cols), dtype='uint8')\n",
    "    labels = zeros((N, 1), dtype='int8')\n",
    "    for i in range(N): #int(len(ind) * size/100.)):\n",
    "        images[i] = np.array(img[ ind[i]*rows*cols : (ind[i]+1)*rows*cols ])\\\n",
    "            .reshape((rows, cols))\n",
    "        labels[i] = lbl[ind[i]]\n",
    "    labels = [label[0] for label in labels]\n",
    "    return images, labels"
   ]
  },
  {
   "cell_type": "code",
   "execution_count": 90,
   "metadata": {
    "collapsed": true
   },
   "outputs": [],
   "source": [
    "tr,label = load_mnist(\"training\")\n",
    "tr_label = np.array(label,dtype = np.long)\n",
    "tr_data = tr[0:50000]\n",
    "va_data = tr[50000:60000]\n",
    "train_label = tr_label[0:50000]\n",
    "validate_label = tr_label[50000:60000]\n",
    "te,te_label = load_mnist(\"testing\")\n",
    "te_label = np.array(te_label,dtype = np.long)"
   ]
  },
  {
   "cell_type": "code",
   "execution_count": 134,
   "metadata": {},
   "outputs": [
    {
     "name": "stdout",
     "output_type": "stream",
     "text": [
      "(10000,)\n"
     ]
    }
   ],
   "source": [
    "print(te_label.shape)"
   ]
  },
  {
   "cell_type": "code",
   "execution_count": 91,
   "metadata": {
    "collapsed": true
   },
   "outputs": [],
   "source": [
    "#scipy.misc.imread(d_tr)\n",
    "def resize_data(dataset,size):\n",
    "    rd = np.zeros((len(dataset),size,size))\n",
    "    for img in range(len(dataset)):\n",
    "        rd[img] = scipy.misc.imresize(dataset[img],(size,size))\n",
    "    return rd"
   ]
  },
  {
   "cell_type": "code",
   "execution_count": 92,
   "metadata": {
    "collapsed": true
   },
   "outputs": [],
   "source": [
    "#resize the data set to 14*14\n",
    "train = resize_data(tr_data,14)\n",
    "test = resize_data(te,14)\n",
    "validate = resize_data(tr_data,14)"
   ]
  },
  {
   "cell_type": "code",
   "execution_count": 93,
   "metadata": {
    "collapsed": true
   },
   "outputs": [],
   "source": [
    "# import needed library for MLP \n",
    "import torch\n",
    "import torch.nn as nn\n",
    "import torch.nn.functional\n",
    "import torch.utils.data\n",
    "from torch.autograd import Variable"
   ]
  },
  {
   "cell_type": "code",
   "execution_count": 94,
   "metadata": {
    "collapsed": true
   },
   "outputs": [],
   "source": [
    "# generalize\n",
    "train = train/256\n",
    "test = test/256\n",
    "validate = validate/256"
   ]
  },
  {
   "cell_type": "code",
   "execution_count": 95,
   "metadata": {
    "collapsed": true
   },
   "outputs": [],
   "source": [
    "# import dataset yo torch dataloader\n",
    "train_data =torch.utils.data.DataLoader(torch.from_numpy(train),batch_size = 100)\n",
    "test_data =torch.utils.data.DataLoader(torch.from_numpy(test),batch_size = 100)\n",
    "validate_data = torch.utils.data.DataLoader(torch.from_numpy(validate),batch_size = 100)\n",
    "t_label =torch.from_numpy(train_label)\n",
    "e_label = torch.from_numpy(te_label)\n",
    "v_label = torch.from_numpy(validate_label)"
   ]
  },
  {
   "cell_type": "code",
   "execution_count": 111,
   "metadata": {
    "collapsed": true
   },
   "outputs": [],
   "source": [
    "#build MLP\n",
    "class MLP(nn.Module):\n",
    "    def __init__(self):\n",
    "        super(MLP, self).__init__()\n",
    "        self.L1 = nn.Linear(196,700)\n",
    "        self.drop1 = nn.Dropout(0.3)\n",
    "        self.L2 = nn.Linear(700,300)\n",
    "        self.drop2 = nn.Dropout(0.3)\n",
    "        self.L3 = nn.Linear(300,10)\n",
    "\n",
    "    def forward(self,din):\n",
    "        din = din.view(-1,196)\n",
    "        dout = torch.nn.functional.relu(self.drop1(self.L1(din)))\n",
    "        dout = torch.nn.functional.relu(self.drop2(self.L2(dout)))\n",
    "        return torch.nn.functional.softmax(self.L3(dout))\n",
    "#calculate accuracy\n",
    "def accuracy(preb,label):\n",
    "    preb = preb.cpu().data.numpy()\n",
    "    label = label.cpu().data.numpy()\n",
    "    test_np = (np.argmax(preb,1)==label)\n",
    "    test_np = np.float32(test_np)\n",
    "    return (100*np.mean(test_np))    "
   ]
  },
  {
   "cell_type": "code",
   "execution_count": 112,
   "metadata": {},
   "outputs": [],
   "source": [
    "def varification(ver_data,ver_label,var_model):\n",
    "    var_sums=[]\n",
    "    for n,var in enumerate(ver_data):\n",
    "        var = var.type(torch.FloatTensor)\n",
    "        var_label = ver_label[n*100:n*100+100].type(torch.LongTensor)\n",
    "        var_input = torch.autograd.Variable(var).cuda()\n",
    "        var_label = torch.autograd.Variable(var_label).cuda()\n",
    "        var_output = var_model(var_input)\n",
    "        var_sums.append(accuracy(var_output,var_label))\n",
    "    return(sum(var_sums)/len(var_sums))"
   ]
  },
  {
   "cell_type": "code",
   "execution_count": 136,
   "metadata": {},
   "outputs": [],
   "source": [
    "model = MLP().cuda()\n",
    "sgd = torch.optim.SGD(model.parameters(),lr = 0.1,momentum = 0)\n",
    "lossfunc = torch.nn.CrossEntropyLoss()\n",
    "trace = []\n",
    "trace_loss=[]\n",
    "trace_acc = np.zeros((20,1))\n",
    "for n in range(20):\n",
    "    sums = []\n",
    "    sum_loss=[]\n",
    "    for i,data in enumerate(train_data):\n",
    "        sgd.zero_grad()\n",
    "        data = data.type(torch.FloatTensor)\n",
    "        labels = t_label[i*100:i*100+100].type(torch.LongTensor)\n",
    "        inputs = torch.autograd.Variable(data).cuda()\n",
    "        labels = torch.autograd.Variable(labels).cuda()\n",
    "        outputs = model(inputs)\n",
    "        loss = lossfunc(outputs,labels)\n",
    "        sum_loss.append(loss.cpu().data.numpy())\n",
    "        sums.append(accuracy(outputs,labels))\n",
    "        loss.backward()\n",
    "        sgd.step()\n",
    "    model1 = model\n",
    "    trace_acc[n] = varification(test_data,e_label,model1)\n",
    "    trace_loss.append(sum(sum_loss)/len(sum_loss))\n",
    "    trace.append(sum(sums)/len(sums))"
   ]
  },
  {
   "cell_type": "code",
   "execution_count": 137,
   "metadata": {},
   "outputs": [
    {
     "name": "stdout",
     "output_type": "stream",
     "text": [
      "93.1640002012\n"
     ]
    }
   ],
   "source": [
    "print(trace[19])"
   ]
  },
  {
   "cell_type": "code",
   "execution_count": 126,
   "metadata": {
    "collapsed": true
   },
   "outputs": [],
   "source": [
    "#calculate accuracy\n",
    "def vector(preb):\n",
    "    preb = preb.cpu().data.numpy()\n",
    "    test_np = np.argmax(preb,1)\n",
    "    return test_np"
   ]
  },
  {
   "cell_type": "code",
   "execution_count": 131,
   "metadata": {},
   "outputs": [],
   "source": [
    "sums = []\n",
    "pred = np.zeros((10000,1))\n",
    "for i,data in enumerate(test_data):\n",
    "    data = data.type(torch.FloatTensor)\n",
    "    labels = e_label[i*100:i*100+100].type(torch.LongTensor)\n",
    "    inputs = torch.autograd.Variable(data).cuda()\n",
    "    labels = torch.autograd.Variable(labels).cuda()\n",
    "    outputs = model(inputs)\n",
    "    sums.append(accuracy(outputs,labels))\n",
    "    vect=vector(outputs)\n",
    "    for n in range(100):\n",
    "        pred[i*100+n]=vect[n]"
   ]
  },
  {
   "cell_type": "code",
   "execution_count": 124,
   "metadata": {},
   "outputs": [],
   "source": [
    "from sklearn.metrics import confusion_matrix"
   ]
  },
  {
   "cell_type": "code",
   "execution_count": 135,
   "metadata": {},
   "outputs": [
    {
     "data": {
      "text/plain": [
       "array([[ 973,    1,    3,    0,    0,    2,    2,    0,    3,    3],\n",
       "       [   0, 1128,    0,    0,    0,    0,    3,    3,    0,    2],\n",
       "       [   1,    0, 1020,    3,    5,    0,    0,    9,    4,    0],\n",
       "       [   0,    0,    2,  994,    0,    7,    1,    0,    7,    4],\n",
       "       [   0,    0,    2,    0,  964,    1,    7,    1,    1,    9],\n",
       "       [   0,    2,    0,    6,    0,  873,    3,    0,    3,    4],\n",
       "       [   5,    1,    1,    0,    1,    2,  941,    0,    0,    1],\n",
       "       [   1,    1,    2,    4,    3,    1,    0, 1008,    2,    2],\n",
       "       [   0,    2,    2,    2,    1,    4,    1,    2,  952,    4],\n",
       "       [   0,    0,    0,    1,    8,    2,    0,    5,    2,  980]], dtype=int64)"
      ]
     },
     "execution_count": 135,
     "metadata": {},
     "output_type": "execute_result"
    }
   ],
   "source": [
    "confusion_matrix(pred,te_label,labels=None,sample_weight=None)"
   ]
  },
  {
   "cell_type": "code",
   "execution_count": 27,
   "metadata": {
    "collapsed": true
   },
   "outputs": [],
   "source": [
    "l = [1,2,3,4]\n",
    "d=[]\n",
    "d.append(l)"
   ]
  },
  {
   "cell_type": "code",
   "execution_count": 167,
   "metadata": {},
   "outputs": [
    {
     "data": {
      "text/plain": [
       "[<matplotlib.lines.Line2D at 0x1f286c7bcc0>]"
      ]
     },
     "execution_count": 167,
     "metadata": {},
     "output_type": "execute_result"
    },
    {
     "data": {
      "image/png": "[encoded data removed]",
      "text/plain": [
       "<matplotlib.figure.Figure at 0x1f2801862e8>"
      ]
     },
     "metadata": {},
     "output_type": "display_data"
    }
   ],
   "source": [
    "plt.plot(trace)"
   ]
  },
  {
   "cell_type": "code",
   "execution_count": 169,
   "metadata": {},
   "outputs": [
    {
     "data": {
      "text/plain": [
       "[<matplotlib.lines.Line2D at 0x1f2fa388320>]"
      ]
     },
     "execution_count": 169,
     "metadata": {},
     "output_type": "execute_result"
    },
    {
     "data": {
      "image/png": "[encoded data removed]",
      "text/plain": [
       "<matplotlib.figure.Figure at 0x1f2f8a08a20>"
      ]
     },
     "metadata": {},
     "output_type": "display_data"
    }
   ],
   "source": [
    "plt.plot(trace_loss)"
   ]
  },
  {
   "cell_type": "code",
   "execution_count": null,
   "metadata": {
    "collapsed": true
   },
   "outputs": [],
   "source": []
  }
 ],
 "metadata": {
  "kernelspec": {
   "display_name": "Python 3",
   "language": "python",
   "name": "python3"
  },
  "language_info": {
   "codemirror_mode": {
    "name": "ipython",
    "version": 3
   },
   "file_extension": ".py",
   "mimetype": "text/x-python",
   "name": "python",
   "nbconvert_exporter": "python",
   "pygments_lexer": "ipython3",
   "version": "3.6.3"
  }
 },
 "nbformat": 4,
 "nbformat_minor": 2
}
